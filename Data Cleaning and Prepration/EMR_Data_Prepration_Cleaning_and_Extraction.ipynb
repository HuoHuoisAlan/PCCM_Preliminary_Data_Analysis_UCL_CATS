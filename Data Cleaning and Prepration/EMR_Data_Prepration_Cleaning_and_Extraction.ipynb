{
 "cells": [
  {
   "cell_type": "code",
   "execution_count": null,
   "metadata": {},
   "outputs": [],
   "source": [
    "import numpy as np # linear algebra\n",
    "import pandas as pd # data processing, CSV file I/O (e.g. pd.read_csv)\n",
    "import matplotlib.pyplot as plt # plot figures\n",
    "import seaborn as sns # plot figures\n",
    "import plotly.express as px\n",
    "from datetime import datetime\n",
    "from collections import Counter\n",
    "from matplotlib.ticker import MaxNLocator\n",
    "import matplotlib.gridspec as gridspec\n",
    "\n",
    "import math\n",
    "import random\n",
    "import os\n",
    "import time\n",
    "\n",
    "import warnings\n",
    "warnings.filterwarnings('ignore') "
   ]
  },
  {
   "cell_type": "code",
   "execution_count": null,
   "metadata": {},
   "outputs": [],
   "source": [
    "raw_patient = pd.read_csv(\"cats_data_extract_20210920_master_deid.csv\")\n",
    "raw_patient = raw_patient.reset_index(drop = True)"
   ]
  },
  {
   "cell_type": "code",
   "execution_count": null,
   "metadata": {},
   "outputs": [],
   "source": [
    "raw_patient.head(2)"
   ]
  },
  {
   "cell_type": "code",
   "execution_count": null,
   "metadata": {},
   "outputs": [],
   "source": [
    "len(raw_patient)"
   ]
  },
  {
   "cell_type": "markdown",
   "metadata": {},
   "source": [
    " ## Select patients transported after First July, 2016"
   ]
  },
  {
   "cell_type": "code",
   "execution_count": null,
   "metadata": {},
   "outputs": [],
   "source": [
    "raw_patient = raw_patient[34:-1]"
   ]
  },
  {
   "cell_type": "markdown",
   "metadata": {},
   "source": [
    "# Remove blank in the column name"
   ]
  },
  {
   "cell_type": "code",
   "execution_count": null,
   "metadata": {},
   "outputs": [],
   "source": [
    "raw_patient.rename(str.strip, axis='columns',inplace=True)"
   ]
  },
  {
   "cell_type": "code",
   "execution_count": null,
   "metadata": {},
   "outputs": [],
   "source": [
    "raw_patient.columns"
   ]
  },
  {
   "cell_type": "markdown",
   "metadata": {},
   "source": [
    "## Filter patients who's referral is accepted for CATS transport"
   ]
  },
  {
   "cell_type": "code",
   "execution_count": null,
   "metadata": {},
   "outputs": [],
   "source": [
    "df_all_patients = raw_patient[raw_patient.referral_outcome.str.contains('Accepted',na=False)]"
   ]
  },
  {
   "cell_type": "code",
   "execution_count": null,
   "metadata": {},
   "outputs": [],
   "source": [
    "df_all_patients = df_all_patients.reset_index(drop = True)"
   ]
  },
  {
   "cell_type": "code",
   "execution_count": null,
   "metadata": {},
   "outputs": [],
   "source": [
    "print(\"length of df_all_patients:\",len(df_all_patients))"
   ]
  },
  {
   "cell_type": "code",
   "execution_count": null,
   "metadata": {},
   "outputs": [],
   "source": [
    "# Calcualte how many patients have vital sign data files"
   ]
  },
  {
   "cell_type": "code",
   "execution_count": null,
   "metadata": {},
   "outputs": [],
   "source": [
    "print(len(df_all_patients[df_all_patients[\"csv_files\"] == df_all_patients[\"csv_files\"]]))"
   ]
  },
  {
   "cell_type": "code",
   "execution_count": null,
   "metadata": {},
   "outputs": [],
   "source": [
    "df_all_patients.head(3)"
   ]
  },
  {
   "cell_type": "code",
   "execution_count": null,
   "metadata": {},
   "outputs": [],
   "source": [
    "df_all_patients.isnull().sum()"
   ]
  },
  {
   "cell_type": "markdown",
   "metadata": {},
   "source": [
    "# Add a destination Column\n",
    "- if the transport dest is great ormand hospital london (GOSH)"
   ]
  },
  {
   "cell_type": "code",
   "execution_count": null,
   "metadata": {},
   "outputs": [],
   "source": [
    "hospital_name_list = df_all_patients['Destination Unit'].unique().tolist()\n",
    "hospital_name_list"
   ]
  },
  {
   "cell_type": "code",
   "execution_count": null,
   "metadata": {},
   "outputs": [],
   "source": [
    "# Check the nan value's data type - nan-> float\n",
    "nanElement = [x for x in hospital_name_list if isinstance(x,float)]\n",
    "nanElement[0]"
   ]
  },
  {
   "cell_type": "code",
   "execution_count": null,
   "metadata": {},
   "outputs": [],
   "source": [
    "# Remove nan values in hospital name\n",
    "hospital_name_list.remove(nanElement[0])\n",
    "hospital_name_list"
   ]
  },
  {
   "cell_type": "code",
   "execution_count": null,
   "metadata": {},
   "outputs": [],
   "source": [
    "matching = [s for s in hospital_name_list if \"great ormond\" in s.lower()]\n",
    "matching"
   ]
  },
  {
   "cell_type": "code",
   "execution_count": null,
   "metadata": {},
   "outputs": [],
   "source": [
    "for i in range(0,len(df_all_patients)):\n",
    "    if df_all_patients.iloc[i]['Destination Unit'] in matching:\n",
    "        df_all_patients.at[i,'dest_is_GOSH'] = 'Yes'\n",
    "        #print(df_all_patients.iloc[i]['Destination Unit'])\n",
    "    else:\n",
    "        df_all_patients.at[i,'dest_is_GOSH'] = 'No'"
   ]
  },
  {
   "cell_type": "code",
   "execution_count": null,
   "metadata": {},
   "outputs": [],
   "source": [
    "df_all_patients['dest_is_GOSH'].unique()"
   ]
  },
  {
   "cell_type": "code",
   "execution_count": null,
   "metadata": {},
   "outputs": [],
   "source": [
    "print('The number of transports to GOSH is: ',len(df_all_patients[df_all_patients['dest_is_GOSH'] == 'Yes']))"
   ]
  },
  {
   "cell_type": "code",
   "execution_count": null,
   "metadata": {},
   "outputs": [],
   "source": [
    "df_all_patients.head(3)"
   ]
  },
  {
   "cell_type": "code",
   "execution_count": null,
   "metadata": {},
   "outputs": [],
   "source": [
    "len(df_all_patients)"
   ]
  },
  {
   "cell_type": "markdown",
   "metadata": {},
   "source": [
    "## We can notice that there are missing values and blank/null values in some columns.\n",
    "- Applying appropriate methods to fill in missing values"
   ]
  },
  {
   "cell_type": "markdown",
   "metadata": {},
   "source": [
    "#### Check gender"
   ]
  },
  {
   "cell_type": "code",
   "execution_count": null,
   "metadata": {},
   "outputs": [],
   "source": [
    "df_all_patients['gender'].unique()"
   ]
  },
  {
   "cell_type": "code",
   "execution_count": null,
   "metadata": {},
   "outputs": [],
   "source": [
    "gender_missing = df_all_patients[df_all_patients['gender'] != df_all_patients['gender']]\n",
    "gender_missing"
   ]
  },
  {
   "cell_type": "code",
   "execution_count": null,
   "metadata": {},
   "outputs": [],
   "source": [
    "df_all_patients = df_all_patients.drop(gender_missing.index)\n",
    "\n",
    "# Delete gender = 'Ambiguous', only 1 patient\n",
    "df_all_patients = df_all_patients[df_all_patients['gender'] != 'Ambiguous']\n",
    "\n",
    "# We need reset_index everytime after we delete or add records in the dataframe for correct iteration\n",
    "df_all_patients = df_all_patients.reset_index(drop = True)"
   ]
  },
  {
   "cell_type": "markdown",
   "metadata": {},
   "source": [
    "#### Check age_mon"
   ]
  },
  {
   "cell_type": "code",
   "execution_count": null,
   "metadata": {},
   "outputs": [],
   "source": [
    "age_missing = df_all_patients[df_all_patients['age_mon'] != df_all_patients['age_mon']]\n",
    "len(age_missing)"
   ]
  },
  {
   "cell_type": "code",
   "execution_count": null,
   "metadata": {},
   "outputs": [],
   "source": [
    "age_missing.index"
   ]
  },
  {
   "cell_type": "code",
   "execution_count": null,
   "metadata": {},
   "outputs": [],
   "source": [
    "df_all_patients = df_all_patients.drop(age_missing.index)\n",
    "# We need reset_index everytime after we delete or add records in the dataframe for correct iteration\n",
    "df_all_patients = df_all_patients.reset_index(drop = True)"
   ]
  },
  {
   "cell_type": "code",
   "execution_count": null,
   "metadata": {},
   "outputs": [],
   "source": [
    "# We remove 2 records, so the corrent length should be 6471-2 = 6469\n",
    "print('after removing nan age_mon: ', len(df_all_patients))"
   ]
  },
  {
   "cell_type": "markdown",
   "metadata": {},
   "source": [
    "#### Check PIM3 Score"
   ]
  },
  {
   "cell_type": "code",
   "execution_count": null,
   "metadata": {},
   "outputs": [],
   "source": [
    "PIM3_missing = df_all_patients[df_all_patients['pim3'] == 'Error in PIM3 Score']\n",
    "PIM3_missing[['cats_id','pim3']]"
   ]
  },
  {
   "cell_type": "code",
   "execution_count": null,
   "metadata": {},
   "outputs": [],
   "source": [
    "df_all_patients = df_all_patients.drop(PIM3_missing.index)\n",
    "# We need reset_index everytime after we delete or add records in the dataframe for correct iteration\n",
    "df_all_patients = df_all_patients.reset_index(drop = True)"
   ]
  },
  {
   "cell_type": "code",
   "execution_count": null,
   "metadata": {},
   "outputs": [],
   "source": [
    "# We remove 2 records, so the corrent length should be 6471-2 = 6469\n",
    "print('after removing abnormal PIM3 score: ', len(df_all_patients))"
   ]
  },
  {
   "cell_type": "code",
   "execution_count": null,
   "metadata": {},
   "outputs": [],
   "source": [
    "df_all_patients"
   ]
  },
  {
   "cell_type": "markdown",
   "metadata": {},
   "source": [
    "#### Check vaso_agents\n",
    "- In this column, only the patient who has VASO will be labled as 'Yes'. Other cases would be 'None', including 'None' and NaN"
   ]
  },
  {
   "cell_type": "code",
   "execution_count": null,
   "metadata": {},
   "outputs": [],
   "source": [
    "df_all_patients[['vasoactive_agent_used','vasoactive_agent_name']]"
   ]
  },
  {
   "cell_type": "code",
   "execution_count": null,
   "metadata": {},
   "outputs": [],
   "source": [
    "for i in range(0,len(df_all_patients)):\n",
    "    # If value is Yes, the patient has vaso drug; otherwise, the patient has no vaso drugs\n",
    "    if df_all_patients.iloc[i]['vasoactive_agent_used'] != 'Yes':\n",
    "        df_all_patients.at[i,'vasoactive_agent_used'] = 'None'"
   ]
  },
  {
   "cell_type": "code",
   "execution_count": null,
   "metadata": {},
   "outputs": [],
   "source": [
    "df_all_patients[['vasoactive_agent_used','vasoactive_agent_name']].isnull().sum()"
   ]
  },
  {
   "cell_type": "code",
   "execution_count": null,
   "metadata": {},
   "outputs": [],
   "source": [
    "df_all_patients['vasoactive_agent_used'].unique()"
   ]
  },
  {
   "cell_type": "code",
   "execution_count": null,
   "metadata": {},
   "outputs": [],
   "source": [
    "# We remove 2 records, so the corrent length should be 6471-2 = 6469\n",
    "print('after cleaning VASO: ', len(df_all_patients))"
   ]
  },
  {
   "cell_type": "markdown",
   "metadata": {},
   "source": [
    "#### Check local_interv"
   ]
  },
  {
   "cell_type": "code",
   "execution_count": null,
   "metadata": {},
   "outputs": [],
   "source": [
    "df_all_patients['local_interv'].isnull().sum()"
   ]
  },
  {
   "cell_type": "code",
   "execution_count": null,
   "metadata": {},
   "outputs": [],
   "source": [
    "for i in range(0,len(df_all_patients)):\n",
    "    # If value is Yes, the patient has vaso drug; otherwise, the patient has no vaso drugs\n",
    "    if df_all_patients.iloc[i]['local_interv'] != df_all_patients.iloc[i]['local_interv']:\n",
    "        df_all_patients.at[i,'local_interv'] = 'None'"
   ]
  },
  {
   "cell_type": "code",
   "execution_count": null,
   "metadata": {},
   "outputs": [],
   "source": [
    "df_all_patients['local_interv'].isnull().sum()"
   ]
  },
  {
   "cell_type": "code",
   "execution_count": null,
   "metadata": {},
   "outputs": [],
   "source": [
    "# We remove 2 records, so the corrent length should be 6471-2 = 6469\n",
    "print('after cleaning local_interv: ', len(df_all_patients))"
   ]
  },
  {
   "cell_type": "markdown",
   "metadata": {},
   "source": [
    "#### Check cats_interv"
   ]
  },
  {
   "cell_type": "code",
   "execution_count": null,
   "metadata": {},
   "outputs": [],
   "source": [
    "df_all_patients['cats_interv'].isnull().sum()"
   ]
  },
  {
   "cell_type": "code",
   "execution_count": null,
   "metadata": {},
   "outputs": [],
   "source": [
    "for i in range(0,len(df_all_patients)):\n",
    "    # If value is Yes, the patient has vaso drug; otherwise, the patient has no vaso drugs\n",
    "    if df_all_patients.iloc[i]['cats_interv'] != df_all_patients.iloc[i]['cats_interv']:\n",
    "        df_all_patients.at[i,'cats_interv'] = 'None'"
   ]
  },
  {
   "cell_type": "code",
   "execution_count": null,
   "metadata": {},
   "outputs": [],
   "source": [
    "df_all_patients['cats_interv'].isnull().sum()"
   ]
  },
  {
   "cell_type": "code",
   "execution_count": null,
   "metadata": {},
   "outputs": [],
   "source": [
    "df_all_patients['cats_interv'].unique()"
   ]
  },
  {
   "cell_type": "code",
   "execution_count": null,
   "metadata": {},
   "outputs": [],
   "source": [
    "# We remove 2 records, so the corrent length should be 6471-2 = 6469\n",
    "print('after cleaning cats_interv: ', len(df_all_patients))"
   ]
  },
  {
   "cell_type": "markdown",
   "metadata": {},
   "source": [
    "#### Check inh_no"
   ]
  },
  {
   "cell_type": "code",
   "execution_count": null,
   "metadata": {},
   "outputs": [],
   "source": [
    "df_all_patients['inhaled_no'].isnull().sum()"
   ]
  },
  {
   "cell_type": "code",
   "execution_count": null,
   "metadata": {},
   "outputs": [],
   "source": [
    "for i in range(0,len(df_all_patients)):\n",
    "    # If value is Yes, the patient has vaso drug; otherwise, the patient has no vaso drugs\n",
    "    if df_all_patients.iloc[i]['inhaled_no'] != df_all_patients.iloc[i]['inhaled_no']:\n",
    "        df_all_patients.at[i,'inhaled_no'] = 'No'"
   ]
  },
  {
   "cell_type": "code",
   "execution_count": null,
   "metadata": {},
   "outputs": [],
   "source": [
    "df_all_patients['inhaled_no'].isnull().sum()"
   ]
  },
  {
   "cell_type": "code",
   "execution_count": null,
   "metadata": {},
   "outputs": [],
   "source": [
    "df_all_patients['inhaled_no'].unique()"
   ]
  },
  {
   "cell_type": "code",
   "execution_count": null,
   "metadata": {},
   "outputs": [],
   "source": [
    "print('after cleaning cats_interv: ', len(df_all_patients))"
   ]
  },
  {
   "cell_type": "markdown",
   "metadata": {},
   "source": [
    "#### Check vent_status"
   ]
  },
  {
   "cell_type": "code",
   "execution_count": null,
   "metadata": {},
   "outputs": [],
   "source": [
    "df_all_patients['ventilation_status'].isnull().sum()"
   ]
  },
  {
   "cell_type": "code",
   "execution_count": null,
   "metadata": {},
   "outputs": [],
   "source": [
    "for i in range(0,len(df_all_patients)):\n",
    "    # If value is Yes, the patient has vaso drug; otherwise, the patient has no vaso drugs\n",
    "    if df_all_patients.iloc[i]['ventilation_status'] != df_all_patients.iloc[i]['ventilation_status']:\n",
    "        df_all_patients.at[i,'ventilation_status'] = 'No'"
   ]
  },
  {
   "cell_type": "code",
   "execution_count": null,
   "metadata": {},
   "outputs": [],
   "source": [
    "df_all_patients['ventilation_status'].isnull().sum()"
   ]
  },
  {
   "cell_type": "code",
   "execution_count": null,
   "metadata": {},
   "outputs": [],
   "source": [
    "df_all_patients['ventilation_status'].unique()"
   ]
  },
  {
   "cell_type": "code",
   "execution_count": null,
   "metadata": {},
   "outputs": [],
   "source": [
    "# We remove 2 records, so the corrent length should be 6471-2 = 6469\n",
    "print('after cleaning ventilation_status: ', len(df_all_patients))"
   ]
  },
  {
   "cell_type": "markdown",
   "metadata": {},
   "source": [
    "### Critical Incident Type Label"
   ]
  },
  {
   "cell_type": "code",
   "execution_count": null,
   "metadata": {},
   "outputs": [],
   "source": [
    "df_all_patients[\"incident_type\"] = df_all_patients[\"incident_type\"].apply(lambda x: 'None' if x!=x else x)"
   ]
  },
  {
   "cell_type": "code",
   "execution_count": null,
   "metadata": {},
   "outputs": [],
   "source": [
    "df_all_patients[\"incident_type\"]"
   ]
  },
  {
   "cell_type": "code",
   "execution_count": null,
   "metadata": {},
   "outputs": [],
   "source": [
    "df_all_patients[\"incident_type\"].isnull().sum()"
   ]
  },
  {
   "cell_type": "code",
   "execution_count": null,
   "metadata": {},
   "outputs": [],
   "source": [
    "df_all_patients['incident_type'].unique()"
   ]
  },
  {
   "cell_type": "markdown",
   "metadata": {},
   "source": [
    "## Add pateint/equipment related CI number to dataframe\n",
    "- if value is 0, it means no CI happened during transport for the patient\n",
    "- if value is non-zero number n, it means CI happened N times during transport."
   ]
  },
  {
   "cell_type": "code",
   "execution_count": null,
   "metadata": {},
   "outputs": [],
   "source": [
    "df_all_patients['CI_Patient_Equipment_Related'] = df_all_patients['incident_type'].apply(lambda x: 1 if 'Patient' in x or 'Equipment' in x else 0)"
   ]
  },
  {
   "cell_type": "code",
   "execution_count": null,
   "metadata": {},
   "outputs": [],
   "source": [
    "df_all_patients['CI_Patient_Related'] = df_all_patients['incident_type'].apply(lambda x: Counter(x.split(','))['Patient related'] if 'Patient' in x else 0)"
   ]
  },
  {
   "cell_type": "code",
   "execution_count": null,
   "metadata": {},
   "outputs": [],
   "source": [
    "df_all_patients['CI_Ambulance_Related'] = df_all_patients['incident_type'].apply(lambda x: Counter(x.split(','))['Ambulance related'] if 'Ambulance' in x else 0)"
   ]
  },
  {
   "cell_type": "code",
   "execution_count": null,
   "metadata": {},
   "outputs": [],
   "source": [
    "df_all_patients['CI_Equipment_Related'] = df_all_patients['incident_type'].apply(lambda x: Counter(x.split(','))['Equipment related'] if 'Equipment' in x else 0)"
   ]
  },
  {
   "cell_type": "code",
   "execution_count": null,
   "metadata": {},
   "outputs": [],
   "source": [
    "df_all_patients['CI_Communication_Related'] = df_all_patients['incident_type'].apply(lambda x: Counter(x.split(','))['Communication/Delays'] if 'Communication' in x else 0)"
   ]
  },
  {
   "cell_type": "code",
   "execution_count": null,
   "metadata": {},
   "outputs": [],
   "source": [
    "CI_patients = df_all_patients[['cats_id','CI_Patient_Equipment_Related','CI_Patient_Related','CI_Ambulance_Related','CI_Equipment_Related','CI_Communication_Related']]"
   ]
  },
  {
   "cell_type": "code",
   "execution_count": null,
   "metadata": {},
   "outputs": [],
   "source": [
    "# Pateints who have critical events over 3 times\n",
    "CI_patients[CI_patients['CI_Patient_Related'] == 3]"
   ]
  },
  {
   "cell_type": "markdown",
   "metadata": {},
   "source": [
    "### Check null data in df_all_patients"
   ]
  },
  {
   "cell_type": "code",
   "execution_count": null,
   "metadata": {},
   "outputs": [],
   "source": [
    "df_all_patients.isnull().sum()"
   ]
  },
  {
   "cell_type": "markdown",
   "metadata": {},
   "source": [
    "#### Check pim3 null data"
   ]
  },
  {
   "cell_type": "code",
   "execution_count": null,
   "metadata": {},
   "outputs": [],
   "source": [
    "pim_null_data = df_all_patients[df_all_patients['pim3'] != df_all_patients['pim3']]\n",
    "pim_null_data"
   ]
  },
  {
   "cell_type": "code",
   "execution_count": null,
   "metadata": {},
   "outputs": [],
   "source": [
    "df_all_patients = df_all_patients.drop(pim_null_data.index)\n",
    "# We need reset_index everytime after we delete or add records in the dataframe for correct iteration\n",
    "df_all_patients = df_all_patients.reset_index(drop = True)"
   ]
  },
  {
   "cell_type": "markdown",
   "metadata": {},
   "source": [
    "#### Timmestamp of Check Destination Unite"
   ]
  },
  {
   "cell_type": "code",
   "execution_count": null,
   "metadata": {},
   "outputs": [],
   "source": [
    "depart_null_data = df_all_patients[df_all_patients['Depart Collection Unit'] != df_all_patients['Depart Collection Unit']]\n",
    "depart_null_data"
   ]
  },
  {
   "cell_type": "code",
   "execution_count": null,
   "metadata": {},
   "outputs": [],
   "source": [
    "df_all_patients = df_all_patients.drop(depart_null_data.index)\n",
    "# We need reset_index everytime after we delete or add records in the dataframe for correct iteration\n",
    "df_all_patients = df_all_patients.reset_index(drop = True)"
   ]
  },
  {
   "cell_type": "markdown",
   "metadata": {},
   "source": [
    "#### Check Timestamp of Arrive Destination Unit"
   ]
  },
  {
   "cell_type": "code",
   "execution_count": null,
   "metadata": {},
   "outputs": [],
   "source": [
    "Arrive_null_data = df_all_patients[df_all_patients['Arrive Destination Unit'] != df_all_patients['Arrive Destination Unit']]\n",
    "Arrive_null_data"
   ]
  },
  {
   "cell_type": "code",
   "execution_count": null,
   "metadata": {},
   "outputs": [],
   "source": [
    "df_all_patients = df_all_patients.drop(Arrive_null_data.index)\n",
    "# We need reset_index everytime after we delete or add records in the dataframe for correct iteration\n",
    "df_all_patients = df_all_patients.reset_index(drop = True)"
   ]
  },
  {
   "cell_type": "code",
   "execution_count": null,
   "metadata": {},
   "outputs": [],
   "source": [
    "print('after cleaning df_monitor_patients ', len(df_all_patients))"
   ]
  },
  {
   "cell_type": "markdown",
   "metadata": {},
   "source": [
    "### Check arrive_destunit null data"
   ]
  },
  {
   "cell_type": "code",
   "execution_count": null,
   "metadata": {},
   "outputs": [],
   "source": [
    "df_all_patients = df_all_patients[df_all_patients['arrive_collunit'] == df_all_patients['arrive_collunit']]\n",
    "df_all_patients = df_all_patients.reset_index(drop = True)"
   ]
  },
  {
   "cell_type": "markdown",
   "metadata": {},
   "source": [
    "### Check depart_destunit null data"
   ]
  },
  {
   "cell_type": "code",
   "execution_count": null,
   "metadata": {},
   "outputs": [],
   "source": [
    "depart_destunit_null_data = df_all_patients[df_all_patients['depart_destunit'] != df_all_patients['depart_destunit']]\n",
    "depart_destunit_null_data"
   ]
  },
  {
   "cell_type": "code",
   "execution_count": null,
   "metadata": {},
   "outputs": [],
   "source": [
    "df_all_patients = df_all_patients[df_all_patients['depart_destunit'] == df_all_patients['depart_destunit']]\n",
    "df_all_patients = df_all_patients.reset_index(drop = True)"
   ]
  },
  {
   "cell_type": "code",
   "execution_count": null,
   "metadata": {},
   "outputs": [],
   "source": [
    "print('after cleaning df_monitor_patients ', len(df_all_patients))"
   ]
  },
  {
   "cell_type": "markdown",
   "metadata": {},
   "source": [
    "### Remove Patients aged larger than 18 years old"
   ]
  },
  {
   "cell_type": "code",
   "execution_count": null,
   "metadata": {},
   "outputs": [],
   "source": [
    "# 18 years old :  18 * 12 =216 months\n",
    "df_all_patients = df_all_patients[df_all_patients['age_mon'] <= 18*12]\n",
    "df_all_patients = df_all_patients.reset_index(drop=True)\n",
    "print(len(df_all_patients))"
   ]
  },
  {
   "cell_type": "markdown",
   "metadata": {},
   "source": [
    "### Add \"age_group\" column in the df_all_patients"
   ]
  },
  {
   "cell_type": "code",
   "execution_count": null,
   "metadata": {},
   "outputs": [],
   "source": [
    "for i in range(0,len(df_all_patients)):\n",
    "    age = df_all_patients.iloc[i]['age_mon']\n",
    "    if age>=0 and age<=1:\n",
    "        df_all_patients.at[i,'age_group'] = 'Newborn'\n",
    "    elif age>1 and age<=12:\n",
    "        df_all_patients.at[i,'age_group'] = 'Infant'\n",
    "    elif age>12 and age<=12*4:\n",
    "        df_all_patients.at[i,'age_group'] = 'Pre-school'\n",
    "    elif age>12*4 and age<=12*11:\n",
    "        df_all_patients.at[i,'age_group'] = 'School'\n",
    "    elif age>12*11 and age<=12*18:\n",
    "        df_all_patients.at[i,'age_group'] = 'Adolescens'"
   ]
  },
  {
   "cell_type": "code",
   "execution_count": null,
   "metadata": {
    "scrolled": true
   },
   "outputs": [],
   "source": [
    "df_all_patients.age_group.unique()"
   ]
  },
  {
   "cell_type": "markdown",
   "metadata": {},
   "source": [
    "### Create Stablization, Journey and Handover Columns"
   ]
  },
  {
   "cell_type": "markdown",
   "metadata": {},
   "source": [
    "#### Correct two records\n",
    "- cats_id = 34388, Arrive Destination Unit = '27/04/2018 17:00'\n",
    "- cats_id = 36764, Arrive Destination Unit = '28/04/2018 23:30'"
   ]
  },
  {
   "cell_type": "code",
   "execution_count": null,
   "metadata": {},
   "outputs": [],
   "source": [
    "patient_34388_index = df_all_patients[df_all_patients['cats_id'] == 34388].index[0] # deidentified ID\n",
    "patient_34388_index"
   ]
  },
  {
   "cell_type": "code",
   "execution_count": null,
   "metadata": {},
   "outputs": [],
   "source": [
    "df_all_patients.at[patient_34388_index,['Arrive Destination Unit']] = '27/04/2018 17:00'"
   ]
  },
  {
   "cell_type": "code",
   "execution_count": null,
   "metadata": {},
   "outputs": [],
   "source": [
    "df_all_patients[df_all_patients['cats_id'] == 34388] # deidentified ID"
   ]
  },
  {
   "cell_type": "code",
   "execution_count": null,
   "metadata": {},
   "outputs": [],
   "source": [
    "patient_36764_index = df_all_patients[df_all_patients['cats_id'] == 36764].index[0] # deidentified ID\n",
    "patient_36764_index"
   ]
  },
  {
   "cell_type": "code",
   "execution_count": null,
   "metadata": {},
   "outputs": [],
   "source": [
    "df_all_patients.at[patient_36764_index,['Arrive Destination Unit']] = '28/04/2018 23:30'"
   ]
  },
  {
   "cell_type": "code",
   "execution_count": null,
   "metadata": {},
   "outputs": [],
   "source": [
    "df_all_patients[df_all_patients['cats_id'] == 36764] # deidentified ID"
   ]
  },
  {
   "cell_type": "markdown",
   "metadata": {},
   "source": [
    "#### Delete one transport record\n",
    "- because \"Depart Collection Unit\" is early than \"arrive_collunit\""
   ]
  },
  {
   "cell_type": "code",
   "execution_count": null,
   "metadata": {},
   "outputs": [],
   "source": [
    "patient_index = df_all_patients[df_all_patients['cats_id'] == 34051].index[0] # deidentified ID\n",
    "patient_index"
   ]
  },
  {
   "cell_type": "code",
   "execution_count": null,
   "metadata": {},
   "outputs": [],
   "source": [
    "df_all_patients = df_all_patients.drop(patient_index)\n",
    "# We need reset_index everytime after we delete or add records in the dataframe for correct iteration\n",
    "df_all_patients = df_all_patients.reset_index(drop = True)"
   ]
  },
  {
   "cell_type": "code",
   "execution_count": null,
   "metadata": {},
   "outputs": [],
   "source": [
    "df_all_patients['stablization'] = df_all_patients.apply(lambda x: (datetime.strptime(x['Depart Collection Unit'],'%d/%m/%Y %H:%M') - datetime.strptime(x['arrive_collunit'],'%d/%m/%Y %H:%M')).seconds//60,axis = 1)"
   ]
  },
  {
   "cell_type": "code",
   "execution_count": null,
   "metadata": {},
   "outputs": [],
   "source": [
    "df_all_patients['journey'] = df_all_patients.apply(lambda x: (datetime.strptime(x['Arrive Destination Unit'],'%d/%m/%Y %H:%M') - datetime.strptime(x['Depart Collection Unit'],'%d/%m/%Y %H:%M')).seconds//60,axis = 1)"
   ]
  },
  {
   "cell_type": "code",
   "execution_count": null,
   "metadata": {},
   "outputs": [],
   "source": [
    "df_all_patients['handover'] = df_all_patients.apply(lambda x: (datetime.strptime(x['depart_destunit'],'%d/%m/%Y %H:%M') - datetime.strptime(x['Arrive Destination Unit'],'%d/%m/%Y %H:%M')).seconds//60,axis = 1)"
   ]
  },
  {
   "cell_type": "code",
   "execution_count": null,
   "metadata": {},
   "outputs": [],
   "source": []
  },
  {
   "cell_type": "markdown",
   "metadata": {},
   "source": [
    "### Check Stablization outlier values"
   ]
  },
  {
   "cell_type": "code",
   "execution_count": null,
   "metadata": {},
   "outputs": [],
   "source": [
    "stab_outlier_transport = df_all_patients[df_all_patients['stablization'] >= 400]\n",
    "stab_outlier_transport"
   ]
  },
  {
   "cell_type": "code",
   "execution_count": null,
   "metadata": {},
   "outputs": [],
   "source": [
    "journey_outlier_transport = df_all_patients[df_all_patients['journey'] >= 400]\n",
    "journey_outlier_transport.head(3)"
   ]
  },
  {
   "cell_type": "code",
   "execution_count": null,
   "metadata": {},
   "outputs": [],
   "source": [
    "handover_outlier_transport = df_all_patients[df_all_patients['handover'] >= 400]\n",
    "handover_outlier_transport.head(3)"
   ]
  },
  {
   "cell_type": "markdown",
   "metadata": {},
   "source": [
    "### Check df_monitor_patients Stablization outlier values"
   ]
  },
  {
   "cell_type": "code",
   "execution_count": null,
   "metadata": {},
   "outputs": [],
   "source": [
    "stab_outlier_transport = df_all_patients[df_all_patients['stablization'] >= 400]\n",
    "stab_outlier_transport"
   ]
  },
  {
   "cell_type": "code",
   "execution_count": null,
   "metadata": {},
   "outputs": [],
   "source": [
    "patient_index = df_all_patients[df_all_patients['cats_id'] == 38156].index[0] # deidentified ID\n",
    "patient_index"
   ]
  },
  {
   "cell_type": "code",
   "execution_count": null,
   "metadata": {},
   "outputs": [],
   "source": [
    "# This patietn has a hearly 10 hours stablization time.\n",
    "# This value is far larger than the average value, so we treat it as an outlier\n",
    "# Remove this value\n",
    "df_all_patients = df_all_patients.drop(patient_index)\n",
    "# We need reset_index everytime after we delete or add records in the dataframe for correct iteration\n",
    "df_all_patients = df_all_patients.reset_index(drop = True)"
   ]
  },
  {
   "cell_type": "markdown",
   "metadata": {},
   "source": [
    "## Extract Patients having Vital Sign data"
   ]
  },
  {
   "cell_type": "code",
   "execution_count": null,
   "metadata": {},
   "outputs": [],
   "source": [
    "df_file_check = pd.read_csv(\"Numerical_Vital_Sign_Files_Summary.csv\")\n",
    "df_monitor_patients = df_all_patients.merge(df_file_check, left_on='cats_id', right_on='cats_id')\n",
    "df_monitor_patients = df_monitor_patients.reset_index(drop=True)"
   ]
  },
  {
   "cell_type": "code",
   "execution_count": null,
   "metadata": {},
   "outputs": [],
   "source": [
    "print(len(df_all_patients))\n",
    "print(len(df_monitor_patients))"
   ]
  },
  {
   "cell_type": "markdown",
   "metadata": {},
   "source": [
    "## Calculate total transport time"
   ]
  },
  {
   "cell_type": "code",
   "execution_count": null,
   "metadata": {},
   "outputs": [],
   "source": [
    "df_all_patients = df_all_patients.assign(total_transport_time=lambda x: (x['stablization'] + x['journey'] +x['handover']))"
   ]
  },
  {
   "cell_type": "code",
   "execution_count": null,
   "metadata": {},
   "outputs": [],
   "source": [
    "df_monitor_patients = df_monitor_patients.assign(total_transport_time=lambda x: (x['stablization'] + x['journey'] +x['handover']))"
   ]
  },
  {
   "cell_type": "code",
   "execution_count": null,
   "metadata": {},
   "outputs": [],
   "source": [
    "print('The number of monitoring transports to GOSH is: ',len(df_monitor_patients[df_monitor_patients['dest_is_GOSH'] == 'Yes']))"
   ]
  },
  {
   "cell_type": "code",
   "execution_count": null,
   "metadata": {},
   "outputs": [],
   "source": [
    "df_all_patients.to_csv('df_all_patients.csv')\n",
    "df_monitor_patients.to_csv('df_monitor_patients.csv')"
   ]
  },
  {
   "cell_type": "code",
   "execution_count": null,
   "metadata": {},
   "outputs": [],
   "source": []
  }
 ],
 "metadata": {
  "kernelspec": {
   "display_name": "Python 3",
   "language": "python",
   "name": "python3"
  },
  "language_info": {
   "codemirror_mode": {
    "name": "ipython",
    "version": 3
   },
   "file_extension": ".py",
   "mimetype": "text/x-python",
   "name": "python",
   "nbconvert_exporter": "python",
   "pygments_lexer": "ipython3",
   "version": "3.7.6"
  }
 },
 "nbformat": 4,
 "nbformat_minor": 4
}
