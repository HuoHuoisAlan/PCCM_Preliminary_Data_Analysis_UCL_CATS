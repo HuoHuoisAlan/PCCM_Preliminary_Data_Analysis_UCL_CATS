{
 "cells": [
  {
   "cell_type": "code",
   "execution_count": 1,
   "metadata": {},
   "outputs": [],
   "source": [
    "import numpy as np # linear algebra\n",
    "import pandas as pd # data processing, CSV file I/O (e.g. pd.read_csv)\n",
    "import matplotlib.pyplot as plt # plot figures\n",
    "import seaborn as sns # plot figures\n",
    "import plotly.express as px\n",
    "from datetime import datetime\n",
    "from collections import Counter\n",
    "from matplotlib.ticker import MaxNLocator\n",
    "import matplotlib.gridspec as gridspec\n",
    "from statistics import mean, median, stdev, variance\n",
    "import glob\n",
    "import os\n",
    "import math\n",
    "import random\n",
    "import time\n",
    "import warnings\n",
    "warnings.filterwarnings('ignore') "
   ]
  },
  {
   "cell_type": "code",
   "execution_count": 2,
   "metadata": {},
   "outputs": [],
   "source": [
    "file_path = \"D:\\\\Jupyter-workspace\\\\PCCM Manuscript_Data Description\\\\b_Assign Diagnosis Groups\\\\\""
   ]
  },
  {
   "cell_type": "code",
   "execution_count": 3,
   "metadata": {},
   "outputs": [
    {
     "name": "stdout",
     "output_type": "stream",
     "text": [
      "1711\n"
     ]
    }
   ],
   "source": [
    "df = pd.read_csv(file_path+\"df_monitor_patients.csv\")\n",
    "print(len(df))"
   ]
  },
  {
   "cell_type": "code",
   "execution_count": 4,
   "metadata": {},
   "outputs": [],
   "source": [
    "# local file path\n",
    "path=r'D:\\00_UCL_Z-score_Data_Files'"
   ]
  },
  {
   "cell_type": "code",
   "execution_count": 5,
   "metadata": {},
   "outputs": [],
   "source": [
    "# read all csv files from path folder\n",
    "numerical_CSV_files = glob.glob(os.path.join(path, \"*.csv\"))"
   ]
  },
  {
   "cell_type": "code",
   "execution_count": 6,
   "metadata": {},
   "outputs": [
    {
     "data": {
      "text/plain": [
       "1781"
      ]
     },
     "execution_count": 6,
     "metadata": {},
     "output_type": "execute_result"
    }
   ],
   "source": [
    "# print total number of files\n",
    "len(numerical_CSV_files)"
   ]
  },
  {
   "cell_type": "code",
   "execution_count": 7,
   "metadata": {},
   "outputs": [
    {
     "data": {
      "text/html": [
       "<div>\n",
       "<style scoped>\n",
       "    .dataframe tbody tr th:only-of-type {\n",
       "        vertical-align: middle;\n",
       "    }\n",
       "\n",
       "    .dataframe tbody tr th {\n",
       "        vertical-align: top;\n",
       "    }\n",
       "\n",
       "    .dataframe thead th {\n",
       "        text-align: right;\n",
       "    }\n",
       "</style>\n",
       "<table border=\"1\" class=\"dataframe\">\n",
       "  <thead>\n",
       "    <tr style=\"text-align: right;\">\n",
       "      <th></th>\n",
       "      <th>Unnamed: 0</th>\n",
       "      <th>Unnamed: 0.1</th>\n",
       "      <th>cats_id</th>\n",
       "      <th>gender</th>\n",
       "      <th>weight_kg</th>\n",
       "      <th>age_mon</th>\n",
       "      <th>referral_outcome_datetime</th>\n",
       "      <th>referring_unit</th>\n",
       "      <th>primary_diagnosis</th>\n",
       "      <th>diagnosis_group</th>\n",
       "      <th>...</th>\n",
       "      <th>c_abpSys</th>\n",
       "      <th>c_nbpMean</th>\n",
       "      <th>c_nbpDia</th>\n",
       "      <th>c_nbpSys</th>\n",
       "      <th>c_nPleth</th>\n",
       "      <th>c_ecgRate</th>\n",
       "      <th>c_nPoxy</th>\n",
       "      <th>key_vital_sign_count</th>\n",
       "      <th>total_transport_time</th>\n",
       "      <th>Diagnosis_Group</th>\n",
       "    </tr>\n",
       "  </thead>\n",
       "  <tbody>\n",
       "    <tr>\n",
       "      <th>0</th>\n",
       "      <td>0</td>\n",
       "      <td>0</td>\n",
       "      <td>30006</td>\n",
       "      <td>Female</td>\n",
       "      <td>3.30</td>\n",
       "      <td>2.0</td>\n",
       "      <td>01/07/2016 18:37</td>\n",
       "      <td>Lister Hospital-(RWH01)</td>\n",
       "      <td>Atrioventricular septal defect: atrial and ven...</td>\n",
       "      <td>NaN</td>\n",
       "      <td>...</td>\n",
       "      <td>0</td>\n",
       "      <td>5115</td>\n",
       "      <td>5115</td>\n",
       "      <td>5115</td>\n",
       "      <td>5771</td>\n",
       "      <td>6046</td>\n",
       "      <td>0</td>\n",
       "      <td>0</td>\n",
       "      <td>225</td>\n",
       "      <td>Cardiovascular</td>\n",
       "    </tr>\n",
       "    <tr>\n",
       "      <th>1</th>\n",
       "      <td>1</td>\n",
       "      <td>1</td>\n",
       "      <td>30008</td>\n",
       "      <td>Male</td>\n",
       "      <td>3.92</td>\n",
       "      <td>0.0</td>\n",
       "      <td>01/07/2016 21:50</td>\n",
       "      <td>Luton and Dunstable Hospital-(RC971)</td>\n",
       "      <td>Coarctation of aorta</td>\n",
       "      <td>NaN</td>\n",
       "      <td>...</td>\n",
       "      <td>0</td>\n",
       "      <td>4944</td>\n",
       "      <td>4944</td>\n",
       "      <td>4944</td>\n",
       "      <td>5698</td>\n",
       "      <td>5576</td>\n",
       "      <td>0</td>\n",
       "      <td>0</td>\n",
       "      <td>225</td>\n",
       "      <td>Cardiovascular</td>\n",
       "    </tr>\n",
       "    <tr>\n",
       "      <th>2</th>\n",
       "      <td>2</td>\n",
       "      <td>2</td>\n",
       "      <td>30013</td>\n",
       "      <td>Male</td>\n",
       "      <td>2.20</td>\n",
       "      <td>2.0</td>\n",
       "      <td>02/07/2016 23:45</td>\n",
       "      <td>Homerton University Hospital-(RQXM1)</td>\n",
       "      <td>Lower respiratory tract infection</td>\n",
       "      <td>NaN</td>\n",
       "      <td>...</td>\n",
       "      <td>0</td>\n",
       "      <td>2224</td>\n",
       "      <td>2224</td>\n",
       "      <td>2225</td>\n",
       "      <td>2260</td>\n",
       "      <td>2410</td>\n",
       "      <td>0</td>\n",
       "      <td>0</td>\n",
       "      <td>200</td>\n",
       "      <td>Respiratory</td>\n",
       "    </tr>\n",
       "  </tbody>\n",
       "</table>\n",
       "<p>3 rows × 89 columns</p>\n",
       "</div>"
      ],
      "text/plain": [
       "   Unnamed: 0  Unnamed: 0.1  cats_id  gender  weight_kg  age_mon  \\\n",
       "0           0             0    30006  Female       3.30      2.0   \n",
       "1           1             1    30008    Male       3.92      0.0   \n",
       "2           2             2    30013    Male       2.20      2.0   \n",
       "\n",
       "  referral_outcome_datetime                        referring_unit  \\\n",
       "0          01/07/2016 18:37               Lister Hospital-(RWH01)   \n",
       "1          01/07/2016 21:50  Luton and Dunstable Hospital-(RC971)   \n",
       "2          02/07/2016 23:45  Homerton University Hospital-(RQXM1)   \n",
       "\n",
       "                                   primary_diagnosis diagnosis_group  ...  \\\n",
       "0  Atrioventricular septal defect: atrial and ven...             NaN  ...   \n",
       "1                               Coarctation of aorta             NaN  ...   \n",
       "2                  Lower respiratory tract infection             NaN  ...   \n",
       "\n",
       "  c_abpSys c_nbpMean c_nbpDia c_nbpSys c_nPleth c_ecgRate c_nPoxy  \\\n",
       "0        0      5115     5115     5115     5771      6046       0   \n",
       "1        0      4944     4944     4944     5698      5576       0   \n",
       "2        0      2224     2224     2225     2260      2410       0   \n",
       "\n",
       "  key_vital_sign_count total_transport_time  Diagnosis_Group  \n",
       "0                    0                  225   Cardiovascular  \n",
       "1                    0                  225   Cardiovascular  \n",
       "2                    0                  200      Respiratory  \n",
       "\n",
       "[3 rows x 89 columns]"
      ]
     },
     "execution_count": 7,
     "metadata": {},
     "output_type": "execute_result"
    }
   ],
   "source": [
    "df.head(3)"
   ]
  },
  {
   "cell_type": "code",
   "execution_count": 8,
   "metadata": {},
   "outputs": [],
   "source": [
    "df['InvasiveVentilation'] = df['ventilation_status'].apply(lambda x: 'Yes' if 'Invasive' in x else 'No')"
   ]
  },
  {
   "cell_type": "code",
   "execution_count": 9,
   "metadata": {},
   "outputs": [
    {
     "data": {
      "text/plain": [
       "Index(['Unnamed: 0', 'Unnamed: 0.1', 'cats_id', 'gender', 'weight_kg',\n",
       "       'age_mon', 'referral_outcome_datetime', 'referring_unit',\n",
       "       'primary_diagnosis', 'diagnosis_group', 'preexisting_conditions',\n",
       "       'ventilation_status', 'vasoactive_agent_used', 'vasoactive_agent_name',\n",
       "       'inhaled_no', 'arrive_collunit', 'depart_destunit', 'cats_interv',\n",
       "       'local_interv', 'pim3', 'transport_team_in_attendance',\n",
       "       'referral_datetime', 'referral_outcome', 'critical_incident',\n",
       "       'incident_type', 'csv_files', 'min_session_time', 'max_session_time',\n",
       "       'start_datetime', 'end_datetime', 'length_of_stay',\n",
       "       'length_of_icu_stay', 'deceased_flag', 'sex', 'ethnicity_nat_code',\n",
       "       'ethnicity_name', 'age_at_admission', 'age_at_death',\n",
       "       'Destination Unit', 'Destination Care Area', 'Depart Collection Unit',\n",
       "       'Arrive Destination Unit', 'dest_is_GOSH',\n",
       "       'CI_Patient_Equipment_Related', 'CI_Patient_Related',\n",
       "       'CI_Ambulance_Related', 'CI_Equipment_Related',\n",
       "       'CI_Communication_Related', 'age_group', 'stablization', 'journey',\n",
       "       'handover', 'Unnamed: 0.1.1', 'file_size(kb)', 'start_devTime',\n",
       "       'end_devTime', 'start_ts', 'end_ts', 'total_rows', 'file_rows',\n",
       "       'missing_rows', 'c_nResp', 'c_nPulse', 'c_acooMin', 'c_Coo', 'c_tempNa',\n",
       "       'c_tempEs', 'c_tempSk', 'c_tempCo', 'c_tempRe', 'c_Temp', 'c_awRr',\n",
       "       'c_respRate', 'c_cvpMean', 'c_artMean', 'c_artDia', 'c_artSys',\n",
       "       'c_abpMean', 'c_abpDia', 'c_abpSys', 'c_nbpMean', 'c_nbpDia',\n",
       "       'c_nbpSys', 'c_nPleth', 'c_ecgRate', 'c_nPoxy', 'key_vital_sign_count',\n",
       "       'total_transport_time', 'Diagnosis_Group', 'InvasiveVentilation'],\n",
       "      dtype='object')"
      ]
     },
     "execution_count": 9,
     "metadata": {},
     "output_type": "execute_result"
    }
   ],
   "source": [
    "df.columns"
   ]
  },
  {
   "cell_type": "code",
   "execution_count": 10,
   "metadata": {},
   "outputs": [
    {
     "data": {
      "text/html": [
       "<div>\n",
       "<style scoped>\n",
       "    .dataframe tbody tr th:only-of-type {\n",
       "        vertical-align: middle;\n",
       "    }\n",
       "\n",
       "    .dataframe tbody tr th {\n",
       "        vertical-align: top;\n",
       "    }\n",
       "\n",
       "    .dataframe thead th {\n",
       "        text-align: right;\n",
       "    }\n",
       "</style>\n",
       "<table border=\"1\" class=\"dataframe\">\n",
       "  <thead>\n",
       "    <tr style=\"text-align: right;\">\n",
       "      <th></th>\n",
       "      <th>cats_id</th>\n",
       "      <th>Diagnosis_Group</th>\n",
       "    </tr>\n",
       "  </thead>\n",
       "  <tbody>\n",
       "    <tr>\n",
       "      <th>2</th>\n",
       "      <td>30013</td>\n",
       "      <td>Respiratory</td>\n",
       "    </tr>\n",
       "    <tr>\n",
       "      <th>3</th>\n",
       "      <td>30018</td>\n",
       "      <td>Respiratory</td>\n",
       "    </tr>\n",
       "    <tr>\n",
       "      <th>4</th>\n",
       "      <td>30024</td>\n",
       "      <td>Respiratory</td>\n",
       "    </tr>\n",
       "  </tbody>\n",
       "</table>\n",
       "</div>"
      ],
      "text/plain": [
       "   cats_id Diagnosis_Group\n",
       "2    30013     Respiratory\n",
       "3    30018     Respiratory\n",
       "4    30024     Respiratory"
      ]
     },
     "execution_count": 10,
     "metadata": {},
     "output_type": "execute_result"
    }
   ],
   "source": [
    "df1 = df.loc[df['Diagnosis_Group'] == 'Respiratory']\n",
    "df1.head(3)[['cats_id','Diagnosis_Group']]"
   ]
  },
  {
   "cell_type": "code",
   "execution_count": 11,
   "metadata": {},
   "outputs": [],
   "source": [
    "df_ECG_Respiratory = list()\n",
    "for i in range(0,len(numerical_CSV_files)):\n",
    "    my_csv_file = numerical_CSV_files[i]\n",
    "    cats_id = int(my_csv_file.split('\\\\')[2].split('_')[0])\n",
    "    if cats_id in df1[df1['c_ecgRate'] >= 600].cats_id.tolist():\n",
    "        df_data  = pd.read_csv(my_csv_file)\n",
    "        df_data = df_data[df_data['necgRate'] == df_data['necgRate']]\n",
    "        #df_data = df_data[df_data['necgRate'] != 0]\n",
    "        ECG = df_data['necgRate'].tolist()[0:600]\n",
    "        # extract ECG value that is not nan\n",
    "        df_ECG_Respiratory.extend(ECG)"
   ]
  },
  {
   "cell_type": "code",
   "execution_count": 12,
   "metadata": {},
   "outputs": [],
   "source": [
    "df_RR_Respiratory_noninvasive = list()\n",
    "for i in range(0,len(numerical_CSV_files)):\n",
    "    my_csv_file = numerical_CSV_files[i]\n",
    "    cats_id = int(my_csv_file.split('\\\\')[2].split('_')[0])\n",
    "    RR_df = df1[df1['InvasiveVentilation']=='No']\n",
    "    if cats_id in RR_df[RR_df['c_respRate'] >= 600].cats_id.tolist():\n",
    "        df_data  = pd.read_csv(my_csv_file)\n",
    "        df_data = df_data[df_data['nrespRate'] == df_data['nrespRate']]\n",
    "        #df_data = df_data[df_data['nrespRate'] != 0]\n",
    "        ECG = df_data['nrespRate'].tolist()[0:600]\n",
    "        # extract ECG value that is not nan\n",
    "        df_RR_Respiratory_noninvasive.extend(ECG)"
   ]
  },
  {
   "cell_type": "code",
   "execution_count": 13,
   "metadata": {},
   "outputs": [],
   "source": [
    "df_RR_Respiratory_invasive = list()\n",
    "for i in range(0,len(numerical_CSV_files)):\n",
    "    my_csv_file = numerical_CSV_files[i]\n",
    "    cats_id = int(my_csv_file.split('\\\\')[2].split('_')[0])\n",
    "    RR_df = df1[df1['InvasiveVentilation']=='Yes']\n",
    "    if cats_id in RR_df[RR_df['c_respRate'] >= 600].cats_id.tolist():\n",
    "        df_data  = pd.read_csv(my_csv_file)\n",
    "        df_data = df_data[df_data['nrespRate'] == df_data['nrespRate']]\n",
    "        df_data = df_data[df_data['nrespRate'] != 0]\n",
    "        ECG = df_data['nrespRate'].tolist()[0:600]\n",
    "        # extract ECG value that is not nan\n",
    "        df_RR_Respiratory_invasive.extend(ECG)"
   ]
  },
  {
   "cell_type": "code",
   "execution_count": 14,
   "metadata": {},
   "outputs": [],
   "source": [
    "df_SBP_Respiratory= list()\n",
    "for i in range(0,len(numerical_CSV_files)):\n",
    "    my_csv_file = numerical_CSV_files[i]\n",
    "    cats_id = int(my_csv_file.split('\\\\')[2].split('_')[0])\n",
    "    if cats_id in df1[df1['c_nbpSys'] >= 600].cats_id.tolist():\n",
    "        df_data  = pd.read_csv(my_csv_file)\n",
    "        df_data = df_data[df_data['nnbpSys'] == df_data['nnbpSys']]\n",
    "        #df_data = df_data[df_data['nnbpSys'] != 0]\n",
    "        ECG = df_data['nnbpSys'].tolist()[0:600]\n",
    "        # extract ECG value that is not nan\n",
    "        df_SBP_Respiratory.extend(ECG)"
   ]
  },
  {
   "cell_type": "code",
   "execution_count": 15,
   "metadata": {},
   "outputs": [],
   "source": [
    "df_DBP_Respiratory= list()\n",
    "for i in range(0,len(numerical_CSV_files)):\n",
    "    my_csv_file = numerical_CSV_files[i]\n",
    "    cats_id = int(my_csv_file.split('\\\\')[2].split('_')[0])\n",
    "    if cats_id in df1[df1['c_nbpDia'] >= 600].cats_id.tolist():\n",
    "        df_data  = pd.read_csv(my_csv_file)\n",
    "        df_data = df_data[df_data['nnbpDia'] == df_data['nnbpDia']]\n",
    "        #df_data = df_data[df_data['nnbpDia'] != 0]\n",
    "        ECG = df_data['nnbpDia'].tolist()[0:600]\n",
    "        # extract ECG value that is not nan\n",
    "        df_DBP_Respiratory.extend(ECG)"
   ]
  },
  {
   "cell_type": "code",
   "execution_count": 16,
   "metadata": {},
   "outputs": [],
   "source": [
    "df_MBP_Respiratory= list()\n",
    "for i in range(0,len(numerical_CSV_files)):\n",
    "    my_csv_file = numerical_CSV_files[i]\n",
    "    cats_id = int(my_csv_file.split('\\\\')[2].split('_')[0])\n",
    "    if cats_id in df1[df1['c_nbpMean'] >= 600].cats_id.tolist():\n",
    "        df_data  = pd.read_csv(my_csv_file)\n",
    "        df_data = df_data[df_data['nnbpMean'] == df_data['nnbpMean']]\n",
    "        #df_data = df_data[df_data['nnbpMean'] != 0]\n",
    "        ECG = df_data['nnbpMean'].tolist()[0:600]\n",
    "        # extract ECG value that is not nan\n",
    "        df_MBP_Respiratory.extend(ECG)"
   ]
  },
  {
   "cell_type": "code",
   "execution_count": 17,
   "metadata": {},
   "outputs": [
    {
     "data": {
      "text/html": [
       "<div>\n",
       "<style scoped>\n",
       "    .dataframe tbody tr th:only-of-type {\n",
       "        vertical-align: middle;\n",
       "    }\n",
       "\n",
       "    .dataframe tbody tr th {\n",
       "        vertical-align: top;\n",
       "    }\n",
       "\n",
       "    .dataframe thead th {\n",
       "        text-align: right;\n",
       "    }\n",
       "</style>\n",
       "<table border=\"1\" class=\"dataframe\">\n",
       "  <thead>\n",
       "    <tr style=\"text-align: right;\">\n",
       "      <th></th>\n",
       "      <th>cats_id</th>\n",
       "      <th>Diagnosis_Group</th>\n",
       "    </tr>\n",
       "  </thead>\n",
       "  <tbody>\n",
       "    <tr>\n",
       "      <th>0</th>\n",
       "      <td>30006</td>\n",
       "      <td>Cardiovascular</td>\n",
       "    </tr>\n",
       "    <tr>\n",
       "      <th>1</th>\n",
       "      <td>30008</td>\n",
       "      <td>Cardiovascular</td>\n",
       "    </tr>\n",
       "    <tr>\n",
       "      <th>10</th>\n",
       "      <td>30046</td>\n",
       "      <td>Cardiovascular</td>\n",
       "    </tr>\n",
       "  </tbody>\n",
       "</table>\n",
       "</div>"
      ],
      "text/plain": [
       "    cats_id Diagnosis_Group\n",
       "0     30006  Cardiovascular\n",
       "1     30008  Cardiovascular\n",
       "10    30046  Cardiovascular"
      ]
     },
     "execution_count": 17,
     "metadata": {},
     "output_type": "execute_result"
    }
   ],
   "source": [
    "df2 = df.loc[df['Diagnosis_Group'] == 'Cardiovascular']\n",
    "df2.head(3)[['cats_id','Diagnosis_Group']]"
   ]
  },
  {
   "cell_type": "code",
   "execution_count": 18,
   "metadata": {},
   "outputs": [],
   "source": [
    "df_ECG_cardio= list()\n",
    "for i in range(0,len(numerical_CSV_files)):\n",
    "    my_csv_file = numerical_CSV_files[i]\n",
    "    cats_id = int(my_csv_file.split('\\\\')[2].split('_')[0])\n",
    "    if cats_id in df2[df2['c_ecgRate'] >= 600].cats_id.tolist():\n",
    "        df_data  = pd.read_csv(my_csv_file)\n",
    "        df_data = df_data[df_data['necgRate'] == df_data['necgRate']]\n",
    "        #df_data = df_data[df_data['necgRate'] != 0]\n",
    "        ECG = df_data['necgRate'].tolist()[0:600]\n",
    "        # extract ECG value that is not nan\n",
    "        df_ECG_cardio.extend(ECG)"
   ]
  },
  {
   "cell_type": "code",
   "execution_count": 19,
   "metadata": {},
   "outputs": [],
   "source": [
    "df_RR_cardio_noninvasive = list()\n",
    "for i in range(0,len(numerical_CSV_files)):\n",
    "    my_csv_file = numerical_CSV_files[i]\n",
    "    cats_id = int(my_csv_file.split('\\\\')[2].split('_')[0])\n",
    "    RR_df = df2[df2['InvasiveVentilation']=='No']\n",
    "    if cats_id in RR_df[RR_df['c_respRate'] >= 600].cats_id.tolist():\n",
    "        df_data  = pd.read_csv(my_csv_file)\n",
    "        df_data = df_data[df_data['nrespRate'] == df_data['nrespRate']]\n",
    "        #df_data = df_data[df_data['nrespRate'] != 0]\n",
    "        ECG = df_data['nrespRate'].tolist()[0:600]\n",
    "        # extract ECG value that is not nan\n",
    "        df_RR_cardio_noninvasive.extend(ECG)"
   ]
  },
  {
   "cell_type": "code",
   "execution_count": 20,
   "metadata": {},
   "outputs": [],
   "source": [
    "df_RR_cardio_invasive = list()\n",
    "for i in range(0,len(numerical_CSV_files)):\n",
    "    my_csv_file = numerical_CSV_files[i]\n",
    "    cats_id = int(my_csv_file.split('\\\\')[2].split('_')[0])\n",
    "    RR_df = df2[df2['InvasiveVentilation']=='Yes']\n",
    "    if cats_id in RR_df[RR_df['c_respRate'] >= 600].cats_id.tolist():\n",
    "        df_data  = pd.read_csv(my_csv_file)\n",
    "        df_data = df_data[df_data['nrespRate'] == df_data['nrespRate']]\n",
    "        #df_data = df_data[df_data['nrespRate'] != 0]\n",
    "        ECG = df_data['nrespRate'].tolist()[0:600]\n",
    "        # extract ECG value that is not nan\n",
    "        df_RR_cardio_invasive.extend(ECG)"
   ]
  },
  {
   "cell_type": "code",
   "execution_count": 21,
   "metadata": {},
   "outputs": [],
   "source": [
    "df_MBP_cardio= list()\n",
    "for i in range(0,len(numerical_CSV_files)):\n",
    "    my_csv_file = numerical_CSV_files[i]\n",
    "    cats_id = int(my_csv_file.split('\\\\')[2].split('_')[0])\n",
    "    if cats_id in df2[df2['c_nbpMean'] >= 600].cats_id.tolist():\n",
    "        df_data  = pd.read_csv(my_csv_file)\n",
    "        df_data = df_data[df_data['nnbpMean'] == df_data['nnbpMean']]\n",
    "        #df_data = df_data[df_data['nnbpMean'] != 0]\n",
    "        ECG = df_data['nnbpMean'].tolist()[0:600]\n",
    "        # extract ECG value that is not nan\n",
    "        df_MBP_cardio.extend(ECG)"
   ]
  },
  {
   "cell_type": "code",
   "execution_count": 22,
   "metadata": {},
   "outputs": [],
   "source": [
    "df_SBP_cardio= list()\n",
    "for i in range(0,len(numerical_CSV_files)):\n",
    "    my_csv_file = numerical_CSV_files[i]\n",
    "    cats_id = int(my_csv_file.split('\\\\')[2].split('_')[0])\n",
    "    if cats_id in df2[df2['c_nbpSys'] >= 600].cats_id.tolist():\n",
    "        df_data  = pd.read_csv(my_csv_file)\n",
    "        df_data = df_data[df_data['nnbpSys'] == df_data['nnbpSys']]\n",
    "        #df_data = df_data[df_data['nnbpSys'] != 0]\n",
    "        ECG = df_data['nnbpSys'].tolist()[0:600]\n",
    "        # extract ECG value that is not nan\n",
    "        df_SBP_cardio.extend(ECG)"
   ]
  },
  {
   "cell_type": "code",
   "execution_count": 23,
   "metadata": {},
   "outputs": [],
   "source": [
    "df_DBP_cardio= list()\n",
    "for i in range(0,len(numerical_CSV_files)):\n",
    "    my_csv_file = numerical_CSV_files[i]\n",
    "    cats_id = int(my_csv_file.split('\\\\')[2].split('_')[0])\n",
    "    if cats_id in df2[df2['c_nbpDia'] >= 600].cats_id.tolist():\n",
    "        df_data  = pd.read_csv(my_csv_file)\n",
    "        df_data = df_data[df_data['nnbpDia'] == df_data['nnbpDia']]\n",
    "        #df_data = df_data[df_data['nnbpDia'] != 0]\n",
    "        ECG = df_data['nnbpDia'].tolist()[0:600]\n",
    "        # extract ECG value that is not nan\n",
    "        df_DBP_cardio.extend(ECG)"
   ]
  },
  {
   "cell_type": "code",
   "execution_count": 24,
   "metadata": {},
   "outputs": [
    {
     "data": {
      "text/html": [
       "<div>\n",
       "<style scoped>\n",
       "    .dataframe tbody tr th:only-of-type {\n",
       "        vertical-align: middle;\n",
       "    }\n",
       "\n",
       "    .dataframe tbody tr th {\n",
       "        vertical-align: top;\n",
       "    }\n",
       "\n",
       "    .dataframe thead th {\n",
       "        text-align: right;\n",
       "    }\n",
       "</style>\n",
       "<table border=\"1\" class=\"dataframe\">\n",
       "  <thead>\n",
       "    <tr style=\"text-align: right;\">\n",
       "      <th></th>\n",
       "      <th>cats_id</th>\n",
       "      <th>Diagnosis_Group</th>\n",
       "    </tr>\n",
       "  </thead>\n",
       "  <tbody>\n",
       "    <tr>\n",
       "      <th>15</th>\n",
       "      <td>30082</td>\n",
       "      <td>Neurological</td>\n",
       "    </tr>\n",
       "    <tr>\n",
       "      <th>27</th>\n",
       "      <td>30201</td>\n",
       "      <td>Neurological</td>\n",
       "    </tr>\n",
       "    <tr>\n",
       "      <th>29</th>\n",
       "      <td>30235</td>\n",
       "      <td>Neurological</td>\n",
       "    </tr>\n",
       "  </tbody>\n",
       "</table>\n",
       "</div>"
      ],
      "text/plain": [
       "    cats_id Diagnosis_Group\n",
       "15    30082    Neurological\n",
       "27    30201    Neurological\n",
       "29    30235    Neurological"
      ]
     },
     "execution_count": 24,
     "metadata": {},
     "output_type": "execute_result"
    }
   ],
   "source": [
    "df3 = df.loc[df['Diagnosis_Group'] == 'Neurological']\n",
    "df3.head(3)[['cats_id','Diagnosis_Group']]"
   ]
  },
  {
   "cell_type": "code",
   "execution_count": 25,
   "metadata": {},
   "outputs": [],
   "source": [
    "df_ECG_neuro= list()\n",
    "for i in range(0,len(numerical_CSV_files)):\n",
    "    my_csv_file = numerical_CSV_files[i]\n",
    "    cats_id = int(my_csv_file.split('\\\\')[2].split('_')[0])\n",
    "    if cats_id in df3[df3['c_ecgRate'] >= 600].cats_id.tolist():\n",
    "        df_data  = pd.read_csv(my_csv_file)\n",
    "        df_data = df_data[df_data['necgRate'] == df_data['necgRate']]\n",
    "        #df_data = df_data[df_data['necgRate'] != 0]\n",
    "        ECG = df_data['necgRate'].tolist()[0:600]\n",
    "        # extract ECG value that is not nan\n",
    "        df_ECG_neuro.extend(ECG)"
   ]
  },
  {
   "cell_type": "code",
   "execution_count": 26,
   "metadata": {},
   "outputs": [],
   "source": [
    "df_RR_neuro_noninvasive = list()\n",
    "for i in range(0,len(numerical_CSV_files)):\n",
    "    my_csv_file = numerical_CSV_files[i]\n",
    "    cats_id = int(my_csv_file.split('\\\\')[2].split('_')[0])\n",
    "    RR_df = df3[df3['InvasiveVentilation']=='No']\n",
    "    if cats_id in RR_df[RR_df['c_respRate'] >= 600].cats_id.tolist():\n",
    "        df_data  = pd.read_csv(my_csv_file)\n",
    "        df_data = df_data[df_data['nrespRate'] == df_data['nrespRate']]\n",
    "        #df_data = df_data[df_data['nrespRate'] != 0]\n",
    "        ECG = df_data['nrespRate'].tolist()[0:600]\n",
    "        # extract ECG value that is not nan\n",
    "        df_RR_neuro_noninvasive.extend(ECG)"
   ]
  },
  {
   "cell_type": "code",
   "execution_count": 27,
   "metadata": {},
   "outputs": [],
   "source": [
    "df_RR_neuro_invasive = list()\n",
    "for i in range(0,len(numerical_CSV_files)):\n",
    "    my_csv_file = numerical_CSV_files[i]\n",
    "    cats_id = int(my_csv_file.split('\\\\')[2].split('_')[0])\n",
    "    RR_df = df3[df3['InvasiveVentilation']=='Yes']\n",
    "    if cats_id in RR_df[RR_df['c_respRate'] >= 600].cats_id.tolist():\n",
    "        df_data  = pd.read_csv(my_csv_file)\n",
    "        df_data = df_data[df_data['nrespRate'] == df_data['nrespRate']]\n",
    "        #df_data = df_data[df_data['nrespRate'] != 0]\n",
    "        ECG = df_data['nrespRate'].tolist()[0:600]\n",
    "        # extract ECG value that is not nan\n",
    "        df_RR_neuro_invasive.extend(ECG)"
   ]
  },
  {
   "cell_type": "code",
   "execution_count": 28,
   "metadata": {},
   "outputs": [],
   "source": [
    "df_SBP_neuro= list()\n",
    "for i in range(0,len(numerical_CSV_files)):\n",
    "    my_csv_file = numerical_CSV_files[i]\n",
    "    cats_id = int(my_csv_file.split('\\\\')[2].split('_')[0])\n",
    "    if cats_id in df3[df3['c_nbpSys'] >= 600].cats_id.tolist():\n",
    "        df_data  = pd.read_csv(my_csv_file)\n",
    "        df_data = df_data[df_data['nnbpSys'] == df_data['nnbpSys']]\n",
    "        #df_data = df_data[df_data['nnbpSys'] != 0]\n",
    "        ECG = df_data['nnbpSys'].tolist()[0:600]\n",
    "        # extract ECG value that is not nan\n",
    "        df_SBP_neuro.extend(ECG)"
   ]
  },
  {
   "cell_type": "code",
   "execution_count": 29,
   "metadata": {},
   "outputs": [],
   "source": [
    "df_DBP_neuro= list()\n",
    "for i in range(0,len(numerical_CSV_files)):\n",
    "    my_csv_file = numerical_CSV_files[i]\n",
    "    cats_id = int(my_csv_file.split('\\\\')[2].split('_')[0])\n",
    "    if cats_id in df3[df3['c_nbpDia'] >= 600].cats_id.tolist():\n",
    "        df_data  = pd.read_csv(my_csv_file)\n",
    "        df_data = df_data[df_data['nnbpDia'] == df_data['nnbpDia']]\n",
    "        #df_data = df_data[df_data['nnbpDia'] != 0]\n",
    "        ECG = df_data['nnbpDia'].tolist()[0:600]\n",
    "        # extract ECG value that is not nan\n",
    "        df_DBP_neuro.extend(ECG)"
   ]
  },
  {
   "cell_type": "code",
   "execution_count": 30,
   "metadata": {},
   "outputs": [],
   "source": [
    "df_MBP_neuro= list()\n",
    "for i in range(0,len(numerical_CSV_files)):\n",
    "    my_csv_file = numerical_CSV_files[i]\n",
    "    cats_id = int(my_csv_file.split('\\\\')[2].split('_')[0])\n",
    "    if cats_id in df3[df3['c_nbpMean'] >= 600].cats_id.tolist():\n",
    "        df_data  = pd.read_csv(my_csv_file)\n",
    "        df_data = df_data[df_data['nnbpMean'] == df_data['nnbpMean']]\n",
    "        #df_data = df_data[df_data['nnbpMean'] != 0]\n",
    "        ECG = df_data['nnbpMean'].tolist()[0:600]\n",
    "        # extract ECG value that is not nan\n",
    "        df_MBP_neuro.extend(ECG)"
   ]
  },
  {
   "cell_type": "code",
   "execution_count": 31,
   "metadata": {},
   "outputs": [
    {
     "data": {
      "text/html": [
       "<div>\n",
       "<style scoped>\n",
       "    .dataframe tbody tr th:only-of-type {\n",
       "        vertical-align: middle;\n",
       "    }\n",
       "\n",
       "    .dataframe tbody tr th {\n",
       "        vertical-align: top;\n",
       "    }\n",
       "\n",
       "    .dataframe thead th {\n",
       "        text-align: right;\n",
       "    }\n",
       "</style>\n",
       "<table border=\"1\" class=\"dataframe\">\n",
       "  <thead>\n",
       "    <tr style=\"text-align: right;\">\n",
       "      <th></th>\n",
       "      <th>cats_id</th>\n",
       "      <th>Diagnosis_Group</th>\n",
       "    </tr>\n",
       "  </thead>\n",
       "  <tbody>\n",
       "    <tr>\n",
       "      <th>14</th>\n",
       "      <td>30077</td>\n",
       "      <td>Infection</td>\n",
       "    </tr>\n",
       "    <tr>\n",
       "      <th>51</th>\n",
       "      <td>30386</td>\n",
       "      <td>Infection</td>\n",
       "    </tr>\n",
       "    <tr>\n",
       "      <th>53</th>\n",
       "      <td>30400</td>\n",
       "      <td>Infection</td>\n",
       "    </tr>\n",
       "  </tbody>\n",
       "</table>\n",
       "</div>"
      ],
      "text/plain": [
       "    cats_id Diagnosis_Group\n",
       "14    30077       Infection\n",
       "51    30386       Infection\n",
       "53    30400       Infection"
      ]
     },
     "execution_count": 31,
     "metadata": {},
     "output_type": "execute_result"
    }
   ],
   "source": [
    "df4 = df.loc[df['Diagnosis_Group'] == 'Infection']\n",
    "df4.head(3)[['cats_id','Diagnosis_Group']]"
   ]
  },
  {
   "cell_type": "code",
   "execution_count": 32,
   "metadata": {},
   "outputs": [],
   "source": [
    "df_ECG_infection= list()\n",
    "for i in range(0,len(numerical_CSV_files)):\n",
    "    my_csv_file = numerical_CSV_files[i]\n",
    "    cats_id = int(my_csv_file.split('\\\\')[2].split('_')[0])\n",
    "    if cats_id in df4[df4['c_ecgRate'] >= 600].cats_id.tolist():\n",
    "        df_data  = pd.read_csv(my_csv_file)\n",
    "        df_data = df_data[df_data['necgRate'] == df_data['necgRate']]\n",
    "        #df_data = df_data[df_data['necgRate'] != 0]\n",
    "        ECG = df_data['necgRate'].tolist()[0:600]\n",
    "        # extract ECG value that is not nan\n",
    "        df_ECG_infection.extend(ECG)"
   ]
  },
  {
   "cell_type": "code",
   "execution_count": 33,
   "metadata": {},
   "outputs": [],
   "source": [
    "df_RR_infection_noninvasive = list()\n",
    "for i in range(0,len(numerical_CSV_files)):\n",
    "    my_csv_file = numerical_CSV_files[i]\n",
    "    cats_id = int(my_csv_file.split('\\\\')[2].split('_')[0])\n",
    "    RR_df = df4[df4['InvasiveVentilation']=='No']\n",
    "    if cats_id in RR_df[RR_df['c_respRate'] >= 600].cats_id.tolist():\n",
    "        df_data  = pd.read_csv(my_csv_file)\n",
    "        df_data = df_data[df_data['nrespRate'] == df_data['nrespRate']]\n",
    "        #df_data = df_data[df_data['nrespRate'] != 0]\n",
    "        ECG = df_data['nrespRate'].tolist()[0:600]\n",
    "        # extract ECG value that is not nan\n",
    "        df_RR_infection_noninvasive.extend(ECG)"
   ]
  },
  {
   "cell_type": "code",
   "execution_count": 34,
   "metadata": {},
   "outputs": [],
   "source": [
    "df_RR_infection_invasive = list()\n",
    "for i in range(0,len(numerical_CSV_files)):\n",
    "    my_csv_file = numerical_CSV_files[i]\n",
    "    cats_id = int(my_csv_file.split('\\\\')[2].split('_')[0])\n",
    "    RR_df = df4[df4['InvasiveVentilation']=='Yes']\n",
    "    if cats_id in RR_df[RR_df['c_respRate'] >= 600].cats_id.tolist():\n",
    "        df_data  = pd.read_csv(my_csv_file)\n",
    "        df_data = df_data[df_data['nrespRate'] == df_data['nrespRate']]\n",
    "        #df_data = df_data[df_data['nrespRate'] != 0]\n",
    "        ECG = df_data['nrespRate'].tolist()[0:600]\n",
    "        # extract ECG value that is not nan\n",
    "        df_RR_infection_invasive.extend(ECG)"
   ]
  },
  {
   "cell_type": "code",
   "execution_count": 35,
   "metadata": {},
   "outputs": [],
   "source": [
    "df_SBP_infection= list()\n",
    "for i in range(0,len(numerical_CSV_files)):\n",
    "    my_csv_file = numerical_CSV_files[i]\n",
    "    cats_id = int(my_csv_file.split('\\\\')[2].split('_')[0])\n",
    "    if cats_id in df4[df4['c_nbpSys'] >= 600].cats_id.tolist():\n",
    "        df_data  = pd.read_csv(my_csv_file)\n",
    "        df_data = df_data[df_data['nnbpSys'] == df_data['nnbpSys']]\n",
    "        #df_data = df_data[df_data['nnbpSys'] != 0]\n",
    "        ECG = df_data['nnbpSys'].tolist()[0:600]\n",
    "        # extract ECG value that is not nan\n",
    "        df_SBP_infection.extend(ECG)"
   ]
  },
  {
   "cell_type": "code",
   "execution_count": 36,
   "metadata": {},
   "outputs": [],
   "source": [
    "df_DBP_infection= list()\n",
    "for i in range(0,len(numerical_CSV_files)):\n",
    "    my_csv_file = numerical_CSV_files[i]\n",
    "    cats_id = int(my_csv_file.split('\\\\')[2].split('_')[0])\n",
    "    if cats_id in df4[df4['c_nbpDia'] >= 600].cats_id.tolist():\n",
    "        df_data  = pd.read_csv(my_csv_file)\n",
    "        df_data = df_data[df_data['nnbpDia'] == df_data['nnbpDia']]\n",
    "        #df_data = df_data[df_data['nnbpDia'] != 0]\n",
    "        ECG = df_data['nnbpDia'].tolist()[0:600]\n",
    "        # extract ECG value that is not nan\n",
    "        df_DBP_infection.extend(ECG)"
   ]
  },
  {
   "cell_type": "code",
   "execution_count": 37,
   "metadata": {},
   "outputs": [],
   "source": [
    "df_MBP_infection= list()\n",
    "for i in range(0,len(numerical_CSV_files)):\n",
    "    my_csv_file = numerical_CSV_files[i]\n",
    "    cats_id = int(my_csv_file.split('\\\\')[2].split('_')[0])\n",
    "    if cats_id in df4[df4['c_nbpMean'] >= 600].cats_id.tolist():\n",
    "        df_data  = pd.read_csv(my_csv_file)\n",
    "        df_data = df_data[df_data['nnbpMean'] == df_data['nnbpMean']]\n",
    "        #df_data = df_data[df_data['nnbpMean'] != 0]\n",
    "        ECG = df_data['nnbpMean'].tolist()[0:600]\n",
    "        # extract ECG value that is not nan\n",
    "        df_MBP_infection.extend(ECG)"
   ]
  },
  {
   "cell_type": "code",
   "execution_count": 38,
   "metadata": {},
   "outputs": [
    {
     "data": {
      "text/html": [
       "<div>\n",
       "<style scoped>\n",
       "    .dataframe tbody tr th:only-of-type {\n",
       "        vertical-align: middle;\n",
       "    }\n",
       "\n",
       "    .dataframe tbody tr th {\n",
       "        vertical-align: top;\n",
       "    }\n",
       "\n",
       "    .dataframe thead th {\n",
       "        text-align: right;\n",
       "    }\n",
       "</style>\n",
       "<table border=\"1\" class=\"dataframe\">\n",
       "  <thead>\n",
       "    <tr style=\"text-align: right;\">\n",
       "      <th></th>\n",
       "      <th>cats_id</th>\n",
       "      <th>Diagnosis_Group</th>\n",
       "    </tr>\n",
       "  </thead>\n",
       "  <tbody>\n",
       "    <tr>\n",
       "      <th>12</th>\n",
       "      <td>30055</td>\n",
       "      <td>Gastrointestinal</td>\n",
       "    </tr>\n",
       "    <tr>\n",
       "      <th>16</th>\n",
       "      <td>30086</td>\n",
       "      <td>Gastrointestinal</td>\n",
       "    </tr>\n",
       "    <tr>\n",
       "      <th>24</th>\n",
       "      <td>30127</td>\n",
       "      <td>Gastrointestinal</td>\n",
       "    </tr>\n",
       "  </tbody>\n",
       "</table>\n",
       "</div>"
      ],
      "text/plain": [
       "    cats_id   Diagnosis_Group\n",
       "12    30055  Gastrointestinal\n",
       "16    30086  Gastrointestinal\n",
       "24    30127  Gastrointestinal"
      ]
     },
     "execution_count": 38,
     "metadata": {},
     "output_type": "execute_result"
    }
   ],
   "source": [
    "df5 = df.loc[df['Diagnosis_Group'] == 'Gastrointestinal']\n",
    "df5.head(3)[['cats_id','Diagnosis_Group']]"
   ]
  },
  {
   "cell_type": "code",
   "execution_count": 39,
   "metadata": {},
   "outputs": [],
   "source": [
    "df_ECG_gastro= list()\n",
    "for i in range(0,len(numerical_CSV_files)):\n",
    "    my_csv_file = numerical_CSV_files[i]\n",
    "    cats_id = int(my_csv_file.split('\\\\')[2].split('_')[0])\n",
    "    if cats_id in df5[df5['c_ecgRate'] >= 600].cats_id.tolist():\n",
    "        df_data  = pd.read_csv(my_csv_file)\n",
    "        df_data = df_data[df_data['necgRate'] == df_data['necgRate']]\n",
    "        #df_data = df_data[df_data['necgRate'] != 0]\n",
    "        ECG = df_data['necgRate'].tolist()[0:600]\n",
    "        # extract ECG value that is not nan\n",
    "        df_ECG_gastro.extend(ECG)"
   ]
  },
  {
   "cell_type": "code",
   "execution_count": 40,
   "metadata": {},
   "outputs": [],
   "source": [
    "df_RR_gastro_noninvasive = list()\n",
    "for i in range(0,len(numerical_CSV_files)):\n",
    "    my_csv_file = numerical_CSV_files[i]\n",
    "    cats_id = int(my_csv_file.split('\\\\')[2].split('_')[0])\n",
    "    RR_df = df5[df5['InvasiveVentilation']=='No']\n",
    "    if cats_id in RR_df[RR_df['c_respRate'] >= 600].cats_id.tolist():\n",
    "        df_data  = pd.read_csv(my_csv_file)\n",
    "        df_data = df_data[df_data['nrespRate'] == df_data['nrespRate']]\n",
    "        df_data = df_data[df_data['nrespRate'] != 0]\n",
    "        ECG = df_data['nrespRate'].tolist()[0:600]\n",
    "        # extract ECG value that is not nan\n",
    "        df_RR_gastro_noninvasive.extend(ECG)"
   ]
  },
  {
   "cell_type": "code",
   "execution_count": 41,
   "metadata": {},
   "outputs": [],
   "source": [
    "df_RR_gastro_invasive = list()\n",
    "for i in range(0,len(numerical_CSV_files)):\n",
    "    my_csv_file = numerical_CSV_files[i]\n",
    "    cats_id = int(my_csv_file.split('\\\\')[2].split('_')[0])\n",
    "    RR_df = df5[df5['InvasiveVentilation']=='Yes']\n",
    "    if cats_id in RR_df[RR_df['c_respRate'] >= 600].cats_id.tolist():\n",
    "        df_data  = pd.read_csv(my_csv_file)\n",
    "        df_data = df_data[df_data['nrespRate'] == df_data['nrespRate']]\n",
    "        #df_data = df_data[df_data['nrespRate'] != 0]\n",
    "        ECG = df_data['nrespRate'].tolist()[0:600]\n",
    "        # extract ECG value that is not nan\n",
    "        df_RR_gastro_invasive.extend(ECG)"
   ]
  },
  {
   "cell_type": "code",
   "execution_count": 42,
   "metadata": {},
   "outputs": [],
   "source": [
    "df_SBP_gastro= list()\n",
    "for i in range(0,len(numerical_CSV_files)):\n",
    "    my_csv_file = numerical_CSV_files[i]\n",
    "    cats_id = int(my_csv_file.split('\\\\')[2].split('_')[0])\n",
    "    if cats_id in df5[df5['c_nbpSys'] >= 600].cats_id.tolist():\n",
    "        df_data  = pd.read_csv(my_csv_file)\n",
    "        df_data = df_data[df_data['nnbpSys'] == df_data['nnbpSys']]\n",
    "        #df_data = df_data[df_data['nnbpSys'] != 0]\n",
    "        ECG = df_data['nnbpSys'].tolist()[0:600]\n",
    "        # extract ECG value that is not nan\n",
    "        df_SBP_gastro.extend(ECG)"
   ]
  },
  {
   "cell_type": "code",
   "execution_count": 43,
   "metadata": {},
   "outputs": [],
   "source": [
    "df_DBP_gastro= list()\n",
    "for i in range(0,len(numerical_CSV_files)):\n",
    "    my_csv_file = numerical_CSV_files[i]\n",
    "    cats_id = int(my_csv_file.split('\\\\')[2].split('_')[0])\n",
    "    if cats_id in df5[df5['c_nbpDia'] >= 600].cats_id.tolist():\n",
    "        df_data  = pd.read_csv(my_csv_file)\n",
    "        df_data = df_data[df_data['nnbpDia'] == df_data['nnbpDia']]\n",
    "        #df_data = df_data[df_data['nnbpDia'] != 0]\n",
    "        ECG = df_data['nnbpDia'].tolist()[0:600]\n",
    "        # extract ECG value that is not nan\n",
    "        df_DBP_gastro.extend(ECG)"
   ]
  },
  {
   "cell_type": "code",
   "execution_count": 44,
   "metadata": {},
   "outputs": [],
   "source": [
    "df_MBP_gastro= list()\n",
    "for i in range(0,len(numerical_CSV_files)):\n",
    "    my_csv_file = numerical_CSV_files[i]\n",
    "    cats_id = int(my_csv_file.split('\\\\')[2].split('_')[0])\n",
    "    if cats_id in df5[df5['c_nbpMean'] >= 600].cats_id.tolist():\n",
    "        df_data  = pd.read_csv(my_csv_file)\n",
    "        df_data = df_data[df_data['nnbpMean'] == df_data['nnbpMean']]\n",
    "        #df_data = df_data[df_data['nnbpMean'] != 0]\n",
    "        ECG = df_data['nnbpMean'].tolist()[0:600]\n",
    "        # extract ECG value that is not nan\n",
    "        df_MBP_gastro.extend(ECG)"
   ]
  },
  {
   "cell_type": "code",
   "execution_count": 45,
   "metadata": {},
   "outputs": [
    {
     "data": {
      "text/html": [
       "<div>\n",
       "<style scoped>\n",
       "    .dataframe tbody tr th:only-of-type {\n",
       "        vertical-align: middle;\n",
       "    }\n",
       "\n",
       "    .dataframe tbody tr th {\n",
       "        vertical-align: top;\n",
       "    }\n",
       "\n",
       "    .dataframe thead th {\n",
       "        text-align: right;\n",
       "    }\n",
       "</style>\n",
       "<table border=\"1\" class=\"dataframe\">\n",
       "  <thead>\n",
       "    <tr style=\"text-align: right;\">\n",
       "      <th></th>\n",
       "      <th>cats_id</th>\n",
       "      <th>Diagnosis_Group</th>\n",
       "    </tr>\n",
       "  </thead>\n",
       "  <tbody>\n",
       "    <tr>\n",
       "      <th>5</th>\n",
       "      <td>30026</td>\n",
       "      <td>Trauma</td>\n",
       "    </tr>\n",
       "    <tr>\n",
       "      <th>69</th>\n",
       "      <td>30466</td>\n",
       "      <td>Trauma</td>\n",
       "    </tr>\n",
       "    <tr>\n",
       "      <th>136</th>\n",
       "      <td>31513</td>\n",
       "      <td>Trauma</td>\n",
       "    </tr>\n",
       "  </tbody>\n",
       "</table>\n",
       "</div>"
      ],
      "text/plain": [
       "     cats_id Diagnosis_Group\n",
       "5      30026          Trauma\n",
       "69     30466          Trauma\n",
       "136    31513          Trauma"
      ]
     },
     "execution_count": 45,
     "metadata": {},
     "output_type": "execute_result"
    }
   ],
   "source": [
    "df6 = df.loc[df['Diagnosis_Group'] == 'Trauma']\n",
    "df6.head(3)[['cats_id','Diagnosis_Group']]"
   ]
  },
  {
   "cell_type": "code",
   "execution_count": 46,
   "metadata": {},
   "outputs": [],
   "source": [
    "df_ECG_trauma= list()\n",
    "for i in range(0,len(numerical_CSV_files)):\n",
    "    my_csv_file = numerical_CSV_files[i]\n",
    "    cats_id = int(my_csv_file.split('\\\\')[2].split('_')[0])\n",
    "    if cats_id in df6[df6['c_ecgRate'] >= 600].cats_id.tolist():\n",
    "        df_data  = pd.read_csv(my_csv_file)\n",
    "        df_data = df_data[df_data['necgRate'] == df_data['necgRate']]\n",
    "        df_data = df_data[df_data['necgRate'] != 0]\n",
    "        ECG = df_data['necgRate'].tolist()[0:600]\n",
    "        # extract ECG value that is not nan\n",
    "        df_ECG_trauma.extend(ECG)"
   ]
  },
  {
   "cell_type": "code",
   "execution_count": 47,
   "metadata": {},
   "outputs": [],
   "source": [
    "df_RR_trauma_noninvasive = list()\n",
    "for i in range(0,len(numerical_CSV_files)):\n",
    "    my_csv_file = numerical_CSV_files[i]\n",
    "    cats_id = int(my_csv_file.split('\\\\')[2].split('_')[0])\n",
    "    RR_df = df6[df6['InvasiveVentilation']=='No']\n",
    "    if cats_id in RR_df[RR_df['c_respRate'] >= 600].cats_id.tolist():\n",
    "        df_data  = pd.read_csv(my_csv_file)\n",
    "        df_data = df_data[df_data['nrespRate'] == df_data['nrespRate']]\n",
    "        df_data = df_data[df_data['nrespRate'] != 0]\n",
    "        ECG = df_data['nrespRate'].tolist()[0:600]\n",
    "        # extract ECG value that is not nan\n",
    "        df_RR_trauma_noninvasive.extend(ECG)"
   ]
  },
  {
   "cell_type": "code",
   "execution_count": 48,
   "metadata": {},
   "outputs": [],
   "source": [
    "df_RR_trauma_invasive = list()\n",
    "for i in range(0,len(numerical_CSV_files)):\n",
    "    my_csv_file = numerical_CSV_files[i]\n",
    "    cats_id = int(my_csv_file.split('\\\\')[2].split('_')[0])\n",
    "    RR_df = df6[df6['InvasiveVentilation']=='Yes']\n",
    "    if cats_id in RR_df[RR_df['c_respRate'] >= 600].cats_id.tolist():\n",
    "        df_data  = pd.read_csv(my_csv_file)\n",
    "        df_data = df_data[df_data['nrespRate'] == df_data['nrespRate']]\n",
    "        df_data = df_data[df_data['nrespRate'] != 0]\n",
    "        ECG = df_data['nrespRate'].tolist()[0:600]\n",
    "        # extract ECG value that is not nan\n",
    "        df_RR_trauma_invasive.extend(ECG)"
   ]
  },
  {
   "cell_type": "code",
   "execution_count": 49,
   "metadata": {},
   "outputs": [],
   "source": [
    "df_SBP_trauma= list()\n",
    "for i in range(0,len(numerical_CSV_files)):\n",
    "    my_csv_file = numerical_CSV_files[i]\n",
    "    cats_id = int(my_csv_file.split('\\\\')[2].split('_')[0])\n",
    "    if cats_id in df6[df6['c_nbpSys'] >= 600].cats_id.tolist():\n",
    "        df_data  = pd.read_csv(my_csv_file)\n",
    "        df_data = df_data[df_data['nnbpSys'] == df_data['nnbpSys']]\n",
    "        df_data = df_data[df_data['nnbpSys'] != 0]\n",
    "        ECG = df_data['nnbpSys'].tolist()[0:600]\n",
    "        # extract ECG value that is not nan\n",
    "        df_SBP_trauma.extend(ECG)"
   ]
  },
  {
   "cell_type": "code",
   "execution_count": 50,
   "metadata": {},
   "outputs": [],
   "source": [
    "df_DBP_trauma= list()\n",
    "for i in range(0,len(numerical_CSV_files)):\n",
    "    my_csv_file = numerical_CSV_files[i]\n",
    "    cats_id = int(my_csv_file.split('\\\\')[2].split('_')[0])\n",
    "    if cats_id in df6[df6['c_nbpDia'] >= 600].cats_id.tolist():\n",
    "        df_data  = pd.read_csv(my_csv_file)\n",
    "        df_data = df_data[df_data['nnbpDia'] == df_data['nnbpDia']]\n",
    "        #df_data = df_data[df_data['nnbpDia'] != 0]\n",
    "        ECG = df_data['nnbpDia'].tolist()[0:600]\n",
    "        # extract ECG value that is not nan\n",
    "        df_DBP_trauma.extend(ECG)"
   ]
  },
  {
   "cell_type": "code",
   "execution_count": 52,
   "metadata": {},
   "outputs": [
    {
     "data": {
      "text/plain": [
       "1781"
      ]
     },
     "execution_count": 52,
     "metadata": {},
     "output_type": "execute_result"
    }
   ],
   "source": [
    "len(numerical_CSV_files)"
   ]
  },
  {
   "cell_type": "code",
   "execution_count": 53,
   "metadata": {},
   "outputs": [],
   "source": [
    "df_MBP_trauma= list()\n",
    "for i in range(0,len(numerical_CSV_files)):\n",
    "    my_csv_file = numerical_CSV_files[i]\n",
    "    cats_id = int(my_csv_file.split('\\\\')[2].split('_')[0])\n",
    "    if cats_id in df6[df6['c_nbpMean'] >= 600].cats_id.tolist():\n",
    "        df_data  = pd.read_csv(my_csv_file)\n",
    "        df_data = df_data[df_data['nnbpMean'] == df_data['nnbpMean']]\n",
    "        #df_data = df_data[df_data['nnbpMean'] != 0]\n",
    "        ECG = df_data['nnbpMean'].tolist()[0:600]\n",
    "        # extract ECG value that is not nan\n",
    "        df_MBP_trauma.extend(ECG)"
   ]
  },
  {
   "cell_type": "code",
   "execution_count": 54,
   "metadata": {},
   "outputs": [],
   "source": [
    "# https://stackoverflow.com/questions/18861075/overlaying-the-numeric-value-of-median-variance-in-boxplots\n",
    "# "
   ]
  },
  {
   "cell_type": "code",
   "execution_count": 55,
   "metadata": {},
   "outputs": [
    {
     "data": {
      "image/png": "[encoded data removed]",
      "text/plain": [
       "<Figure size 1152x1008 with 6 Axes>"
      ]
     },
     "metadata": {
      "needs_background": "light"
     },
     "output_type": "display_data"
    }
   ],
   "source": [
    "#fig = plt.figure() # create the canvas for plotting\n",
    "f, ((ax1, ax2), (ax3,ax4),(ax5,ax6)) = plt.subplots(3, 2, figsize=(16,14))\n",
    "ax1 = plt.subplot(3,2,1)\n",
    "data = [df_ECG_Respiratory,df_ECG_cardio,df_ECG_neuro,df_ECG_infection,df_ECG_gastro,df_ECG_trauma]\n",
    "ticks = ['Respiratory','Cardiovascular','Neurological','Infection','Gastrointestinal','Trauma']\n",
    "bpl = plt.boxplot(data, positions=np.array(range(len(data)))*2, widths=0.6,whis=1.5,boxprops= dict(linewidth=2.0),showfliers=False,vert=False)\n",
    "plt.yticks(range(0, len(ticks) * 2, 2), ticks)\n",
    "plt.xlim(-10,10)\n",
    "plt.tight_layout()\n",
    "ax1.set_xticklabels(labels=ax1.get_xticklabels(), rotation = 0, Fontsize=14)\n",
    "ax1.set_yticklabels(labels=ax1.get_yticklabels(), Fontsize=14)\n",
    "ax1.set_title('Z-score for HR', fontsize=16)\n",
    "\n",
    "ax2 = plt.subplot(3,2,2)\n",
    "data = [df_SBP_Respiratory,df_SBP_cardio,df_SBP_neuro,df_SBP_infection,df_SBP_gastro,df_SBP_trauma]\n",
    "ticks = ['Respiratory','Cardiovascular','Neurological','Infection','Gastrointestinal','Trauma']\n",
    "bpl = plt.boxplot(data, positions=np.array(range(len(data)))*2, widths=0.6,whis=1.5,boxprops= dict(linewidth=2.0),showfliers=False,vert=False)\n",
    "plt.yticks(range(0, len(ticks) * 2, 2), ticks)\n",
    "plt.xlim(-10,10)\n",
    "plt.tight_layout()\n",
    "ax2.set_xticklabels(labels=ax2.get_xticklabels(), rotation = 0, Fontsize=14)\n",
    "ax2.set_yticklabels(labels=ax2.get_yticklabels(), Fontsize=14)\n",
    "ax2.set_title('Z-score for SBP', fontsize=16)\n",
    "\n",
    "ax3 = plt.subplot(3,2,3)\n",
    "data = [df_DBP_Respiratory,df_DBP_cardio,df_DBP_neuro,df_DBP_infection,df_DBP_gastro,df_DBP_trauma]\n",
    "ticks = ['Respiratory','Cardiovascular','Neurological','Infection','Gastrointestinal','Trauma']\n",
    "bpl = plt.boxplot(data, positions=np.array(range(len(data)))*2, widths=0.6,whis=1.5,boxprops= dict(linewidth=2.0),showfliers=False,vert=False)\n",
    "plt.yticks(range(0, len(ticks) * 2, 2), ticks)\n",
    "plt.xlim(-10,10)\n",
    "plt.tight_layout()\n",
    "ax3.set_xticklabels(labels=ax3.get_xticklabels(), rotation = 0, Fontsize=16)\n",
    "ax3.set_yticklabels(labels=ax3.get_yticklabels(), Fontsize=14)\n",
    "ax3.set_title('Z-score for DBP', fontsize=16)\n",
    "\n",
    "\n",
    "ax4 = plt.subplot(3,2,4)\n",
    "data = [df_MBP_Respiratory,df_MBP_cardio,df_MBP_neuro,df_MBP_infection,df_MBP_gastro,df_MBP_trauma]\n",
    "ticks = ['Respiratory','Cardiovascular','Neurological','Infection','Gastrointestinal','Trauma']\n",
    "bpl = plt.boxplot(data, positions=np.array(range(len(data)))*2, widths=0.6,whis=1.5,boxprops= dict(linewidth=2.0),showfliers=False,vert=False)\n",
    "plt.yticks(range(0, len(ticks) * 2, 2), ticks)\n",
    "plt.xlim(-10,10)\n",
    "plt.tight_layout()\n",
    "ax4.set_xticklabels(labels=ax4.get_xticklabels(), rotation = 0, Fontsize=14)\n",
    "ax4.set_yticklabels(labels=ax4.get_yticklabels(), Fontsize=14)\n",
    "ax4.set_title('Z-score for MBP', fontsize=16)\n",
    "\n",
    "\n",
    "ax5 = plt.subplot(3,2,5)\n",
    "data = [df_RR_Respiratory_invasive,df_RR_cardio_invasive,df_RR_neuro_invasive,df_RR_infection_invasive,df_RR_gastro_invasive,df_RR_trauma_invasive]\n",
    "ticks = ['Respiratory','Cardiovascular','Neurological','Infection','Gastrointestinal','Trauma']\n",
    "bpl = plt.boxplot(data, positions=np.array(range(len(data)))*2, widths=0.6,whis=1.5,boxprops= dict(linewidth=2.0),showfliers=False,vert=False)\n",
    "plt.yticks(range(0, len(ticks) * 2, 2), ticks)\n",
    "plt.xlim(-10,10)\n",
    "plt.tight_layout()\n",
    "ax5.set_xticklabels(labels=ax5.get_xticklabels(), rotation = 0, Fontsize=14)\n",
    "ax5.set_yticklabels(labels=ax5.get_yticklabels(), Fontsize=14)\n",
    "ax5.set_title('Z-score for RR (v)', fontsize=16)\n",
    "\n",
    "\n",
    "ax6 = plt.subplot(3,2,6)\n",
    "data = [df_RR_Respiratory_noninvasive,df_RR_cardio_noninvasive,df_RR_neuro_noninvasive,df_RR_infection_noninvasive,df_RR_gastro_noninvasive,df_RR_trauma_noninvasive]\n",
    "ticks = ['Respiratory','Cardiovascular','Neurological','Infection','Gastrointestinal','Trauma']\n",
    "bpl = plt.boxplot(data, positions=np.array(range(len(data)))*2, widths=0.6,whis=1.5,boxprops= dict(linewidth=2.0),showfliers=False,vert=False)\n",
    "plt.yticks(range(0, len(ticks) * 2, 2), ticks)\n",
    "plt.xlim(-15,15)\n",
    "plt.tight_layout()\n",
    "ax6.set_xticklabels(labels=ax6.get_xticklabels(), rotation = 0, Fontsize=14)\n",
    "ax6.set_yticklabels(labels=ax6.get_yticklabels(), Fontsize=14)\n",
    "ax6.set_title('Z-score for RR (u)', fontsize=16)\n",
    "\n",
    "plt.savefig('Fig1_Boxplot_Z-scores_HR_RR_BP_by_diagnosis.eps', format='eps')"
   ]
  },
  {
   "cell_type": "code",
   "execution_count": 56,
   "metadata": {},
   "outputs": [],
   "source": [
    "# for line in bpl['medians']:\n",
    "#     # get position data for median line\n",
    "#     x, y = line.get_xydata()[1] # top of median line\n",
    "#     # overlay median value\n",
    "#     plt.text(x, y, '%.1f' % x,\n",
    "#          horizontalalignment='center') # draw above, centered\n",
    "# for line in bpl['boxes']:\n",
    "#     x, y = line.get_xydata()[3] # bottom of left line\n",
    "#     plt.text(x,y, '%.1f' % x,\n",
    "#          horizontalalignment='center', # centered\n",
    "#          verticalalignment='top')      # below\n",
    "#     x, y = line.get_xydata()[6] # bottom of right line\n",
    "#     plt.text(x,y, '%.1f' % x,\n",
    "#          horizontalalignment='center', # centered\n",
    "#              verticalalignment='top')      # below"
   ]
  },
  {
   "cell_type": "markdown",
   "metadata": {},
   "source": [
    "# Check 50 Confidence Interval for Vital signs in the paper"
   ]
  },
  {
   "cell_type": "code",
   "execution_count": 57,
   "metadata": {},
   "outputs": [],
   "source": [
    "### HR\n",
    "# df_ECG_Respiratory,df_ECG_cardio,df_ECG_neuro,df_ECG_infection,df_ECG_gastro,df_ECG_trauma"
   ]
  },
  {
   "cell_type": "code",
   "execution_count": 58,
   "metadata": {},
   "outputs": [
    {
     "data": {
      "text/plain": [
       "array([0.15666667, 1.46222222, 3.13333333])"
      ]
     },
     "execution_count": 58,
     "metadata": {},
     "output_type": "execute_result"
    }
   ],
   "source": [
    "np.percentile(df_ECG_Respiratory, [25, 50, 75])"
   ]
  },
  {
   "cell_type": "code",
   "execution_count": 59,
   "metadata": {},
   "outputs": [
    {
     "data": {
      "text/plain": [
       "array([0.15666667, 1.46222222, 3.13333333])"
      ]
     },
     "execution_count": 59,
     "metadata": {},
     "output_type": "execute_result"
    }
   ],
   "source": [
    "np.percentile(df_ECG_Respiratory, [25, 50, 75])"
   ]
  },
  {
   "cell_type": "code",
   "execution_count": 60,
   "metadata": {},
   "outputs": [
    {
     "data": {
      "text/plain": [
       "array([-0.47 ,  0.705,  2.115])"
      ]
     },
     "execution_count": 60,
     "metadata": {},
     "output_type": "execute_result"
    }
   ],
   "source": [
    "np.percentile(df_ECG_cardio, [25, 50, 75])"
   ]
  },
  {
   "cell_type": "code",
   "execution_count": 61,
   "metadata": {},
   "outputs": [
    {
     "data": {
      "text/plain": [
       "array([0.47      , 1.95833333, 3.19323529])"
      ]
     },
     "execution_count": 61,
     "metadata": {},
     "output_type": "execute_result"
    }
   ],
   "source": [
    "np.percentile(df_ECG_neuro, [25, 50, 75])"
   ]
  },
  {
   "cell_type": "code",
   "execution_count": 62,
   "metadata": {},
   "outputs": [
    {
     "data": {
      "text/plain": [
       "array([1.09666667, 2.83305556, 4.84842105])"
      ]
     },
     "execution_count": 62,
     "metadata": {},
     "output_type": "execute_result"
    }
   ],
   "source": [
    "np.percentile(df_ECG_infection, [25, 50, 75])"
   ]
  },
  {
   "cell_type": "code",
   "execution_count": 63,
   "metadata": {},
   "outputs": [
    {
     "data": {
      "text/plain": [
       "array([-1.175     ,  0.235     ,  1.81815789])"
      ]
     },
     "execution_count": 63,
     "metadata": {},
     "output_type": "execute_result"
    }
   ],
   "source": [
    "np.percentile(df_ECG_gastro, [25, 50, 75])"
   ]
  },
  {
   "cell_type": "code",
   "execution_count": 64,
   "metadata": {},
   "outputs": [
    {
     "data": {
      "text/plain": [
       "array([0.69263158, 2.41911765, 3.37657895])"
      ]
     },
     "execution_count": 64,
     "metadata": {},
     "output_type": "execute_result"
    }
   ],
   "source": [
    "np.percentile(df_ECG_trauma, [25, 50, 75])"
   ]
  },
  {
   "cell_type": "code",
   "execution_count": null,
   "metadata": {},
   "outputs": [],
   "source": []
  }
 ],
 "metadata": {
  "kernelspec": {
   "display_name": "Python 3",
   "language": "python",
   "name": "python3"
  },
  "language_info": {
   "codemirror_mode": {
    "name": "ipython",
    "version": 3
   },
   "file_extension": ".py",
   "mimetype": "text/x-python",
   "name": "python",
   "nbconvert_exporter": "python",
   "pygments_lexer": "ipython3",
   "version": "3.7.6"
  }
 },
 "nbformat": 4,
 "nbformat_minor": 4
}
