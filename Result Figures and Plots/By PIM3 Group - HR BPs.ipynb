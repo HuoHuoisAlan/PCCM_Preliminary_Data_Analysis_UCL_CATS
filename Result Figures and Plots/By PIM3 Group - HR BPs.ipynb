{
 "cells": [
  {
   "cell_type": "code",
   "execution_count": 1,
   "metadata": {},
   "outputs": [],
   "source": [
    "import numpy as np # linear algebra\n",
    "import pandas as pd # data processing, CSV file I/O (e.g. pd.read_csv)\n",
    "import matplotlib.pyplot as plt # plot figures\n",
    "import seaborn as sns # plot figures\n",
    "import plotly.express as px\n",
    "from datetime import datetime\n",
    "from collections import Counter\n",
    "from matplotlib.ticker import MaxNLocator\n",
    "import matplotlib.gridspec as gridspec\n",
    "from statistics import mean, median, stdev, variance\n",
    "import glob\n",
    "import os\n",
    "import math\n",
    "import random\n",
    "import time\n",
    "import warnings\n",
    "warnings.filterwarnings('ignore') "
   ]
  },
  {
   "cell_type": "code",
   "execution_count": 2,
   "metadata": {},
   "outputs": [],
   "source": [
    "file_path = \"D:\\\\Jupyter-workspace\\\\PCCM Manuscript_Data Description\\\\b_Assign Diagnosis Groups\\\\\""
   ]
  },
  {
   "cell_type": "code",
   "execution_count": 3,
   "metadata": {},
   "outputs": [
    {
     "name": "stdout",
     "output_type": "stream",
     "text": [
      "1711\n"
     ]
    }
   ],
   "source": [
    "df = pd.read_csv(file_path+\"df_monitor_patients.csv\")\n",
    "print(len(df))"
   ]
  },
  {
   "cell_type": "code",
   "execution_count": 4,
   "metadata": {},
   "outputs": [],
   "source": [
    "# local file path\n",
    "path=r'D:\\00_UCL_Z-score_Data_Files'"
   ]
  },
  {
   "cell_type": "code",
   "execution_count": 5,
   "metadata": {},
   "outputs": [],
   "source": [
    "# read all csv files from path folder\n",
    "numerical_CSV_files = glob.glob(os.path.join(path, \"*.csv\"))"
   ]
  },
  {
   "cell_type": "code",
   "execution_count": 6,
   "metadata": {},
   "outputs": [
    {
     "data": {
      "text/plain": [
       "1781"
      ]
     },
     "execution_count": 6,
     "metadata": {},
     "output_type": "execute_result"
    }
   ],
   "source": [
    "# print total number of files\n",
    "len(numerical_CSV_files)"
   ]
  },
  {
   "cell_type": "code",
   "execution_count": 7,
   "metadata": {},
   "outputs": [
    {
     "data": {
      "text/html": [
       "<div>\n",
       "<style scoped>\n",
       "    .dataframe tbody tr th:only-of-type {\n",
       "        vertical-align: middle;\n",
       "    }\n",
       "\n",
       "    .dataframe tbody tr th {\n",
       "        vertical-align: top;\n",
       "    }\n",
       "\n",
       "    .dataframe thead th {\n",
       "        text-align: right;\n",
       "    }\n",
       "</style>\n",
       "<table border=\"1\" class=\"dataframe\">\n",
       "  <thead>\n",
       "    <tr style=\"text-align: right;\">\n",
       "      <th></th>\n",
       "      <th>Unnamed: 0</th>\n",
       "      <th>Unnamed: 0.1</th>\n",
       "      <th>cats_id</th>\n",
       "      <th>gender</th>\n",
       "      <th>weight_kg</th>\n",
       "      <th>age_mon</th>\n",
       "      <th>referral_outcome_datetime</th>\n",
       "      <th>referring_unit</th>\n",
       "      <th>primary_diagnosis</th>\n",
       "      <th>diagnosis_group</th>\n",
       "      <th>...</th>\n",
       "      <th>c_abpSys</th>\n",
       "      <th>c_nbpMean</th>\n",
       "      <th>c_nbpDia</th>\n",
       "      <th>c_nbpSys</th>\n",
       "      <th>c_nPleth</th>\n",
       "      <th>c_ecgRate</th>\n",
       "      <th>c_nPoxy</th>\n",
       "      <th>key_vital_sign_count</th>\n",
       "      <th>total_transport_time</th>\n",
       "      <th>Diagnosis_Group</th>\n",
       "    </tr>\n",
       "  </thead>\n",
       "  <tbody>\n",
       "    <tr>\n",
       "      <th>0</th>\n",
       "      <td>0</td>\n",
       "      <td>0</td>\n",
       "      <td>30006</td>\n",
       "      <td>Female</td>\n",
       "      <td>3.30</td>\n",
       "      <td>2.0</td>\n",
       "      <td>01/07/2016 18:37</td>\n",
       "      <td>Lister Hospital-(RWH01)</td>\n",
       "      <td>Atrioventricular septal defect: atrial and ven...</td>\n",
       "      <td>NaN</td>\n",
       "      <td>...</td>\n",
       "      <td>0</td>\n",
       "      <td>5115</td>\n",
       "      <td>5115</td>\n",
       "      <td>5115</td>\n",
       "      <td>5771</td>\n",
       "      <td>6046</td>\n",
       "      <td>0</td>\n",
       "      <td>0</td>\n",
       "      <td>225</td>\n",
       "      <td>Cardiovascular</td>\n",
       "    </tr>\n",
       "    <tr>\n",
       "      <th>1</th>\n",
       "      <td>1</td>\n",
       "      <td>1</td>\n",
       "      <td>30008</td>\n",
       "      <td>Male</td>\n",
       "      <td>3.92</td>\n",
       "      <td>0.0</td>\n",
       "      <td>01/07/2016 21:50</td>\n",
       "      <td>Luton and Dunstable Hospital-(RC971)</td>\n",
       "      <td>Coarctation of aorta</td>\n",
       "      <td>NaN</td>\n",
       "      <td>...</td>\n",
       "      <td>0</td>\n",
       "      <td>4944</td>\n",
       "      <td>4944</td>\n",
       "      <td>4944</td>\n",
       "      <td>5698</td>\n",
       "      <td>5576</td>\n",
       "      <td>0</td>\n",
       "      <td>0</td>\n",
       "      <td>225</td>\n",
       "      <td>Cardiovascular</td>\n",
       "    </tr>\n",
       "    <tr>\n",
       "      <th>2</th>\n",
       "      <td>2</td>\n",
       "      <td>2</td>\n",
       "      <td>30013</td>\n",
       "      <td>Male</td>\n",
       "      <td>2.20</td>\n",
       "      <td>2.0</td>\n",
       "      <td>02/07/2016 23:45</td>\n",
       "      <td>Homerton University Hospital-(RQXM1)</td>\n",
       "      <td>Lower respiratory tract infection</td>\n",
       "      <td>NaN</td>\n",
       "      <td>...</td>\n",
       "      <td>0</td>\n",
       "      <td>2224</td>\n",
       "      <td>2224</td>\n",
       "      <td>2225</td>\n",
       "      <td>2260</td>\n",
       "      <td>2410</td>\n",
       "      <td>0</td>\n",
       "      <td>0</td>\n",
       "      <td>200</td>\n",
       "      <td>Respiratory</td>\n",
       "    </tr>\n",
       "  </tbody>\n",
       "</table>\n",
       "<p>3 rows × 89 columns</p>\n",
       "</div>"
      ],
      "text/plain": [
       "   Unnamed: 0  Unnamed: 0.1  cats_id  gender  weight_kg  age_mon  \\\n",
       "0           0             0    30006  Female       3.30      2.0   \n",
       "1           1             1    30008    Male       3.92      0.0   \n",
       "2           2             2    30013    Male       2.20      2.0   \n",
       "\n",
       "  referral_outcome_datetime                        referring_unit  \\\n",
       "0          01/07/2016 18:37               Lister Hospital-(RWH01)   \n",
       "1          01/07/2016 21:50  Luton and Dunstable Hospital-(RC971)   \n",
       "2          02/07/2016 23:45  Homerton University Hospital-(RQXM1)   \n",
       "\n",
       "                                   primary_diagnosis diagnosis_group  ...  \\\n",
       "0  Atrioventricular septal defect: atrial and ven...             NaN  ...   \n",
       "1                               Coarctation of aorta             NaN  ...   \n",
       "2                  Lower respiratory tract infection             NaN  ...   \n",
       "\n",
       "  c_abpSys c_nbpMean c_nbpDia c_nbpSys c_nPleth c_ecgRate c_nPoxy  \\\n",
       "0        0      5115     5115     5115     5771      6046       0   \n",
       "1        0      4944     4944     4944     5698      5576       0   \n",
       "2        0      2224     2224     2225     2260      2410       0   \n",
       "\n",
       "  key_vital_sign_count total_transport_time  Diagnosis_Group  \n",
       "0                    0                  225   Cardiovascular  \n",
       "1                    0                  225   Cardiovascular  \n",
       "2                    0                  200      Respiratory  \n",
       "\n",
       "[3 rows x 89 columns]"
      ]
     },
     "execution_count": 7,
     "metadata": {},
     "output_type": "execute_result"
    }
   ],
   "source": [
    "df.head(3)"
   ]
  },
  {
   "cell_type": "code",
   "execution_count": 8,
   "metadata": {},
   "outputs": [],
   "source": [
    "pim_1 = df[df['pim3'] <= 0.01]\n",
    "pim_1_3 = df[(df['pim3'] > 0.01)&(df['pim3'] <= 0.03)]\n",
    "pim_3_5 = df[(df['pim3'] > 0.03)&(df['pim3'] <= 0.05)]\n",
    "pim_5_10 = df[(df['pim3'] > 0.05)&(df['pim3'] <= 0.1)]\n",
    "pim_10_15 = df[(df['pim3'] > 0.1)&(df['pim3'] <= 0.15)]\n",
    "pim_15_30 = df[(df['pim3'] > 0.15)&(df['pim3'] <= 0.3)]\n",
    "pim_30_100 = df[(df['pim3'] > 0.3)&(df['pim3'] <= 1)]"
   ]
  },
  {
   "cell_type": "code",
   "execution_count": 9,
   "metadata": {},
   "outputs": [
    {
     "data": {
      "text/plain": [
       "Index(['Unnamed: 0', 'Unnamed: 0.1', 'cats_id', 'gender', 'weight_kg',\n",
       "       'age_mon', 'referral_outcome_datetime', 'referring_unit',\n",
       "       'primary_diagnosis', 'diagnosis_group', 'preexisting_conditions',\n",
       "       'ventilation_status', 'vasoactive_agent_used', 'vasoactive_agent_name',\n",
       "       'inhaled_no', 'arrive_collunit', 'depart_destunit', 'cats_interv',\n",
       "       'local_interv', 'pim3', 'transport_team_in_attendance',\n",
       "       'referral_datetime', 'referral_outcome', 'critical_incident',\n",
       "       'incident_type', 'csv_files', 'min_session_time', 'max_session_time',\n",
       "       'start_datetime', 'end_datetime', 'length_of_stay',\n",
       "       'length_of_icu_stay', 'deceased_flag', 'sex', 'ethnicity_nat_code',\n",
       "       'ethnicity_name', 'age_at_admission', 'age_at_death',\n",
       "       'Destination Unit', 'Destination Care Area', 'Depart Collection Unit',\n",
       "       'Arrive Destination Unit', 'dest_is_GOSH',\n",
       "       'CI_Patient_Equipment_Related', 'CI_Patient_Related',\n",
       "       'CI_Ambulance_Related', 'CI_Equipment_Related',\n",
       "       'CI_Communication_Related', 'age_group', 'stablization', 'journey',\n",
       "       'handover', 'Unnamed: 0.1.1', 'file_size(kb)', 'start_devTime',\n",
       "       'end_devTime', 'start_ts', 'end_ts', 'total_rows', 'file_rows',\n",
       "       'missing_rows', 'c_nResp', 'c_nPulse', 'c_acooMin', 'c_Coo', 'c_tempNa',\n",
       "       'c_tempEs', 'c_tempSk', 'c_tempCo', 'c_tempRe', 'c_Temp', 'c_awRr',\n",
       "       'c_respRate', 'c_cvpMean', 'c_artMean', 'c_artDia', 'c_artSys',\n",
       "       'c_abpMean', 'c_abpDia', 'c_abpSys', 'c_nbpMean', 'c_nbpDia',\n",
       "       'c_nbpSys', 'c_nPleth', 'c_ecgRate', 'c_nPoxy', 'key_vital_sign_count',\n",
       "       'total_transport_time', 'Diagnosis_Group'],\n",
       "      dtype='object')"
      ]
     },
     "execution_count": 9,
     "metadata": {},
     "output_type": "execute_result"
    }
   ],
   "source": [
    "df.columns"
   ]
  },
  {
   "cell_type": "code",
   "execution_count": 10,
   "metadata": {},
   "outputs": [],
   "source": [
    "def get_HR_list(my_df):\n",
    "    data_list = list()\n",
    "    for i in range(0,len(numerical_CSV_files)):\n",
    "        my_csv_file = numerical_CSV_files[i]\n",
    "        cats_id = int(my_csv_file.split('\\\\')[2].split('_')[0])\n",
    "        if cats_id in my_df[my_df['c_ecgRate'] >= 600].cats_id.tolist():\n",
    "            df_data  = pd.read_csv(my_csv_file)\n",
    "            df_data = df_data[df_data['necgRate'] == df_data['necgRate']]\n",
    "            temp_data = df_data['necgRate'].tolist()[0:600]\n",
    "            data_list.extend(temp_data)\n",
    "    return data_list"
   ]
  },
  {
   "cell_type": "code",
   "execution_count": 11,
   "metadata": {},
   "outputs": [],
   "source": [
    "def get_SBP_list(my_df):\n",
    "    data_list = list()\n",
    "    for i in range(0,len(numerical_CSV_files)):\n",
    "        my_csv_file = numerical_CSV_files[i]\n",
    "        cats_id = int(my_csv_file.split('\\\\')[2].split('_')[0])\n",
    "        if cats_id in my_df[my_df['c_nbpSys'] >= 600].cats_id.tolist():\n",
    "            df_data  = pd.read_csv(my_csv_file)\n",
    "            df_data = df_data[df_data['nnbpSys'] == df_data['nnbpSys']]\n",
    "            temp_data = df_data['nnbpSys'].tolist()[0:600]\n",
    "            data_list.extend(temp_data)\n",
    "    return data_list"
   ]
  },
  {
   "cell_type": "code",
   "execution_count": 12,
   "metadata": {},
   "outputs": [],
   "source": [
    "def get_DBP_list(my_df):\n",
    "    data_list = list()\n",
    "    for i in range(0,len(numerical_CSV_files)):\n",
    "        my_csv_file = numerical_CSV_files[i]\n",
    "        cats_id = int(my_csv_file.split('\\\\')[2].split('_')[0])\n",
    "        if cats_id in my_df[my_df['c_nbpDia'] >= 600].cats_id.tolist():\n",
    "            df_data  = pd.read_csv(my_csv_file)\n",
    "            df_data = df_data[df_data['nnbpDia'] == df_data['nnbpDia']]\n",
    "            temp_data = df_data['nnbpDia'].tolist()[0:600]\n",
    "            data_list.extend(temp_data)\n",
    "    return data_list"
   ]
  },
  {
   "cell_type": "code",
   "execution_count": 13,
   "metadata": {},
   "outputs": [],
   "source": [
    "def get_MBP_list(my_df):\n",
    "    data_list = list()\n",
    "    for i in range(0,len(numerical_CSV_files)):\n",
    "        my_csv_file = numerical_CSV_files[i]\n",
    "        cats_id = int(my_csv_file.split('\\\\')[2].split('_')[0])\n",
    "        if cats_id in my_df[my_df['c_nbpMean'] >= 600].cats_id.tolist():\n",
    "            df_data  = pd.read_csv(my_csv_file)\n",
    "            df_data = df_data[df_data['nnbpMean'] == df_data['nnbpMean']]\n",
    "            temp_data = df_data['nnbpMean'].tolist()[0:600]\n",
    "            data_list.extend(temp_data)\n",
    "    return data_list"
   ]
  },
  {
   "cell_type": "code",
   "execution_count": 14,
   "metadata": {},
   "outputs": [],
   "source": [
    "pim_1 = df[df['pim3'] <= 0.01]\n",
    "pim_1_3 = df[(df['pim3'] > 0.01)&(df['pim3'] <= 0.03)]\n",
    "pim_3_5 = df[(df['pim3'] > 0.03)&(df['pim3'] <= 0.05)]\n",
    "pim_5_10 = df[(df['pim3'] > 0.05)&(df['pim3'] <= 0.1)]\n",
    "pim_10_15 = df[(df['pim3'] > 0.1)&(df['pim3'] <= 0.15)]\n",
    "pim_15_30 = df[(df['pim3'] > 0.15)&(df['pim3'] <= 0.3)]\n",
    "pim_30_100 = df[(df['pim3'] > 0.3)&(df['pim3'] <= 1)]"
   ]
  },
  {
   "cell_type": "markdown",
   "metadata": {},
   "source": [
    "# Hear Rate data list"
   ]
  },
  {
   "cell_type": "code",
   "execution_count": 15,
   "metadata": {},
   "outputs": [],
   "source": [
    "ECG_PIM_1 = get_HR_list(pim_1)\n",
    "ECG_PIM_1_3 = get_HR_list(pim_1_3)\n",
    "ECG_PIM_3_5 = get_HR_list(pim_3_5)\n",
    "ECG_PIM_5_10 = get_HR_list(pim_5_10)\n",
    "ECG_PIM_10_15 = get_HR_list(pim_10_15)\n",
    "ECG_PIM_15_30 = get_HR_list(pim_15_30)\n",
    "ECG_PIM_30_100 = get_HR_list(pim_30_100)"
   ]
  },
  {
   "cell_type": "code",
   "execution_count": 16,
   "metadata": {},
   "outputs": [],
   "source": [
    "# Generate data used for plotting\n",
    "data_ECG = [ECG_PIM_1,ECG_PIM_1_3,ECG_PIM_3_5,ECG_PIM_5_10,ECG_PIM_10_15,ECG_PIM_15_30,ECG_PIM_30_100]"
   ]
  },
  {
   "cell_type": "markdown",
   "metadata": {},
   "source": [
    "# SBP data list"
   ]
  },
  {
   "cell_type": "code",
   "execution_count": 17,
   "metadata": {},
   "outputs": [],
   "source": [
    "SBP_PIM_1 = get_SBP_list(pim_1)\n",
    "SBP_PIM_1_3 = get_SBP_list(pim_1_3)\n",
    "SBP_PIM_3_5 = get_SBP_list(pim_3_5)\n",
    "SBP_PIM_5_10 = get_SBP_list(pim_5_10)\n",
    "SBP_PIM_10_15 = get_SBP_list(pim_10_15)\n",
    "SBP_PIM_15_30 = get_SBP_list(pim_15_30)\n",
    "SBP_PIM_30_100 = get_SBP_list(pim_30_100)"
   ]
  },
  {
   "cell_type": "code",
   "execution_count": 18,
   "metadata": {},
   "outputs": [],
   "source": [
    "# Generate data used for plotting\n",
    "data_SBP = [SBP_PIM_1,SBP_PIM_1_3,SBP_PIM_3_5,SBP_PIM_5_10,SBP_PIM_10_15,SBP_PIM_15_30,SBP_PIM_30_100]"
   ]
  },
  {
   "cell_type": "markdown",
   "metadata": {},
   "source": [
    "# DBP data list"
   ]
  },
  {
   "cell_type": "code",
   "execution_count": 19,
   "metadata": {},
   "outputs": [],
   "source": [
    "DBP_PIM_1 = get_DBP_list(pim_1)\n",
    "DBP_PIM_1_3 = get_DBP_list(pim_1_3)\n",
    "DBP_PIM_3_5 = get_DBP_list(pim_3_5)\n",
    "DBP_PIM_5_10 = get_DBP_list(pim_5_10)\n",
    "DBP_PIM_10_15 = get_DBP_list(pim_10_15)\n",
    "DBP_PIM_15_30 = get_DBP_list(pim_15_30)\n",
    "DBP_PIM_30_100 = get_DBP_list(pim_30_100)"
   ]
  },
  {
   "cell_type": "code",
   "execution_count": 20,
   "metadata": {},
   "outputs": [],
   "source": [
    "# Generate data used for plotting\n",
    "data_DBP = [DBP_PIM_1,DBP_PIM_1_3,DBP_PIM_3_5,DBP_PIM_5_10,DBP_PIM_10_15,DBP_PIM_15_30,DBP_PIM_30_100]"
   ]
  },
  {
   "cell_type": "markdown",
   "metadata": {},
   "source": [
    "# MBP data list"
   ]
  },
  {
   "cell_type": "code",
   "execution_count": 21,
   "metadata": {},
   "outputs": [],
   "source": [
    "MBP_PIM_1 = get_MBP_list(pim_1)\n",
    "MBP_PIM_1_3 = get_MBP_list(pim_1_3)\n",
    "MBP_PIM_3_5 = get_MBP_list(pim_3_5)\n",
    "MBP_PIM_5_10 = get_MBP_list(pim_5_10)\n",
    "MBP_PIM_10_15 = get_MBP_list(pim_10_15)\n",
    "MBP_PIM_15_30 = get_MBP_list(pim_15_30)\n",
    "MBP_PIM_30_100 = get_MBP_list(pim_30_100)"
   ]
  },
  {
   "cell_type": "code",
   "execution_count": 22,
   "metadata": {},
   "outputs": [],
   "source": [
    "# Generate data used for plotting\n",
    "data_MBP = [MBP_PIM_1,MBP_PIM_1_3,MBP_PIM_3_5,MBP_PIM_5_10,MBP_PIM_10_15,MBP_PIM_15_30,MBP_PIM_30_100]"
   ]
  },
  {
   "cell_type": "code",
   "execution_count": null,
   "metadata": {},
   "outputs": [],
   "source": []
  },
  {
   "cell_type": "code",
   "execution_count": 23,
   "metadata": {},
   "outputs": [],
   "source": [
    "# https://stackoverflow.com/questions/18861075/overlaying-the-numeric-value-of-median-variance-in-boxplots\n",
    "# "
   ]
  },
  {
   "cell_type": "code",
   "execution_count": 26,
   "metadata": {},
   "outputs": [
    {
     "data": {
      "image/png": "[encoded data removed]",
      "text/plain": [
       "<Figure size 1296x1008 with 4 Axes>"
      ]
     },
     "metadata": {
      "needs_background": "light"
     },
     "output_type": "display_data"
    }
   ],
   "source": [
    "#fig = plt.figure() # create the canvas for plotting\n",
    "f, ((ax1, ax2), (ax3,ax4)) = plt.subplots(2, 2, figsize=(18,14))\n",
    "ax1 = plt.subplot(2,2,1)\n",
    "data = data_ECG\n",
    "ticks = ['PIM3 <= 1%','1%< PIM3 <= 3%','3%< PIM3 <= 5%','5%< PIM3 <= 10%','10%< PIM3 <= 15%','15%< PIM3 <= 30%','30%< PIM3']\n",
    "bpl = plt.boxplot(data, positions=np.array(range(len(data)))*2, widths=0.6,whis=1.5,boxprops= dict(linewidth=2.0),showfliers=False,vert=False)\n",
    "plt.yticks(range(0, len(ticks) * 2, 2), ticks)\n",
    "plt.xlim(-10,10)\n",
    "plt.tight_layout()\n",
    "ax1.set_xticklabels(labels=ax1.get_xticklabels(), rotation = 0, Fontsize=16)\n",
    "ax1.set_yticklabels(labels=ax1.get_yticklabels(), Fontsize=16)\n",
    "ax1.set_title('Z-score for HR', fontsize=16)\n",
    "\n",
    "ax2 = plt.subplot(2,2,2)\n",
    "data = data_SBP\n",
    "ticks = ['PIM3 <= 1%','1%< PIM3 <= 3%','3%< PIM3 <= 5%','5%< PIM3 <= 10%','10%< PIM3 <= 15%','15%< PIM3 <= 30%','30%< PIM3']\n",
    "bpl = plt.boxplot(data, positions=np.array(range(len(data)))*2, widths=0.6,whis=1.5,boxprops= dict(linewidth=2.0),showfliers=False,vert=False)\n",
    "plt.yticks(range(0, len(ticks) * 2, 2), ticks)\n",
    "plt.xlim(-10,10)\n",
    "plt.tight_layout()\n",
    "ax2.set_xticklabels(labels=ax2.get_xticklabels(), rotation = 0, Fontsize=16)\n",
    "ax2.set_yticklabels(labels=ax2.get_yticklabels(), Fontsize=16)\n",
    "ax2.set_title('Z-score for SBP', fontsize=16)\n",
    "\n",
    "ax3 = plt.subplot(2,2,3)\n",
    "data = data_DBP\n",
    "ticks = ['PIM3 <= 1%','1%< PIM3 <= 3%','3%< PIM3 <= 5%','5%< PIM3 <= 10%','10%< PIM3 <= 15%','15%< PIM3 <= 30%','30%< PIM3']\n",
    "bpl = plt.boxplot(data, positions=np.array(range(len(data)))*2, widths=0.6,whis=1.5,boxprops= dict(linewidth=2.0),showfliers=False,vert=False)\n",
    "plt.yticks(range(0, len(ticks) * 2, 2), ticks)\n",
    "plt.xlim(-10,10)\n",
    "plt.tight_layout()\n",
    "ax3.set_xticklabels(labels=ax3.get_xticklabels(), rotation = 0, Fontsize=16)\n",
    "ax3.set_yticklabels(labels=ax3.get_yticklabels(), Fontsize=16)\n",
    "ax3.set_title('Z-score for DBP', fontsize=16)\n",
    "\n",
    "\n",
    "ax4 = plt.subplot(2,2,4)\n",
    "data = data_MBP\n",
    "ticks = ['PIM3 <= 1%','1%< PIM3 <= 3%','3%< PIM3 <= 5%','5%< PIM3 <= 10%','10%< PIM3 <= 15%','15%< PIM3 <= 30%','30%< PIM3']\n",
    "bpl = plt.boxplot(data, positions=np.array(range(len(data)))*2, widths=0.6,whis=1.5,boxprops= dict(linewidth=2.0),showfliers=False,vert=False)\n",
    "plt.yticks(range(0, len(ticks) * 2, 2), ticks)\n",
    "plt.xlim(-10,10)\n",
    "plt.tight_layout()\n",
    "ax4.set_xticklabels(labels=ax4.get_xticklabels(), rotation = 0, Fontsize=16)\n",
    "ax4.set_yticklabels(labels=ax4.get_yticklabels(), Fontsize=16)\n",
    "ax4.set_title('Z-score for MBP', fontsize=16)\n",
    "\n",
    "plt.savefig('S_Fig4_Boxplot_Z-scores_HR_RR_BP_by_PIM3.eps', format='eps')"
   ]
  },
  {
   "cell_type": "code",
   "execution_count": null,
   "metadata": {},
   "outputs": [],
   "source": []
  }
 ],
 "metadata": {
  "kernelspec": {
   "display_name": "Python 3",
   "language": "python",
   "name": "python3"
  },
  "language_info": {
   "codemirror_mode": {
    "name": "ipython",
    "version": 3
   },
   "file_extension": ".py",
   "mimetype": "text/x-python",
   "name": "python",
   "nbconvert_exporter": "python",
   "pygments_lexer": "ipython3",
   "version": "3.7.6"
  }
 },
 "nbformat": 4,
 "nbformat_minor": 4
}
