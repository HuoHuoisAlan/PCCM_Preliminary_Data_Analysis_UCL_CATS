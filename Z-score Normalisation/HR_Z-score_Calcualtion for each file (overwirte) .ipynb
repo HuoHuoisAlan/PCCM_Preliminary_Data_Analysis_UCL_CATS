{
 "cells": [
  {
   "cell_type": "markdown",
   "metadata": {},
   "source": [
    "# Vital Sign Normalisation using Z-score"
   ]
  },
  {
   "cell_type": "markdown",
   "metadata": {},
   "source": [
    "## - Motivation"
   ]
  },
  {
   "cell_type": "markdown",
   "metadata": {},
   "source": [
    "Some vital signs are age-dependent for the paediatric population, such as heart rate (HR), respiratory rate (RR), and blood pressures (systolic, mean and diastolic). We applied Z-score to normalise the analysed transported children's vital signs to eliminate the age difference in vital signs. We considered centile charts for the HR and RR reference values reported in [1]. For systolic and diastolic blood pressure values, we referred to the National High Blood Pressure Education Program's blood pressure tables organised by age, gender, and height [2]. Our analysis considered the MBP references for normal children as reported by [3]. We calculated Z-scores for BP by selecting children with the median height and calculating Z-score values separately for boys and girls (the detailed Z-score calculation procedure can be found in the Supplementary Materials).\n",
    "It is noteworthy that there are very few evidence-based blood pressure guidelines for neonates and infants aged 0 to 1 year, to the best of our knowledge. Blood pressure changes can be significant in preterm infants, depending on a variety of factors. To provide clinicians with a rough reference range, we empirically adjusted the blood pressure reference values for children aged 0 to 1 year by consulting paediatric transport intensivists and clinicians. Following Z-score normalisation, the vital sign distributions are examined at the population level in terms of disease groups and outcome groups throughout the transport."
   ]
  },
  {
   "cell_type": "markdown",
   "metadata": {},
   "source": [
    "## - References"
   ]
  },
  {
   "cell_type": "markdown",
   "metadata": {},
   "source": [
    "[1] S. Fleming, M. Thompson, R. Stevens, C. Heneghan, A. Plüddemann, I. Maconochie, L. Tarassenko, and D. Mant, “Normal ranges of heart rate and respiratory rate in children from birth to 18 years of age: a systematic review of observational studies,” The Lancet, vol. 377, no. 9770, pp. 1011–1018, 2011.\n",
    "\n",
    "[2] N. H. B. P. E. Program, The fourth report on the diagnosis, evaluation, and treatment of high blood pressure in children and adolescents. US Department of Health and Human Services, National Institutes of Health . . . , 2005, no. 5.\n",
    "\n",
    "[3] I. U. Haque and A. L. Zaritsky, “Analysis of the evidence for the lower limit of systolic and mean arterial pressure in children,” Pediatric Critical Care Medicine, vol. 8, no. 2, pp. 138–144, 2007.\n"
   ]
  },
  {
   "cell_type": "code",
   "execution_count": 1,
   "metadata": {},
   "outputs": [],
   "source": [
    "import numpy as np # linear algebra\n",
    "import pandas as pd # data processing, CSV file I/O (e.g. pd.read_csv)\n",
    "import matplotlib.pyplot as plt # plot figures\n",
    "import seaborn as sns # plot figures\n",
    "import plotly.express as px\n",
    "from datetime import datetime\n",
    "from collections import Counter\n",
    "from matplotlib.ticker import MaxNLocator\n",
    "import matplotlib.gridspec as gridspec\n",
    "from statistics import mean, median, stdev, variance\n",
    "import glob\n",
    "import os\n",
    "import math\n",
    "import random\n",
    "import time\n",
    "import warnings\n",
    "warnings.filterwarnings('ignore') "
   ]
  },
  {
   "cell_type": "code",
   "execution_count": 2,
   "metadata": {},
   "outputs": [],
   "source": [
    "# local file path\n",
    "path=r'D:\\\\00_UCL_Z-score_Data_Files'"
   ]
  },
  {
   "cell_type": "code",
   "execution_count": 3,
   "metadata": {},
   "outputs": [],
   "source": [
    "# read all csv files from path folder\n",
    "numerical_CSV_files = glob.glob(os.path.join(path, \"*.csv\"))"
   ]
  },
  {
   "cell_type": "code",
   "execution_count": 4,
   "metadata": {},
   "outputs": [
    {
     "data": {
      "text/plain": [
       "1781"
      ]
     },
     "execution_count": 4,
     "metadata": {},
     "output_type": "execute_result"
    }
   ],
   "source": [
    "# print total number of files\n",
    "len(numerical_CSV_files)"
   ]
  },
  {
   "cell_type": "code",
   "execution_count": 5,
   "metadata": {},
   "outputs": [],
   "source": [
    "file_path = \"D:\\\\Jupyter-workspace\\\\CATS_UCL_Description_Work\\\\Data_Prepration_and_Extraction\\\\\""
   ]
  },
  {
   "cell_type": "code",
   "execution_count": 6,
   "metadata": {},
   "outputs": [
    {
     "name": "stdout",
     "output_type": "stream",
     "text": [
      "1767\n"
     ]
    }
   ],
   "source": [
    "df_EHR = pd.read_csv(file_path+\"df_monitor_patients.csv\")\n",
    "print(len(df_EHR))"
   ]
  },
  {
   "cell_type": "code",
   "execution_count": 7,
   "metadata": {},
   "outputs": [],
   "source": [
    "file_path = \"D:\\\\Jupyter-workspace\\\\CATS_UCL_Description_Work\\\\Vital Sign Data and File Check\\\\\""
   ]
  },
  {
   "cell_type": "code",
   "execution_count": 8,
   "metadata": {},
   "outputs": [
    {
     "name": "stdout",
     "output_type": "stream",
     "text": [
      "1781\n"
     ]
    }
   ],
   "source": [
    "df_file_check = pd.read_csv(file_path+\"Numerical_Vital_Sign_Files_Summary.csv\")\n",
    "print(len(df_file_check))"
   ]
  },
  {
   "cell_type": "code",
   "execution_count": 9,
   "metadata": {},
   "outputs": [
    {
     "name": "stdout",
     "output_type": "stream",
     "text": [
      "size of:  1711\n"
     ]
    }
   ],
   "source": [
    "df = df_EHR.merge(df_file_check, left_on='cats_id', right_on='cats_id')\n",
    "df = df.reset_index(drop=True)\n",
    "print(\"size of: \",len(df))"
   ]
  },
  {
   "cell_type": "code",
   "execution_count": 10,
   "metadata": {},
   "outputs": [
    {
     "data": {
      "text/plain": [
       "Index(['Unnamed: 0_x', 'cats_id', 'gender', 'weight_kg', 'age_mon',\n",
       "       'referral_outcome_datetime', 'referring_unit', 'primary_diagnosis',\n",
       "       'diagnosis_group', 'preexisting_conditions', 'ventilation_status',\n",
       "       'vasoactive_agent_used', 'vasoactive_agent_name', 'inhaled_no',\n",
       "       'arrive_collunit', 'depart_destunit', 'cats_interv', 'local_interv',\n",
       "       'pim3', 'transport_team_in_attendance', 'referral_datetime',\n",
       "       'referral_outcome', 'critical_incident', 'incident_type', 'csv_files',\n",
       "       'min_session_time', 'max_session_time', 'start_datetime',\n",
       "       'end_datetime', 'length_of_stay', 'length_of_icu_stay', 'deceased_flag',\n",
       "       'sex', 'ethnicity_nat_code', 'ethnicity_name', 'age_at_admission',\n",
       "       'age_at_death', 'Destination Unit', 'Destination Care Area',\n",
       "       'Depart Collection Unit', 'Arrive Destination Unit', 'dest_is_GOSH',\n",
       "       'CI_Patient_Equipment_Related', 'CI_Patient_Related',\n",
       "       'CI_Ambulance_Related', 'CI_Equipment_Related',\n",
       "       'CI_Communication_Related', 'age_group', 'stablization', 'journey',\n",
       "       'handover', 'Unnamed: 0_y', 'file_size(kb)', 'start_devTime',\n",
       "       'end_devTime', 'start_ts', 'end_ts', 'total_rows', 'file_rows',\n",
       "       'missing_rows', 'c_nResp', 'c_nPulse', 'c_acooMin', 'c_Coo', 'c_tempNa',\n",
       "       'c_tempEs', 'c_tempSk', 'c_tempCo', 'c_tempRe', 'c_Temp', 'c_awRr',\n",
       "       'c_respRate', 'c_cvpMean', 'c_artMean', 'c_artDia', 'c_artSys',\n",
       "       'c_abpMean', 'c_abpDia', 'c_abpSys', 'c_nbpMean', 'c_nbpDia',\n",
       "       'c_nbpSys', 'c_nPleth', 'c_ecgRate', 'c_nPoxy', 'key_vital_sign_count'],\n",
       "      dtype='object')"
      ]
     },
     "execution_count": 10,
     "metadata": {},
     "output_type": "execute_result"
    }
   ],
   "source": [
    "df.columns"
   ]
  },
  {
   "cell_type": "markdown",
   "metadata": {},
   "source": [
    "## Define the z-score mean and STD"
   ]
  },
  {
   "cell_type": "markdown",
   "metadata": {},
   "source": [
    "- Percentile             Z score\n",
    "- 90th                 1.645\n",
    "- 95th                 1.960\n"
   ]
  },
  {
   "cell_type": "code",
   "execution_count": 12,
   "metadata": {},
   "outputs": [],
   "source": [
    "# For 90th centile it is 1.645, for 95th centile is 1.96.\n",
    "# Define z score for 80% confidence level\n",
    "z_90th_centile = 1.645\n",
    "# Define mean value for each age group\n",
    "m_0_3m  = 143\n",
    "m_3_6m    = 140\n",
    "m_6_9m    =  134\n",
    "m_9_12m    = 128\n",
    "m_12_18m  =  123\n",
    "m_18_24m   = 116\n",
    "m_2_3y  = 110\n",
    "m_3_4y     = 104\n",
    "m_4_6y  =  98\n",
    "m_6_8y   =   91\n",
    "m_8_12y =   84\n",
    "m_12_15y = 78\n",
    "m_15_18y   = 73\n",
    "\n",
    "\n",
    "# define STD for each age group\n",
    "STD_0_3m = (164-m_0_3m)/z_90th_centile\n",
    "STD_3_6m = (159-m_3_6m)/z_90th_centile\n",
    "STD_6_9m = (152-m_6_9m)/z_90th_centile\n",
    "STD_9_12m = (145-m_9_12m)/z_90th_centile\n",
    "STD_12_18m = (140-m_12_18m)/z_90th_centile\n",
    "STD_18_24m = (135-m_18_24m)/z_90th_centile\n",
    "STD_2_3y = (128-m_2_3y)/z_90th_centile\n",
    "STD_3_4y= (123-m_3_4y)/z_90th_centile\n",
    "STD_4_6y = (117-m_4_6y)/z_90th_centile\n",
    "STD_6_8y = (111-m_6_8y)/z_90th_centile\n",
    "STD_8_12y = (103-m_8_12y)/z_90th_centile\n",
    "STD_12_15y = (96-m_12_15y)/z_90th_centile\n",
    "STD_15_18y = (92-m_15_18y)/z_90th_centile\n",
    "\n"
   ]
  },
  {
   "cell_type": "markdown",
   "metadata": {},
   "source": [
    "## Split patients to different age groups\n",
    "## Assign mean and STD values to each age group\n",
    "- 0-3,3-6,6-9,9-12,12-18 moths\n",
    "- 18- 24 months, 2 - 3 year, 3-4 year, 4-6 year,6-8 year, 8-12 y, 12-15 y,15-18y"
   ]
  },
  {
   "cell_type": "code",
   "execution_count": 13,
   "metadata": {},
   "outputs": [],
   "source": [
    "for i in range(0,len(df)):\n",
    "    age = df.iloc[i]['age_mon']\n",
    "    if 0 <= age and age <= 3:\n",
    "        df.at[i,'Z_age_group'] = \"0-3m\"\n",
    "        df.at[i,'Z_mean_value'] = m_0_3m\n",
    "        df.at[i,'Z_STD'] = STD_0_3m \n",
    "    elif 3 < age and age <= 6:\n",
    "        df.at[i,'Z_age_group'] = \"3-6m\"\n",
    "        df.at[i,'Z_mean_value'] = m_3_6m\n",
    "        df.at[i,'Z_STD'] = STD_3_6m \n",
    "    elif 6 < age and age <= 9:\n",
    "        df.at[i,'Z_age_group'] = \"6-9m\"\n",
    "        df.at[i,'Z_mean_value'] = m_6_9m    \n",
    "        df.at[i,'Z_STD'] = STD_6_9m \n",
    "    elif 9 < age and age <= 12:\n",
    "        df.at[i,'Z_age_group'] = \"9-12m\"\n",
    "        df.at[i,'Z_mean_value'] = m_9_12m\n",
    "        df.at[i,'Z_STD'] = STD_9_12m \n",
    "    elif 12 < age and age <= 18:\n",
    "        df.at[i,'Z_age_group'] = \"12-18m\"\n",
    "        df.at[i,'Z_mean_value'] = m_12_18m  \n",
    "        df.at[i,'Z_STD'] = STD_12_18m\n",
    "    elif 18 < age and age <= 24:\n",
    "        df.at[i,'Z_age_group'] = \"18-24m\"\n",
    "        df.at[i,'Z_mean_value'] = m_18_24m   \n",
    "        df.at[i,'Z_STD'] = STD_18_24m \n",
    "    elif 2*12 < age and age <= 3*12:\n",
    "        df.at[i,'Z_age_group'] = \"2-3y\"\n",
    "        df.at[i,'Z_mean_value'] = m_2_3y  \n",
    "        df.at[i,'Z_STD'] = STD_2_3y\n",
    "    elif 3*12 < age and age <= 4*12:\n",
    "        df.at[i,'Z_age_group'] = \"3-4y\"\n",
    "        df.at[i,'Z_mean_value'] = m_3_4y\n",
    "        df.at[i,'Z_STD'] = STD_3_4y \n",
    "    elif 4*12 < age and age <= 6*12:\n",
    "        df.at[i,'Z_age_group'] = \"4-6y\"\n",
    "        df.at[i,'Z_mean_value'] = m_4_6y\n",
    "        df.at[i,'Z_STD'] = STD_4_6y \n",
    "    elif 6*12 < age and age <= 8*12:\n",
    "        df.at[i,'Z_age_group'] = \"6-8y\"\n",
    "        df.at[i,'Z_mean_value'] = m_6_8y   \n",
    "        df.at[i,'Z_STD'] = STD_6_8y    \n",
    "    elif 8*12 < age and age <= 12*12:\n",
    "        df.at[i,'Z_age_group'] = \"8-12y\"\n",
    "        df.at[i,'Z_mean_value'] = m_8_12y\n",
    "        df.at[i,'Z_STD'] = STD_8_12y\n",
    "    elif 12*12 < age and age <= 15*12:\n",
    "        df.at[i,'Z_age_group'] = \"12-15y\"\n",
    "        df.at[i,'Z_mean_value'] = m_12_15y \n",
    "        df.at[i,'Z_STD'] = STD_12_15y\n",
    "    elif 15*12 < age and age <= 18*12:\n",
    "        df.at[i,'Z_age_group'] = \"15-18y\"\n",
    "        df.at[i,'Z_mean_value'] = m_15_18y   \n",
    "        df.at[i,'Z_STD'] = STD_15_18y   "
   ]
  },
  {
   "cell_type": "markdown",
   "metadata": {},
   "source": [
    "## Iterate each file and if the value is not 0, then calcuate z-score"
   ]
  },
  {
   "cell_type": "code",
   "execution_count": null,
   "metadata": {},
   "outputs": [],
   "source": [
    "# write data of interest to the df dataframe - the file describing data characterstics\n",
    "# More columns can be added later\n",
    "monitor_CATS_ID_List = df.cats_id.to_list()\n",
    "for i in range(0,len(numerical_CSV_files)):\n",
    "    print('The file NO. is: ',i)\n",
    "    index = i\n",
    "    # load one file each time\n",
    "    my_csv_file = numerical_CSV_files[index]\n",
    "    print('File path and name:',my_csv_file)\n",
    "    #fsize = round(os.path.getsize(my_csv_file)/float(1024),2)\n",
    "    #print('fsize: ',fsize)\n",
    "    cats_id = int(my_csv_file.split('\\\\')[3].split('_')[0])\n",
    "    print('cats_id: ',cats_id)\n",
    "    file_name  = my_csv_file.split('\\\\')[3]\n",
    "    # If there are  values in the HR data\n",
    "    if cats_id in monitor_CATS_ID_List: \n",
    "        if df[df['cats_id']==cats_id].c_ecgRate.values[0] != 0:\n",
    "            read_df = pd.read_csv(my_csv_file)\n",
    "            read_df = read_df.reset_index(drop=True)\n",
    "            Z_mean = df[df['cats_id']==cats_id].Z_mean_value.values[0]\n",
    "            Z_STD = df[df['cats_id']==cats_id].Z_STD.values[0]\n",
    "            for k in range(0,len(read_df)):\n",
    "                HR_value = read_df.iloc[k]['necgRate']\n",
    "                z_HR_value = (HR_value-Z_mean)/Z_STD\n",
    "                read_df.at[k,'necgRate'] = z_HR_value\n",
    "            writePath = 'D:\\\\00_UCL_Z-score_Data_Files'\n",
    "            filePath = writePath + '\\\\' + file_name\n",
    "            print('Writing Destination Path:',filePath)\n",
    "            read_df.to_csv(filePath)"
   ]
  }
 ],
 "metadata": {
  "kernelspec": {
   "display_name": "Python 3",
   "language": "python",
   "name": "python3"
  },
  "language_info": {
   "codemirror_mode": {
    "name": "ipython",
    "version": 3
   },
   "file_extension": ".py",
   "mimetype": "text/x-python",
   "name": "python",
   "nbconvert_exporter": "python",
   "pygments_lexer": "ipython3",
   "version": "3.7.6"
  }
 },
 "nbformat": 4,
 "nbformat_minor": 4
}
