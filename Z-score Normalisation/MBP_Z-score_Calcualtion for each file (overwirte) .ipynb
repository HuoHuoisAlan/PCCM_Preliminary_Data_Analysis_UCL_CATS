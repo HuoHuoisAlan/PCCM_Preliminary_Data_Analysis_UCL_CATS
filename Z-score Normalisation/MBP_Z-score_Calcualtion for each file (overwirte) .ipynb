{
 "cells": [
  {
   "cell_type": "code",
   "execution_count": null,
   "metadata": {},
   "outputs": [],
   "source": [
    "import numpy as np # linear algebra\n",
    "import pandas as pd # data processing, CSV file I/O (e.g. pd.read_csv)\n",
    "import matplotlib.pyplot as plt # plot figures\n",
    "import seaborn as sns # plot figures\n",
    "import plotly.express as px\n",
    "from datetime import datetime\n",
    "from collections import Counter\n",
    "from matplotlib.ticker import MaxNLocator\n",
    "import matplotlib.gridspec as gridspec\n",
    "from statistics import mean, median, stdev, variance\n",
    "import glob\n",
    "import os\n",
    "import math\n",
    "import random\n",
    "import time\n",
    "import warnings\n",
    "warnings.filterwarnings('ignore') "
   ]
  },
  {
   "cell_type": "code",
   "execution_count": null,
   "metadata": {},
   "outputs": [],
   "source": [
    "# local file path\n",
    "path=r'D:\\\\00_UCL_Z-score_Data_Files'"
   ]
  },
  {
   "cell_type": "code",
   "execution_count": null,
   "metadata": {},
   "outputs": [],
   "source": [
    "# read all csv files from path folder\n",
    "numerical_CSV_files = glob.glob(os.path.join(path, \"*.csv\"))"
   ]
  },
  {
   "cell_type": "code",
   "execution_count": null,
   "metadata": {},
   "outputs": [],
   "source": [
    "# print total number of files\n",
    "len(numerical_CSV_files)"
   ]
  },
  {
   "cell_type": "code",
   "execution_count": null,
   "metadata": {},
   "outputs": [],
   "source": [
    "file_path = \"D:\\\\Jupyter-workspace\\\\CATS_UCL_Description_Work\\\\Data_Prepration_and_Extraction\\\\\""
   ]
  },
  {
   "cell_type": "code",
   "execution_count": null,
   "metadata": {},
   "outputs": [],
   "source": [
    "df_EHR = pd.read_csv(file_path+\"df_monitor_patients.csv\")\n",
    "print(len(df_EHR))"
   ]
  },
  {
   "cell_type": "code",
   "execution_count": null,
   "metadata": {},
   "outputs": [],
   "source": [
    "file_path = \"D:\\\\Jupyter-workspace\\\\CATS_UCL_Description_Work\\\\Vital Sign Data and File Check\\\\\""
   ]
  },
  {
   "cell_type": "code",
   "execution_count": null,
   "metadata": {},
   "outputs": [],
   "source": [
    "df_file_check = pd.read_csv(file_path+\"Numerical_Vital_Sign_Files_Summary.csv\")\n",
    "print(len(df_file_check))"
   ]
  },
  {
   "cell_type": "code",
   "execution_count": null,
   "metadata": {},
   "outputs": [],
   "source": [
    "df = df_EHR.merge(df_file_check, left_on='cats_id', right_on='cats_id')\n",
    "df = df.reset_index(drop=True)\n",
    "print(\"size of: \",len(df))"
   ]
  },
  {
   "cell_type": "code",
   "execution_count": null,
   "metadata": {},
   "outputs": [],
   "source": [
    "df.columns"
   ]
  },
  {
   "cell_type": "code",
   "execution_count": null,
   "metadata": {},
   "outputs": [],
   "source": [
    "df.head(3)"
   ]
  },
  {
   "cell_type": "code",
   "execution_count": null,
   "metadata": {},
   "outputs": [],
   "source": [
    "df.gender.unique()"
   ]
  },
  {
   "cell_type": "markdown",
   "metadata": {},
   "source": [
    "## Define the z-score mean and STD"
   ]
  },
  {
   "cell_type": "code",
   "execution_count": null,
   "metadata": {},
   "outputs": [],
   "source": [
    "# For 90th centile it is 1.645, for 95th centile is 1.96.\n",
    "# Define z score for 80% confidence level\n",
    "z_90th_centile = 1.96\n",
    "# Define mean value for each age group\n",
    "m_0_1y_MALE    = 50\n",
    "m_1_2y_MALE    = 53\n",
    "m_2_3y_MALE    =  57\n",
    "m_3_4y_MALE    = 61\n",
    "m_4_5y_MALE  =  64\n",
    "m_5_6y_MALE   = 67\n",
    "m_6_7y_MALE  = 69\n",
    "m_7_8y_MALE     = 70\n",
    "m_8_9y_MALE  =  72\n",
    "m_9_10y_MALE   =   73\n",
    "m_10_11y_MALE =   75\n",
    "m_11_12y_MALE = 75\n",
    "m_12_13y_MALE   = 77\n",
    "m_13_14y_MALE   = 77\n",
    "m_14_15y_MALE   = 79\n",
    "m_15_16y_MALE   = 80\n",
    "m_16_17y_MALE   = 82\n",
    "m_17_18y_MALE   = 84\n",
    "\n",
    "\n",
    "# define STD for each age group\n",
    "STD_0_1y_MALE = (68-m_0_1y_MALE)/z_90th_centile\n",
    "STD_1_2y_MALE = (72-m_1_2y_MALE)/z_90th_centile\n",
    "STD_2_3y_MALE = (76-m_2_3y_MALE)/z_90th_centile\n",
    "STD_3_4y_MALE = (80-m_3_4y_MALE)/z_90th_centile\n",
    "STD_4_5y_MALE = (83-m_4_5y_MALE)/z_90th_centile\n",
    "STD_5_6y_MALE = (85-m_5_6y_MALE)/z_90th_centile\n",
    "STD_6_7y_MALE = (87-m_6_7y_MALE)/z_90th_centile\n",
    "STD_7_8y_MALE = (89-m_7_8y_MALE)/z_90th_centile\n",
    "STD_8_9y_MALE = (91-m_8_9y_MALE)/z_90th_centile\n",
    "STD_9_10y_MALE = (92-m_9_10y_MALE)/z_90th_centile\n",
    "STD_10_11y_MALE = (93-m_10_11y_MALE)/z_90th_centile\n",
    "STD_11_12y_MALE = (94-m_11_12y_MALE)/z_90th_centile\n",
    "STD_12_13y_MALE = (95-m_12_13y_MALE)/z_90th_centile\n",
    "STD_13_14y_MALE = (96-m_13_14y_MALE)/z_90th_centile\n",
    "STD_14_15y_MALE = (97-m_14_15y_MALE)/z_90th_centile\n",
    "STD_15_16y_MALE = (99-m_15_16y_MALE)/z_90th_centile\n",
    "STD_16_17y_MALE = (101-m_16_17y_MALE)/z_90th_centile\n",
    "STD_17_18y_MALE = (103-m_16_17y_MALE)/z_90th_centile\n"
   ]
  },
  {
   "cell_type": "code",
   "execution_count": null,
   "metadata": {},
   "outputs": [],
   "source": [
    "# For 90th centile it is 1.645, for 95th centile is 1.96.\n",
    "# Define z score for 80% confidence level\n",
    "z_90th_centile = 1.96\n",
    "# Define mean value for each age group\n",
    "m_0_1y_FEMALE    = 51\n",
    "m_1_2y_FEMALE    = 55\n",
    "m_2_3y_FEMALE    =  59\n",
    "m_3_4y_FEMALE    = 62\n",
    "m_4_5y_FEMALE  =  65\n",
    "m_5_6y_FEMALE   = 67\n",
    "m_6_7y_FEMALE  = 69\n",
    "m_7_8y_FEMALE     = 70\n",
    "m_8_9y_FEMALE  =  71\n",
    "m_9_10y_FEMALE   =   73\n",
    "m_10_11y_FEMALE =   74\n",
    "m_11_12y_FEMALE = 75\n",
    "m_12_13y_FEMALE   = 76\n",
    "m_13_14y_FEMALE   = 78\n",
    "m_14_15y_FEMALE   = 79\n",
    "m_15_16y_FEMALE   = 80\n",
    "m_16_17y_FEMALE   = 81\n",
    "m_17_18y_FEMALE   = 81\n",
    "\n",
    "\n",
    "# define STD for each age group\n",
    "STD_0_1y_FEMALE = (69-m_1_2y_FEMALE)/z_90th_centile\n",
    "STD_1_2y_FEMALE = (73-m_1_2y_FEMALE)/z_90th_centile\n",
    "STD_2_3y_FEMALE = (77-m_2_3y_FEMALE)/z_90th_centile\n",
    "STD_3_4y_FEMALE = (80-m_3_4y_FEMALE)/z_90th_centile\n",
    "STD_4_5y_FEMALE = (83-m_4_5y_FEMALE)/z_90th_centile\n",
    "STD_5_6y_FEMALE = (85-m_5_6y_FEMALE)/z_90th_centile\n",
    "STD_6_7y_FEMALE = (86-m_6_7y_FEMALE)/z_90th_centile\n",
    "STD_7_8y_FEMALE = (87-m_7_8y_FEMALE)/z_90th_centile\n",
    "STD_8_9y_FEMALE = (89-m_8_9y_FEMALE)/z_90th_centile\n",
    "STD_9_10y_FEMALE = (90-m_9_10y_FEMALE)/z_90th_centile\n",
    "STD_10_11y_FEMALE = (92-m_10_11y_FEMALE)/z_90th_centile\n",
    "STD_11_12y_FEMALE = (93-m_11_12y_FEMALE)/z_90th_centile\n",
    "STD_12_13y_FEMALE = (94-m_12_13y_FEMALE)/z_90th_centile\n",
    "STD_13_14y_FEMALE = (95-m_13_14y_FEMALE)/z_90th_centile\n",
    "STD_14_15y_FEMALE = (97-m_14_15y_FEMALE)/z_90th_centile\n",
    "STD_15_16y_FEMALE = (98-m_15_16y_FEMALE)/z_90th_centile\n",
    "STD_16_17y_FEMALE = (99-m_16_17y_FEMALE)/z_90th_centile\n",
    "STD_17_18y_FEMALE = (99-m_16_17y_FEMALE)/z_90th_centile\n"
   ]
  },
  {
   "cell_type": "markdown",
   "metadata": {},
   "source": [
    "## Split patients to different age groups\n",
    "## Assign mean and STD values to each age group\n",
    "- 0-3,3-6,6-9,9-12,12-18 moths\n",
    "- 18- 24 months, 2 - 3 year, 3-4 year, 4-6 year,6-8 year, 8-12 y, 12-15 y,15-18y"
   ]
  },
  {
   "cell_type": "code",
   "execution_count": null,
   "metadata": {},
   "outputs": [],
   "source": [
    "# array(['Female', 'Male'], dtype=object)\n",
    "for i in range(0,len(df)):\n",
    "    age = df.iloc[i]['age_mon']\n",
    "    gender = df.iloc[i]['gender']\n",
    "    if gender=='Male':\n",
    "        if 0 <= age and age <= 12:\n",
    "            df.at[i,'Z_age_group'] = \"0-1y\"\n",
    "            df.at[i,'Z_mean_value_MALE'] = m_0_1y_MALE\n",
    "            df.at[i,'Z_STD_MALE'] = STD_0_1y_MALE \n",
    "        elif 12 < age and age <= 12*2:\n",
    "            df.at[i,'Z_age_group'] = \"1-2y\"\n",
    "            df.at[i,'Z_mean_value_MALE'] = m_1_2y_MALE\n",
    "            df.at[i,'Z_STD_MALE'] = STD_1_2y_MALE \n",
    "        elif 12*2 < age and age <= 12*3:\n",
    "            df.at[i,'Z_age_group'] = \"2-3y\"\n",
    "            df.at[i,'Z_mean_value_MALE'] = m_2_3y_MALE\n",
    "            df.at[i,'Z_STD_MALE'] = STD_2_3y_MALE \n",
    "        elif 12*3 < age and age <= 12*4:\n",
    "            df.at[i,'Z_age_group'] = \"3-4y\"\n",
    "            df.at[i,'Z_mean_value_MALE'] = m_3_4y_MALE    \n",
    "            df.at[i,'Z_STD_MALE'] = STD_3_4y_MALE \n",
    "        elif 12*4 < age and age <= 12*5:\n",
    "            df.at[i,'Z_age_group'] = \"4-5y\"\n",
    "            df.at[i,'Z_mean_value_MALE'] = m_4_5y_MALE\n",
    "            df.at[i,'Z_STD_MALE'] = STD_4_5y_MALE \n",
    "        elif 12*5 < age and age <= 12*6:\n",
    "            df.at[i,'Z_age_group'] = \"5-6y\"\n",
    "            df.at[i,'Z_mean_value_MALE'] = m_5_6y_MALE  \n",
    "            df.at[i,'Z_STD_MALE'] = STD_5_6y_MALE\n",
    "        elif 12*6 < age and age <= 12*7:\n",
    "            df.at[i,'Z_age_group'] = \"6-7y\"\n",
    "            df.at[i,'Z_mean_value_MALE'] = m_6_7y_MALE   \n",
    "            df.at[i,'Z_STD_MALE'] = STD_6_7y_MALE \n",
    "        elif 12*7 < age and age <= 12*8:\n",
    "            df.at[i,'Z_age_group'] = \"7-8y\"\n",
    "            df.at[i,'Z_mean_value_MALE'] = m_7_8y_MALE  \n",
    "            df.at[i,'Z_STD_MALE'] = STD_7_8y_MALE\n",
    "        elif 12*8 < age and age <= 12*9:\n",
    "            df.at[i,'Z_age_group'] = \"8-9y\"\n",
    "            df.at[i,'Z_mean_value_MALE'] = m_8_9y_MALE\n",
    "            df.at[i,'Z_STD_MALE'] = STD_8_9y_MALE \n",
    "        elif 12*9 < age and age <= 12*10:\n",
    "            df.at[i,'Z_age_group'] = \"9-10y\"\n",
    "            df.at[i,'Z_mean_value_MALE'] = m_9_10y_MALE\n",
    "            df.at[i,'Z_STD_MALE'] = STD_9_10y_MALE \n",
    "        elif 12*10 < age and age <= 12*11:\n",
    "            df.at[i,'Z_age_group'] = \"10-11y\"\n",
    "            df.at[i,'Z_mean_value_MALE'] = m_10_11y_MALE   \n",
    "            df.at[i,'Z_STD_MALE'] = STD_10_11y_MALE    \n",
    "        elif 12*11 < age and age <= 12*12:\n",
    "            df.at[i,'Z_age_group'] = \"11-12y\"\n",
    "            df.at[i,'Z_mean_value_MALE'] = m_11_12y_MALE\n",
    "            df.at[i,'Z_STD_MALE'] = STD_11_12y_MALE\n",
    "        elif 12*12 < age and age <= 12*13:\n",
    "            df.at[i,'Z_age_group'] = \"12-13y\"\n",
    "            df.at[i,'Z_mean_value_MALE'] = m_12_13y_MALE\n",
    "            df.at[i,'Z_STD_MALE'] = STD_12_13y_MALE\n",
    "        elif 12*13 < age and age <= 12*14:\n",
    "            df.at[i,'Z_age_group'] = \"13-14y\"\n",
    "            df.at[i,'Z_mean_value_MALE'] = m_13_14y_MALE\n",
    "            df.at[i,'Z_STD_MALE'] = STD_13_14y_MALE\n",
    "        elif 12*14 < age and age <= 12*15:\n",
    "            df.at[i,'Z_age_group'] = \"14-15y\"\n",
    "            df.at[i,'Z_mean_value_MALE'] = m_14_15y_MALE\n",
    "            df.at[i,'Z_STD_MALE'] = STD_14_15y_MALE\n",
    "        elif 12*15 < age and age <= 12*16:\n",
    "            df.at[i,'Z_age_group'] = \"15-16y\"\n",
    "            df.at[i,'Z_mean_value_MALE'] = m_15_16y_MALE\n",
    "            df.at[i,'Z_STD_MALE'] = STD_15_16y_MALE\n",
    "        elif 12*16 < age and age <= 12*17:\n",
    "            df.at[i,'Z_age_group'] = \"16-17y\"\n",
    "            df.at[i,'Z_mean_value_MALE'] = m_16_17y_MALE\n",
    "            df.at[i,'Z_STD_MALE'] = STD_16_17y_MALE\n",
    "        elif 12*17 < age and age <= 12*18:\n",
    "            df.at[i,'Z_age_group'] = \"17-18y\"\n",
    "            df.at[i,'Z_mean_value_MALE'] = m_17_18y_MALE\n",
    "            df.at[i,'Z_STD_MALE'] = STD_17_18y_MALE\n",
    "    elif gender=='Female':\n",
    "        if 0 <= age and age <= 12:\n",
    "            df.at[i,'Z_age_group'] = \"0-1y\"\n",
    "            df.at[i,'Z_mean_value_FEMALE'] = m_0_1y_FEMALE\n",
    "            df.at[i,'Z_STD_FEMALE'] = STD_0_1y_FEMALE\n",
    "        elif 12 < age and age <= 12*2:\n",
    "            df.at[i,'Z_age_group'] = \"1-2y\"\n",
    "            df.at[i,'Z_mean_value_FEMALE'] = m_1_2y_FEMALE\n",
    "            df.at[i,'Z_STD_FEMALE'] = STD_1_2y_FEMALE \n",
    "        elif 12*2 < age and age <= 12*3:\n",
    "            df.at[i,'Z_age_group'] = \"2-3y\"\n",
    "            df.at[i,'Z_mean_value_FEMALE'] = m_2_3y_FEMALE\n",
    "            df.at[i,'Z_STD_FEMALE'] = STD_2_3y_FEMALE \n",
    "        elif 12*3 < age and age <= 12*4:\n",
    "            df.at[i,'Z_age_group'] = \"3-4y\"\n",
    "            df.at[i,'Z_mean_value_FEMALE'] = m_3_4y_FEMALE    \n",
    "            df.at[i,'Z_STD_FEMALE'] = STD_3_4y_FEMALE \n",
    "        elif 12*4 < age and age <= 12*5:\n",
    "            df.at[i,'Z_age_group'] = \"4-5y\"\n",
    "            df.at[i,'Z_mean_value_FEMALE'] = m_4_5y_FEMALE\n",
    "            df.at[i,'Z_STD_FEMALE'] = STD_4_5y_FEMALE \n",
    "        elif 12*5 < age and age <= 12*6:\n",
    "            df.at[i,'Z_age_group'] = \"5-6y\"\n",
    "            df.at[i,'Z_mean_value_FEMALE'] = m_5_6y_FEMALE  \n",
    "            df.at[i,'Z_STD_FEMALE'] = STD_5_6y_FEMALE\n",
    "        elif 12*6 < age and age <= 12*7:\n",
    "            df.at[i,'Z_age_group'] = \"6-7y\"\n",
    "            df.at[i,'Z_mean_value_FEMALE'] = m_6_7y_FEMALE   \n",
    "            df.at[i,'Z_STD_FEMALE'] = STD_6_7y_FEMALE \n",
    "        elif 12*7 < age and age <= 12*8:\n",
    "            df.at[i,'Z_age_group'] = \"7-8y\"\n",
    "            df.at[i,'Z_mean_value_FEMALE'] = m_7_8y_FEMALE  \n",
    "            df.at[i,'Z_STD_FEMALE'] = STD_7_8y_FEMALE\n",
    "        elif 12*8 < age and age <= 12*9:\n",
    "            df.at[i,'Z_age_group'] = \"8-9y\"\n",
    "            df.at[i,'Z_mean_value_FEMALE'] = m_8_9y_FEMALE\n",
    "            df.at[i,'Z_STD_FEMALE'] = STD_8_9y_FEMALE \n",
    "        elif 12*9 < age and age <= 12*10:\n",
    "            df.at[i,'Z_age_group'] = \"9-10y\"\n",
    "            df.at[i,'Z_mean_value_FEMALE'] = m_9_10y_FEMALE\n",
    "            df.at[i,'Z_STD_FEMALE'] = STD_9_10y_FEMALE \n",
    "        elif 12*10 < age and age <= 12*11:\n",
    "            df.at[i,'Z_age_group'] = \"10-11y\"\n",
    "            df.at[i,'Z_mean_value_FEMALE'] = m_10_11y_FEMALE   \n",
    "            df.at[i,'Z_STD_FEMALE'] = STD_10_11y_FEMALE    \n",
    "        elif 12*11 < age and age <= 12*12:\n",
    "            df.at[i,'Z_age_group'] = \"11-12y\"\n",
    "            df.at[i,'Z_mean_value_FEMALE'] = m_11_12y_FEMALE\n",
    "            df.at[i,'Z_STD_FEMALE'] = STD_11_12y_FEMALE\n",
    "        elif 12*12 < age and age <= 12*13:\n",
    "            df.at[i,'Z_age_group'] = \"12-13y\"\n",
    "            df.at[i,'Z_mean_value_FEMALE'] = m_12_13y_FEMALE\n",
    "            df.at[i,'Z_STD_FEMALE'] = STD_12_13y_FEMALE\n",
    "        elif 12*13 < age and age <= 12*14:\n",
    "            df.at[i,'Z_age_group'] = \"13-14y\"\n",
    "            df.at[i,'Z_mean_value_FEMALE'] = m_13_14y_FEMALE\n",
    "            df.at[i,'Z_STD_FEMALE'] = STD_13_14y_FEMALE\n",
    "        elif 12*14 < age and age <= 12*15:\n",
    "            df.at[i,'Z_age_group'] = \"14-15y\"\n",
    "            df.at[i,'Z_mean_value_FEMALE'] = m_14_15y_FEMALE\n",
    "            df.at[i,'Z_STD_FEMALE'] = STD_14_15y_FEMALE\n",
    "        elif 12*15 < age and age <= 12*16:\n",
    "            df.at[i,'Z_age_group'] = \"15-16y\"\n",
    "            df.at[i,'Z_mean_value_FEMALE'] = m_15_16y_FEMALE\n",
    "            df.at[i,'Z_STD_FEMALE'] = STD_15_16y_FEMALE\n",
    "        elif 12*16 < age and age <= 12*17:\n",
    "            df.at[i,'Z_age_group'] = \"16-17y\"\n",
    "            df.at[i,'Z_mean_value_FEMALE'] = m_16_17y_FEMALE\n",
    "            df.at[i,'Z_STD_FEMALE'] = STD_16_17y_FEMALE\n",
    "        elif 12*17 < age and age <= 12*18:\n",
    "            df.at[i,'Z_age_group'] = \"17-18y\"\n",
    "            df.at[i,'Z_mean_value_FEMALE'] = m_17_18y_FEMALE\n",
    "            df.at[i,'Z_STD_FEMALE'] = STD_17_18y_FEMALE"
   ]
  },
  {
   "cell_type": "code",
   "execution_count": null,
   "metadata": {},
   "outputs": [],
   "source": [
    "df[(0<=df['age_mon']) & (df['age_mon']<=12)].gender.value_counts()"
   ]
  },
  {
   "cell_type": "code",
   "execution_count": null,
   "metadata": {},
   "outputs": [],
   "source": [
    "df[(12<df['age_mon']) & (df['age_mon']<=12*18)].gender.value_counts()"
   ]
  },
  {
   "cell_type": "code",
   "execution_count": null,
   "metadata": {},
   "outputs": [],
   "source": [
    "monitor_CATS_ID_List = df.cats_id.to_list()\n",
    "count = 0\n",
    "for i in range(0,len(numerical_CSV_files)):\n",
    "    index = i\n",
    "    # load one file each time\n",
    "    my_csv_file = numerical_CSV_files[index]\n",
    "    cats_id = int(my_csv_file.split('\\\\')[3].split('_')[0])\n",
    "    if cats_id in monitor_CATS_ID_List:\n",
    "        count = count +1\n",
    "print(count)"
   ]
  },
  {
   "cell_type": "code",
   "execution_count": null,
   "metadata": {},
   "outputs": [],
   "source": [
    "len(df[(12<df['age_mon']) & (df['age_mon']<=12*18)])"
   ]
  },
  {
   "cell_type": "code",
   "execution_count": null,
   "metadata": {},
   "outputs": [],
   "source": [
    "len(df[(0<=df['age_mon']) & (df['age_mon']<=12)])"
   ]
  },
  {
   "cell_type": "code",
   "execution_count": null,
   "metadata": {},
   "outputs": [],
   "source": [
    "978+733"
   ]
  },
  {
   "cell_type": "code",
   "execution_count": null,
   "metadata": {},
   "outputs": [],
   "source": [
    "monitor_CATS_ID_List = df[(12<df['age_mon']) & (df['age_mon']<=12*18)].cats_id.to_list()\n",
    "len(monitor_CATS_ID_List)"
   ]
  },
  {
   "cell_type": "markdown",
   "metadata": {},
   "source": [
    "## Iterate each file and if the value is not 0, then calcuate z-score"
   ]
  },
  {
   "cell_type": "code",
   "execution_count": null,
   "metadata": {},
   "outputs": [],
   "source": [
    "# write data of interest to the df dataframe - the file describing data characterstics\n",
    "# More columns can be added later\n",
    "monitor_CATS_ID_List = df.cats_id.to_list()\n",
    "for i in range(0,len(numerical_CSV_files)):\n",
    "    print('The file NO. is: ',i)\n",
    "    index = i\n",
    "    # load one file each time\n",
    "    my_csv_file = numerical_CSV_files[index]\n",
    "    print('File path and name:',my_csv_file)\n",
    "    #fsize = round(os.path.getsize(my_csv_file)/float(1024),2)\n",
    "    #print('fsize: ',fsize)\n",
    "    cats_id = int(my_csv_file.split('\\\\')[3].split('_')[0])\n",
    "    print('cats_id: ',cats_id)\n",
    "    file_name  = my_csv_file.split('\\\\')[3]\n",
    "    # If there are  values in the RR data\n",
    "    if cats_id in monitor_CATS_ID_List: \n",
    "        if df[df['cats_id']==cats_id].c_nbpMean.values[0] != 0:\n",
    "            read_df = pd.read_csv(my_csv_file)\n",
    "            read_df = read_df.reset_index(drop=True)\n",
    "            if df[df['cats_id']==cats_id].gender.values[0] == 'Female':\n",
    "                Z_mean = df[df['cats_id']==cats_id].Z_mean_value_FEMALE.values[0]\n",
    "                Z_STD = df[df['cats_id']==cats_id].Z_STD_FEMALE.values[0]\n",
    "            if df[df['cats_id']==cats_id].gender.values[0] == 'Male':\n",
    "                Z_mean = df[df['cats_id']==cats_id].Z_mean_value_MALE.values[0]\n",
    "                Z_STD = df[df['cats_id']==cats_id].Z_STD_MALE.values[0]\n",
    "            for k in range(0,len(read_df)):\n",
    "                DBP_value = read_df.iloc[k]['nnbpMean']\n",
    "                z_DBP_value = (DBP_value-Z_mean)/Z_STD\n",
    "                read_df.at[k,'nnbpMean'] = z_DBP_value\n",
    "            writePath = 'D:\\\\00_UCL_Z-score_Data_Files'\n",
    "            filePath = writePath + '\\\\' + file_name\n",
    "            print('Writing Destination Path:',filePath)\n",
    "            read_df.to_csv(filePath)"
   ]
  }
 ],
 "metadata": {
  "kernelspec": {
   "display_name": "Python 3",
   "language": "python",
   "name": "python3"
  },
  "language_info": {
   "codemirror_mode": {
    "name": "ipython",
    "version": 3
   },
   "file_extension": ".py",
   "mimetype": "text/x-python",
   "name": "python",
   "nbconvert_exporter": "python",
   "pygments_lexer": "ipython3",
   "version": "3.7.6"
  }
 },
 "nbformat": 4,
 "nbformat_minor": 4
}
