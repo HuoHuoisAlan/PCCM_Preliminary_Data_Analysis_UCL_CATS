{
 "cells": [
  {
   "cell_type": "code",
   "execution_count": null,
   "metadata": {},
   "outputs": [],
   "source": [
    "import numpy as np # linear algebra\n",
    "import pandas as pd # data processing, CSV file I/O (e.g. pd.read_csv)\n",
    "import matplotlib.pyplot as plt # plot figures\n",
    "import seaborn as sns # plot figures\n",
    "import plotly.express as px\n",
    "from datetime import datetime\n",
    "from collections import Counter\n",
    "from matplotlib.ticker import MaxNLocator\n",
    "import matplotlib.gridspec as gridspec\n",
    "from statistics import mean, median, stdev, variance\n",
    "import glob\n",
    "import os\n",
    "import math\n",
    "import random\n",
    "import time\n",
    "import warnings\n",
    "warnings.filterwarnings('ignore') "
   ]
  },
  {
   "cell_type": "code",
   "execution_count": null,
   "metadata": {},
   "outputs": [],
   "source": [
    "# local file path\n",
    "path=r'D:\\\\00_UCL_Z-score_Data_Files'"
   ]
  },
  {
   "cell_type": "code",
   "execution_count": null,
   "metadata": {},
   "outputs": [],
   "source": [
    "# read all csv files from path folder\n",
    "numerical_CSV_files = glob.glob(os.path.join(path, \"*.csv\"))"
   ]
  },
  {
   "cell_type": "code",
   "execution_count": null,
   "metadata": {},
   "outputs": [],
   "source": [
    "# print total number of files\n",
    "len(numerical_CSV_files)"
   ]
  },
  {
   "cell_type": "code",
   "execution_count": null,
   "metadata": {},
   "outputs": [],
   "source": [
    "file_path = \"D:\\\\Jupyter-workspace\\\\CATS_UCL_Description_Work\\\\Data_Prepration_and_Extraction\\\\\""
   ]
  },
  {
   "cell_type": "code",
   "execution_count": null,
   "metadata": {},
   "outputs": [],
   "source": [
    "df_EHR = pd.read_csv(file_path+\"df_monitor_patients.csv\")\n",
    "print(len(df_EHR))"
   ]
  },
  {
   "cell_type": "code",
   "execution_count": null,
   "metadata": {},
   "outputs": [],
   "source": [
    "file_path = \"D:\\\\Jupyter-workspace\\\\CATS_UCL_Description_Work\\\\Vital Sign Data and File Check\\\\\""
   ]
  },
  {
   "cell_type": "code",
   "execution_count": null,
   "metadata": {},
   "outputs": [],
   "source": [
    "df_file_check = pd.read_csv(file_path+\"Numerical_Vital_Sign_Files_Summary.csv\")\n",
    "print(len(df_file_check))"
   ]
  },
  {
   "cell_type": "code",
   "execution_count": null,
   "metadata": {},
   "outputs": [],
   "source": [
    "df = df_EHR.merge(df_file_check, left_on='cats_id', right_on='cats_id')\n",
    "df = df.reset_index(drop=True)\n",
    "print(\"size of: \",len(df))"
   ]
  },
  {
   "cell_type": "code",
   "execution_count": null,
   "metadata": {},
   "outputs": [],
   "source": [
    "df.columns"
   ]
  },
  {
   "cell_type": "code",
   "execution_count": null,
   "metadata": {},
   "outputs": [],
   "source": [
    "df.head(3)"
   ]
  },
  {
   "cell_type": "markdown",
   "metadata": {},
   "source": [
    "## Define the z-score mean and STD"
   ]
  },
  {
   "cell_type": "code",
   "execution_count": null,
   "metadata": {},
   "outputs": [],
   "source": [
    "# For 90th centile it is 1.645, for 95th centile is 1.96.\n",
    "# Define z score for 80% confidence level\n",
    "z_90th_centile = 1.645\n",
    "# Define mean value for each age group\n",
    "m_0_3m  = 43\n",
    "m_3_6m    = 41\n",
    "m_6_9m    =  39\n",
    "m_9_12m    = 37\n",
    "m_12_18m  =  35\n",
    "m_18_24m   = 31\n",
    "m_2_3y  = 28\n",
    "m_3_4y     = 25\n",
    "m_4_6y  =  23\n",
    "m_6_8y   =   21\n",
    "m_8_12y =   19\n",
    "m_12_15y = 18\n",
    "m_15_18y   = 16\n",
    "\n",
    "\n",
    "# define STD for each age group\n",
    "STD_0_3m = (57-m_0_3m)/z_90th_centile\n",
    "STD_3_6m = (55-m_3_6m)/z_90th_centile\n",
    "STD_6_9m = (51-m_6_9m)/z_90th_centile\n",
    "STD_9_12m = (50-m_9_12m)/z_90th_centile\n",
    "STD_12_18m = (46-m_12_18m)/z_90th_centile\n",
    "STD_18_24m = (40-m_18_24m)/z_90th_centile\n",
    "STD_2_3y = (34-m_2_3y)/z_90th_centile\n",
    "STD_3_4y= (29-m_3_4y)/z_90th_centile\n",
    "STD_4_6y = (27-m_4_6y)/z_90th_centile\n",
    "STD_6_8y = (24-m_6_8y)/z_90th_centile\n",
    "STD_8_12y = (22-m_8_12y)/z_90th_centile\n",
    "STD_12_15y = (21-m_12_15y)/z_90th_centile\n",
    "STD_15_18y = (19-m_15_18y)/z_90th_centile\n",
    "\n"
   ]
  },
  {
   "cell_type": "markdown",
   "metadata": {},
   "source": [
    "## Split patients to different age groups\n",
    "## Assign mean and STD values to each age group\n",
    "- 0-3,3-6,6-9,9-12,12-18 moths\n",
    "- 18- 24 months, 2 - 3 year, 3-4 year, 4-6 year,6-8 year, 8-12 y, 12-15 y,15-18y"
   ]
  },
  {
   "cell_type": "code",
   "execution_count": null,
   "metadata": {},
   "outputs": [],
   "source": [
    "for i in range(0,len(df)):\n",
    "    age = df.iloc[i]['age_mon']\n",
    "    if 0 <= age and age <= 3:\n",
    "        df.at[i,'Z_age_group'] = \"0-3m\"\n",
    "        df.at[i,'Z_mean_value'] = m_0_3m\n",
    "        df.at[i,'Z_STD'] = STD_0_3m \n",
    "    elif 3 < age and age <= 6:\n",
    "        df.at[i,'Z_age_group'] = \"3-6m\"\n",
    "        df.at[i,'Z_mean_value'] = m_3_6m\n",
    "        df.at[i,'Z_STD'] = STD_3_6m \n",
    "    elif 6 < age and age <= 9:\n",
    "        df.at[i,'Z_age_group'] = \"6-9m\"\n",
    "        df.at[i,'Z_mean_value'] = m_6_9m    \n",
    "        df.at[i,'Z_STD'] = STD_6_9m \n",
    "    elif 9 < age and age <= 12:\n",
    "        df.at[i,'Z_age_group'] = \"9-12m\"\n",
    "        df.at[i,'Z_mean_value'] = m_9_12m\n",
    "        df.at[i,'Z_STD'] = STD_9_12m \n",
    "    elif 12 < age and age <= 18:\n",
    "        df.at[i,'Z_age_group'] = \"12-18m\"\n",
    "        df.at[i,'Z_mean_value'] = m_12_18m  \n",
    "        df.at[i,'Z_STD'] = STD_12_18m\n",
    "    elif 18 < age and age <= 24:\n",
    "        df.at[i,'Z_age_group'] = \"18-24m\"\n",
    "        df.at[i,'Z_mean_value'] = m_18_24m   \n",
    "        df.at[i,'Z_STD'] = STD_18_24m \n",
    "    elif 2*12 < age and age <= 3*12:\n",
    "        df.at[i,'Z_age_group'] = \"2-3y\"\n",
    "        df.at[i,'Z_mean_value'] = m_2_3y  \n",
    "        df.at[i,'Z_STD'] = STD_2_3y\n",
    "    elif 3*12 < age and age <= 4*12:\n",
    "        df.at[i,'Z_age_group'] = \"3-4y\"\n",
    "        df.at[i,'Z_mean_value'] = m_3_4y\n",
    "        df.at[i,'Z_STD'] = STD_3_4y \n",
    "    elif 4*12 < age and age <= 6*12:\n",
    "        df.at[i,'Z_age_group'] = \"4-6y\"\n",
    "        df.at[i,'Z_mean_value'] = m_4_6y\n",
    "        df.at[i,'Z_STD'] = STD_4_6y \n",
    "    elif 6*12 < age and age <= 8*12:\n",
    "        df.at[i,'Z_age_group'] = \"6-8y\"\n",
    "        df.at[i,'Z_mean_value'] = m_6_8y   \n",
    "        df.at[i,'Z_STD'] = STD_6_8y    \n",
    "    elif 8*12 < age and age <= 12*12:\n",
    "        df.at[i,'Z_age_group'] = \"8-12y\"\n",
    "        df.at[i,'Z_mean_value'] = m_8_12y\n",
    "        df.at[i,'Z_STD'] = STD_8_12y\n",
    "    elif 12*12 < age and age <= 15*12:\n",
    "        df.at[i,'Z_age_group'] = \"12-15y\"\n",
    "        df.at[i,'Z_mean_value'] = m_12_15y \n",
    "        df.at[i,'Z_STD'] = STD_12_15y\n",
    "    elif 15*12 < age and age <= 18*12:\n",
    "        df.at[i,'Z_age_group'] = \"15-18y\"\n",
    "        df.at[i,'Z_mean_value'] = m_15_18y   \n",
    "        df.at[i,'Z_STD'] = STD_15_18y   "
   ]
  },
  {
   "cell_type": "code",
   "execution_count": null,
   "metadata": {},
   "outputs": [],
   "source": [
    "df.Z_age_group.value_counts()"
   ]
  },
  {
   "cell_type": "markdown",
   "metadata": {},
   "source": [
    "## Iterate each file and if the value is not 0, then calcuate z-score"
   ]
  },
  {
   "cell_type": "code",
   "execution_count": null,
   "metadata": {},
   "outputs": [],
   "source": [
    "# write data of interest to the df dataframe - the file describing data characterstics\n",
    "# More columns can be added later\n",
    "monitor_CATS_ID_List = df.cats_id.to_list()\n",
    "for i in range(0,len(numerical_CSV_files)):\n",
    "    print('The file NO. is: ',i)\n",
    "    index = i\n",
    "    # load one file each time\n",
    "    my_csv_file = numerical_CSV_files[index]\n",
    "    print('File path and name:',my_csv_file)\n",
    "    #fsize = round(os.path.getsize(my_csv_file)/float(1024),2)\n",
    "    #print('fsize: ',fsize)\n",
    "    cats_id = int(my_csv_file.split('\\\\')[3].split('_')[0])\n",
    "    print('cats_id: ',cats_id)\n",
    "    file_name  = my_csv_file.split('\\\\')[3]\n",
    "    data_df  = pd.read_csv(my_csv_file)\n",
    "    # If there are  values in the RR data\n",
    "    if cats_id in monitor_CATS_ID_List: \n",
    "        if df[df['cats_id']==cats_id].c_ecgRate.values[0] != 0:\n",
    "            read_df = pd.read_csv(my_csv_file)\n",
    "            read_df = read_df.reset_index(drop=True)\n",
    "            Z_mean = df[df['cats_id']==cats_id].Z_mean_value.values[0]\n",
    "            Z_STD = df[df['cats_id']==cats_id].Z_STD.values[0]\n",
    "            for k in range(0,len(read_df)):\n",
    "                RR_value = read_df.iloc[k]['nrespRate']\n",
    "                z_RR_value = (RR_value-Z_mean)/Z_STD\n",
    "                read_df.at[k,'nrespRate'] = z_RR_value\n",
    "            writePath = 'D:\\\\00_UCL_Z-score_Data_Files'\n",
    "            filePath = writePath + '\\\\' + file_name\n",
    "            print('Writing Destination Path:',filePath)\n",
    "            read_df.to_csv(filePath)"
   ]
  }
 ],
 "metadata": {
  "kernelspec": {
   "display_name": "Python 3",
   "language": "python",
   "name": "python3"
  },
  "language_info": {
   "codemirror_mode": {
    "name": "ipython",
    "version": 3
   },
   "file_extension": ".py",
   "mimetype": "text/x-python",
   "name": "python",
   "nbconvert_exporter": "python",
   "pygments_lexer": "ipython3",
   "version": "3.7.6"
  }
 },
 "nbformat": 4,
 "nbformat_minor": 4
}
