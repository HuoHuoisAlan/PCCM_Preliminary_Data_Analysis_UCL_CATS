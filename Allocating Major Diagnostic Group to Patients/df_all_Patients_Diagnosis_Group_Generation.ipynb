{
 "cells": [
  {
   "cell_type": "code",
   "execution_count": 1,
   "metadata": {},
   "outputs": [],
   "source": [
    "import numpy as np # linear algebra\n",
    "import pandas as pd # data processing, CSV file I/O (e.g. pd.read_csv)\n",
    "import matplotlib.pyplot as plt # plot figures\n",
    "import seaborn as sns # plot figures\n",
    "import plotly.express as px\n",
    "from datetime import datetime\n",
    "from collections import Counter\n",
    "from matplotlib.ticker import MaxNLocator\n",
    "import matplotlib.gridspec as gridspec\n",
    "from statistics import mean, median, stdev, variance\n",
    "import glob\n",
    "import os\n",
    "import math\n",
    "import random\n",
    "import time\n",
    "import warnings\n",
    "warnings.filterwarnings('ignore') "
   ]
  },
  {
   "cell_type": "code",
   "execution_count": 2,
   "metadata": {},
   "outputs": [],
   "source": [
    "file_path = \"D:\\\\Jupyter-workspace\\\\PCCM Manuscript_Data Description\\\\a_Extract and Clean_Accepted Transports\\\\\""
   ]
  },
  {
   "cell_type": "code",
   "execution_count": 3,
   "metadata": {},
   "outputs": [
    {
     "name": "stdout",
     "output_type": "stream",
     "text": [
      "6182\n"
     ]
    }
   ],
   "source": [
    "df = pd.read_csv(file_path+\"df_all_patients.csv\")\n",
    "df = df.reset_index(drop=True)\n",
    "print(len(df))"
   ]
  },
  {
   "cell_type": "code",
   "execution_count": 4,
   "metadata": {},
   "outputs": [
    {
     "data": {
      "text/plain": [
       "Index(['Unnamed: 0', 'cats_id', 'gender', 'weight_kg', 'age_mon',\n",
       "       'referral_outcome_datetime', 'referring_unit', 'primary_diagnosis',\n",
       "       'diagnosis_group', 'preexisting_conditions', 'ventilation_status',\n",
       "       'vasoactive_agent_used', 'vasoactive_agent_name', 'inhaled_no',\n",
       "       'arrive_collunit', 'depart_destunit', 'cats_interv', 'local_interv',\n",
       "       'pim3', 'transport_team_in_attendance', 'referral_datetime',\n",
       "       'referral_outcome', 'critical_incident', 'incident_type', 'csv_files',\n",
       "       'min_session_time', 'max_session_time', 'start_datetime',\n",
       "       'end_datetime', 'length_of_stay', 'length_of_icu_stay', 'deceased_flag',\n",
       "       'sex', 'ethnicity_nat_code', 'ethnicity_name', 'age_at_admission',\n",
       "       'age_at_death', 'Destination Unit', 'Destination Care Area',\n",
       "       'Depart Collection Unit', 'Arrive Destination Unit', 'dest_is_GOSH',\n",
       "       'CI_Patient_Equipment_Related', 'CI_Patient_Related',\n",
       "       'CI_Ambulance_Related', 'CI_Equipment_Related',\n",
       "       'CI_Communication_Related', 'age_group', 'stablization', 'journey',\n",
       "       'handover', 'total_transport_time'],\n",
       "      dtype='object')"
      ]
     },
     "execution_count": 4,
     "metadata": {},
     "output_type": "execute_result"
    }
   ],
   "source": [
    "df.columns"
   ]
  },
  {
   "cell_type": "code",
   "execution_count": 5,
   "metadata": {},
   "outputs": [
    {
     "data": {
      "text/html": [
       "<div>\n",
       "<style scoped>\n",
       "    .dataframe tbody tr th:only-of-type {\n",
       "        vertical-align: middle;\n",
       "    }\n",
       "\n",
       "    .dataframe tbody tr th {\n",
       "        vertical-align: top;\n",
       "    }\n",
       "\n",
       "    .dataframe thead th {\n",
       "        text-align: right;\n",
       "    }\n",
       "</style>\n",
       "<table border=\"1\" class=\"dataframe\">\n",
       "  <thead>\n",
       "    <tr style=\"text-align: right;\">\n",
       "      <th></th>\n",
       "      <th>Prim_Diag</th>\n",
       "      <th>Diag_Grp</th>\n",
       "    </tr>\n",
       "  </thead>\n",
       "  <tbody>\n",
       "    <tr>\n",
       "      <th>0</th>\n",
       "      <td>Junctional rhythm</td>\n",
       "      <td>Cardiovascular</td>\n",
       "    </tr>\n",
       "    <tr>\n",
       "      <th>1</th>\n",
       "      <td>Pulmonary artery stenosis</td>\n",
       "      <td>Cardiovascular</td>\n",
       "    </tr>\n",
       "    <tr>\n",
       "      <th>2</th>\n",
       "      <td>Pericardial effusion - acute</td>\n",
       "      <td>Cardiovascular</td>\n",
       "    </tr>\n",
       "  </tbody>\n",
       "</table>\n",
       "</div>"
      ],
      "text/plain": [
       "                      Prim_Diag        Diag_Grp\n",
       "0             Junctional rhythm  Cardiovascular\n",
       "1     Pulmonary artery stenosis  Cardiovascular\n",
       "2  Pericardial effusion - acute  Cardiovascular"
      ]
     },
     "execution_count": 5,
     "metadata": {},
     "output_type": "execute_result"
    }
   ],
   "source": [
    "df_cardio = pd.read_excel(io=r\"Cardiovascular.xlsx\",header=0,index_col=None)\n",
    "df_cardio.head(3)"
   ]
  },
  {
   "cell_type": "code",
   "execution_count": 6,
   "metadata": {},
   "outputs": [
    {
     "data": {
      "text/html": [
       "<div>\n",
       "<style scoped>\n",
       "    .dataframe tbody tr th:only-of-type {\n",
       "        vertical-align: middle;\n",
       "    }\n",
       "\n",
       "    .dataframe tbody tr th {\n",
       "        vertical-align: top;\n",
       "    }\n",
       "\n",
       "    .dataframe thead th {\n",
       "        text-align: right;\n",
       "    }\n",
       "</style>\n",
       "<table border=\"1\" class=\"dataframe\">\n",
       "  <thead>\n",
       "    <tr style=\"text-align: right;\">\n",
       "      <th></th>\n",
       "      <th>Prim_Diag</th>\n",
       "      <th>Diag_Grp</th>\n",
       "    </tr>\n",
       "  </thead>\n",
       "  <tbody>\n",
       "    <tr>\n",
       "      <th>0</th>\n",
       "      <td>Small bowel obstruction</td>\n",
       "      <td>Gastrointestinal</td>\n",
       "    </tr>\n",
       "    <tr>\n",
       "      <th>1</th>\n",
       "      <td>Haematemesis</td>\n",
       "      <td>Gastrointestinal</td>\n",
       "    </tr>\n",
       "    <tr>\n",
       "      <th>2</th>\n",
       "      <td>Bilious vomiting</td>\n",
       "      <td>Gastrointestinal</td>\n",
       "    </tr>\n",
       "  </tbody>\n",
       "</table>\n",
       "</div>"
      ],
      "text/plain": [
       "                 Prim_Diag          Diag_Grp\n",
       "0  Small bowel obstruction  Gastrointestinal\n",
       "1             Haematemesis  Gastrointestinal\n",
       "2         Bilious vomiting  Gastrointestinal"
      ]
     },
     "execution_count": 6,
     "metadata": {},
     "output_type": "execute_result"
    }
   ],
   "source": [
    "df_gastro= pd.read_excel(io=r\"Gastrointestinal.xlsx\",header=0,index_col=None)\n",
    "df_gastro.head(3)"
   ]
  },
  {
   "cell_type": "code",
   "execution_count": 7,
   "metadata": {},
   "outputs": [
    {
     "data": {
      "text/html": [
       "<div>\n",
       "<style scoped>\n",
       "    .dataframe tbody tr th:only-of-type {\n",
       "        vertical-align: middle;\n",
       "    }\n",
       "\n",
       "    .dataframe tbody tr th {\n",
       "        vertical-align: top;\n",
       "    }\n",
       "\n",
       "    .dataframe thead th {\n",
       "        text-align: right;\n",
       "    }\n",
       "</style>\n",
       "<table border=\"1\" class=\"dataframe\">\n",
       "  <thead>\n",
       "    <tr style=\"text-align: right;\">\n",
       "      <th></th>\n",
       "      <th>Prim_Diag</th>\n",
       "      <th>Diag_Grp</th>\n",
       "    </tr>\n",
       "  </thead>\n",
       "  <tbody>\n",
       "    <tr>\n",
       "      <th>0</th>\n",
       "      <td>Sepsis</td>\n",
       "      <td>Infection</td>\n",
       "    </tr>\n",
       "    <tr>\n",
       "      <th>1</th>\n",
       "      <td>Intra-abdominal abscess</td>\n",
       "      <td>Infection</td>\n",
       "    </tr>\n",
       "    <tr>\n",
       "      <th>2</th>\n",
       "      <td>Toxic shock syndrome</td>\n",
       "      <td>Infection</td>\n",
       "    </tr>\n",
       "  </tbody>\n",
       "</table>\n",
       "</div>"
      ],
      "text/plain": [
       "                 Prim_Diag   Diag_Grp\n",
       "0                   Sepsis  Infection\n",
       "1  Intra-abdominal abscess  Infection\n",
       "2     Toxic shock syndrome  Infection"
      ]
     },
     "execution_count": 7,
     "metadata": {},
     "output_type": "execute_result"
    }
   ],
   "source": [
    "df_infection = pd.read_excel(io=r\"Infection.xlsx\",header=0,index_col=None)\n",
    "df_infection.head(3)"
   ]
  },
  {
   "cell_type": "code",
   "execution_count": 8,
   "metadata": {},
   "outputs": [
    {
     "data": {
      "text/html": [
       "<div>\n",
       "<style scoped>\n",
       "    .dataframe tbody tr th:only-of-type {\n",
       "        vertical-align: middle;\n",
       "    }\n",
       "\n",
       "    .dataframe tbody tr th {\n",
       "        vertical-align: top;\n",
       "    }\n",
       "\n",
       "    .dataframe thead th {\n",
       "        text-align: right;\n",
       "    }\n",
       "</style>\n",
       "<table border=\"1\" class=\"dataframe\">\n",
       "  <thead>\n",
       "    <tr style=\"text-align: right;\">\n",
       "      <th></th>\n",
       "      <th>Prim_Diag</th>\n",
       "      <th>Diag_Grp</th>\n",
       "    </tr>\n",
       "  </thead>\n",
       "  <tbody>\n",
       "    <tr>\n",
       "      <th>0</th>\n",
       "      <td>Acute respiratory infections</td>\n",
       "      <td>Respiratory</td>\n",
       "    </tr>\n",
       "    <tr>\n",
       "      <th>1</th>\n",
       "      <td>Pneumonia</td>\n",
       "      <td>Respiratory</td>\n",
       "    </tr>\n",
       "    <tr>\n",
       "      <th>2</th>\n",
       "      <td>Acute lower respiratory tract infection</td>\n",
       "      <td>Respiratory</td>\n",
       "    </tr>\n",
       "  </tbody>\n",
       "</table>\n",
       "</div>"
      ],
      "text/plain": [
       "                                 Prim_Diag     Diag_Grp\n",
       "0             Acute respiratory infections  Respiratory\n",
       "1                                Pneumonia  Respiratory\n",
       "2  Acute lower respiratory tract infection  Respiratory"
      ]
     },
     "execution_count": 8,
     "metadata": {},
     "output_type": "execute_result"
    }
   ],
   "source": [
    "df_respiratory = pd.read_excel(io=r\"Respiratory.xlsx\",header=0,index_col=None)\n",
    "df_respiratory['Diag_Grp'] = 'Respiratory'\n",
    "df_respiratory.head(3)"
   ]
  },
  {
   "cell_type": "code",
   "execution_count": 9,
   "metadata": {},
   "outputs": [
    {
     "data": {
      "text/html": [
       "<div>\n",
       "<style scoped>\n",
       "    .dataframe tbody tr th:only-of-type {\n",
       "        vertical-align: middle;\n",
       "    }\n",
       "\n",
       "    .dataframe tbody tr th {\n",
       "        vertical-align: top;\n",
       "    }\n",
       "\n",
       "    .dataframe thead th {\n",
       "        text-align: right;\n",
       "    }\n",
       "</style>\n",
       "<table border=\"1\" class=\"dataframe\">\n",
       "  <thead>\n",
       "    <tr style=\"text-align: right;\">\n",
       "      <th></th>\n",
       "      <th>Prim_Diag</th>\n",
       "      <th>Diag_Grp</th>\n",
       "    </tr>\n",
       "  </thead>\n",
       "  <tbody>\n",
       "    <tr>\n",
       "      <th>0</th>\n",
       "      <td>Foreign body in oesophagus</td>\n",
       "      <td>Trauma</td>\n",
       "    </tr>\n",
       "    <tr>\n",
       "      <th>1</th>\n",
       "      <td>Foreign body in respiratory tract</td>\n",
       "      <td>Trauma</td>\n",
       "    </tr>\n",
       "    <tr>\n",
       "      <th>2</th>\n",
       "      <td>Abdominal injury</td>\n",
       "      <td>Trauma</td>\n",
       "    </tr>\n",
       "  </tbody>\n",
       "</table>\n",
       "</div>"
      ],
      "text/plain": [
       "                           Prim_Diag Diag_Grp\n",
       "0         Foreign body in oesophagus   Trauma\n",
       "1  Foreign body in respiratory tract   Trauma\n",
       "2                   Abdominal injury   Trauma"
      ]
     },
     "execution_count": 9,
     "metadata": {},
     "output_type": "execute_result"
    }
   ],
   "source": [
    "df_trauma = pd.read_excel(io=r\"Trauma.xlsx\",header=0,index_col=None)\n",
    "df_trauma['Diag_Grp'] = 'Trauma'\n",
    "df_trauma.head(3)"
   ]
  },
  {
   "cell_type": "code",
   "execution_count": 10,
   "metadata": {},
   "outputs": [
    {
     "data": {
      "text/html": [
       "<div>\n",
       "<style scoped>\n",
       "    .dataframe tbody tr th:only-of-type {\n",
       "        vertical-align: middle;\n",
       "    }\n",
       "\n",
       "    .dataframe tbody tr th {\n",
       "        vertical-align: top;\n",
       "    }\n",
       "\n",
       "    .dataframe thead th {\n",
       "        text-align: right;\n",
       "    }\n",
       "</style>\n",
       "<table border=\"1\" class=\"dataframe\">\n",
       "  <thead>\n",
       "    <tr style=\"text-align: right;\">\n",
       "      <th></th>\n",
       "      <th>Prim_Diag</th>\n",
       "      <th>Diag_Grp</th>\n",
       "    </tr>\n",
       "  </thead>\n",
       "  <tbody>\n",
       "    <tr>\n",
       "      <th>0</th>\n",
       "      <td>Dystonia</td>\n",
       "      <td>Neurological</td>\n",
       "    </tr>\n",
       "    <tr>\n",
       "      <th>1</th>\n",
       "      <td>Intracerebral haemorrhage, intraventricular</td>\n",
       "      <td>Neurological</td>\n",
       "    </tr>\n",
       "    <tr>\n",
       "      <th>2</th>\n",
       "      <td>Disturbance of consciousness</td>\n",
       "      <td>Neurological</td>\n",
       "    </tr>\n",
       "  </tbody>\n",
       "</table>\n",
       "</div>"
      ],
      "text/plain": [
       "                                     Prim_Diag      Diag_Grp\n",
       "0                                     Dystonia  Neurological\n",
       "1  Intracerebral haemorrhage, intraventricular  Neurological\n",
       "2                 Disturbance of consciousness  Neurological"
      ]
     },
     "execution_count": 10,
     "metadata": {},
     "output_type": "execute_result"
    }
   ],
   "source": [
    "df_neuro = pd.read_excel(io=r\"Neurological.xlsx\",header=0,index_col=None)\n",
    "df_neuro['Diag_Grp'] = 'Neurological'\n",
    "df_neuro.head(3)"
   ]
  },
  {
   "cell_type": "code",
   "execution_count": 11,
   "metadata": {},
   "outputs": [
    {
     "data": {
      "text/html": [
       "<div>\n",
       "<style scoped>\n",
       "    .dataframe tbody tr th:only-of-type {\n",
       "        vertical-align: middle;\n",
       "    }\n",
       "\n",
       "    .dataframe tbody tr th {\n",
       "        vertical-align: top;\n",
       "    }\n",
       "\n",
       "    .dataframe thead th {\n",
       "        text-align: right;\n",
       "    }\n",
       "</style>\n",
       "<table border=\"1\" class=\"dataframe\">\n",
       "  <thead>\n",
       "    <tr style=\"text-align: right;\">\n",
       "      <th></th>\n",
       "      <th>Prim_Diag</th>\n",
       "      <th>Diag_Grp</th>\n",
       "    </tr>\n",
       "  </thead>\n",
       "  <tbody>\n",
       "    <tr>\n",
       "      <th>0</th>\n",
       "      <td>Caustic alkalis causing toxic effect</td>\n",
       "      <td>Others</td>\n",
       "    </tr>\n",
       "    <tr>\n",
       "      <th>1</th>\n",
       "      <td>Button battery causing toxic effect</td>\n",
       "      <td>Others</td>\n",
       "    </tr>\n",
       "    <tr>\n",
       "      <th>2</th>\n",
       "      <td>Drug overdose</td>\n",
       "      <td>Others</td>\n",
       "    </tr>\n",
       "  </tbody>\n",
       "</table>\n",
       "</div>"
      ],
      "text/plain": [
       "                              Prim_Diag Diag_Grp\n",
       "0  Caustic alkalis causing toxic effect   Others\n",
       "1   Button battery causing toxic effect   Others\n",
       "2                         Drug overdose   Others"
      ]
     },
     "execution_count": 11,
     "metadata": {},
     "output_type": "execute_result"
    }
   ],
   "source": [
    "df_others = pd.read_excel(io=r\"Others.xlsx\",header=0,index_col=None)\n",
    "df_others['Diag_Grp'] = 'Others'\n",
    "df_others.head(3)"
   ]
  },
  {
   "cell_type": "code",
   "execution_count": 12,
   "metadata": {},
   "outputs": [],
   "source": [
    "list_respiratory = df_respiratory['Prim_Diag'].tolist()\n",
    "list_gastro = df_gastro['Prim_Diag'].tolist()\n",
    "list_infection = df_infection['Prim_Diag'].tolist()\n",
    "list_cardio = df_cardio['Prim_Diag'].tolist()\n",
    "list_trauma = df_trauma['Prim_Diag'].tolist()\n",
    "list_others = df_others['Prim_Diag'].tolist()\n",
    "list_neuro = df_neuro['Prim_Diag'].tolist()"
   ]
  },
  {
   "cell_type": "code",
   "execution_count": 13,
   "metadata": {},
   "outputs": [],
   "source": [
    "for i in range(0,len(df)):\n",
    "    if df.iloc[i]['primary_diagnosis'] in list_respiratory:\n",
    "        df.at[i,'Diagnosis_Group'] = 'Respiratory'\n",
    "    elif df.iloc[i]['primary_diagnosis'] in list_gastro:\n",
    "        df.at[i,'Diagnosis_Group'] = 'Gastrointestinal'\n",
    "    elif df.iloc[i]['primary_diagnosis'] in list_infection:\n",
    "        df.at[i,'Diagnosis_Group'] = 'Infection'\n",
    "    elif df.iloc[i]['primary_diagnosis'] in list_cardio:\n",
    "        df.at[i,'Diagnosis_Group'] = 'Cardiovascular'\n",
    "    elif df.iloc[i]['primary_diagnosis'] in list_trauma:\n",
    "        df.at[i,'Diagnosis_Group'] = 'Trauma'\n",
    "    elif df.iloc[i]['primary_diagnosis'] in list_respiratory:\n",
    "        df.at[i,'Diagnosis_Group'] = 'Respiratory'\n",
    "    elif df.iloc[i]['primary_diagnosis'] in list_neuro:\n",
    "        df.at[i,'Diagnosis_Group'] = 'Neurological'\n",
    "    elif df.iloc[i]['primary_diagnosis'] in list_others:\n",
    "        df.at[i,'Diagnosis_Group'] = 'Others'"
   ]
  }
 ],
 "metadata": {
  "kernelspec": {
   "display_name": "Python 3",
   "language": "python",
   "name": "python3"
  },
  "language_info": {
   "codemirror_mode": {
    "name": "ipython",
    "version": 3
   },
   "file_extension": ".py",
   "mimetype": "text/x-python",
   "name": "python",
   "nbconvert_exporter": "python",
   "pygments_lexer": "ipython3",
   "version": "3.7.6"
  }
 },
 "nbformat": 4,
 "nbformat_minor": 4
}
