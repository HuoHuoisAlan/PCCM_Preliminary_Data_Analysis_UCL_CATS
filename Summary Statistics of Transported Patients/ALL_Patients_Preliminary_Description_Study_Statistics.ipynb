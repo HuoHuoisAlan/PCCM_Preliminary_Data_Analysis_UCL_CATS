{
 "cells": [
  {
   "cell_type": "code",
   "execution_count": 1,
   "metadata": {},
   "outputs": [],
   "source": [
    "import numpy as np # linear algebra\n",
    "import pandas as pd # data processing, CSV file I/O (e.g. pd.read_csv)\n",
    "import matplotlib.pyplot as plt # plot figures\n",
    "import seaborn as sns # plot figures\n",
    "import plotly.express as px\n",
    "from datetime import datetime\n",
    "from collections import Counter\n",
    "from matplotlib.ticker import MaxNLocator\n",
    "import matplotlib.gridspec as gridspec\n",
    "from statistics import mean, median, stdev, variance\n",
    "import glob\n",
    "import os\n",
    "import math\n",
    "import random\n",
    "import time\n",
    "import warnings\n",
    "warnings.filterwarnings('ignore') "
   ]
  },
  {
   "cell_type": "code",
   "execution_count": 2,
   "metadata": {},
   "outputs": [],
   "source": [
    "file_path = \"D:\\\\Jupyter-workspace\\\\PCCM Manuscript_Data Description\\\\b_Assign Diagnosis Groups\\\\\""
   ]
  },
  {
   "cell_type": "code",
   "execution_count": 3,
   "metadata": {},
   "outputs": [
    {
     "name": "stdout",
     "output_type": "stream",
     "text": [
      "6182\n"
     ]
    }
   ],
   "source": [
    "df = pd.read_csv(file_path+\"df_all_patients.csv\")\n",
    "print(len(df))"
   ]
  },
  {
   "cell_type": "code",
   "execution_count": null,
   "metadata": {},
   "outputs": [],
   "source": [
    "df.head(2)"
   ]
  },
  {
   "cell_type": "code",
   "execution_count": 5,
   "metadata": {},
   "outputs": [
    {
     "data": {
      "text/plain": [
       "Index(['Unnamed: 0', 'Unnamed: 0.1', 'cats_id', 'gender', 'weight_kg',\n",
       "       'age_mon', 'referral_outcome_datetime', 'referring_unit',\n",
       "       'primary_diagnosis', 'diagnosis_group', 'preexisting_conditions',\n",
       "       'ventilation_status', 'vasoactive_agent_used', 'vasoactive_agent_name',\n",
       "       'inhaled_no', 'arrive_collunit', 'depart_destunit', 'cats_interv',\n",
       "       'local_interv', 'pim3', 'transport_team_in_attendance',\n",
       "       'referral_datetime', 'referral_outcome', 'critical_incident',\n",
       "       'incident_type', 'csv_files', 'min_session_time', 'max_session_time',\n",
       "       'start_datetime', 'end_datetime', 'length_of_stay',\n",
       "       'length_of_icu_stay', 'deceased_flag', 'sex', 'ethnicity_nat_code',\n",
       "       'ethnicity_name', 'age_at_admission', 'age_at_death',\n",
       "       'Destination Unit', 'Destination Care Area', 'Depart Collection Unit',\n",
       "       'Arrive Destination Unit', 'dest_is_GOSH',\n",
       "       'CI_Patient_Equipment_Related', 'CI_Patient_Related',\n",
       "       'CI_Ambulance_Related', 'CI_Equipment_Related',\n",
       "       'CI_Communication_Related', 'age_group', 'stablization', 'journey',\n",
       "       'handover', 'total_transport_time', 'Diagnosis_Group'],\n",
       "      dtype='object')"
      ]
     },
     "execution_count": 5,
     "metadata": {},
     "output_type": "execute_result"
    }
   ],
   "source": [
    "df.columns"
   ]
  },
  {
   "cell_type": "markdown",
   "metadata": {},
   "source": [
    "### Age Distributions"
   ]
  },
  {
   "cell_type": "code",
   "execution_count": 6,
   "metadata": {},
   "outputs": [
    {
     "name": "stdout",
     "output_type": "stream",
     "text": [
      "Newborn       2145\n",
      "Infant        1270\n",
      "Pre-school    1148\n",
      "School         976\n",
      "Adolescens     643\n",
      "Name: age_group, dtype: int64\n"
     ]
    }
   ],
   "source": [
    "print(df['age_group'].value_counts())"
   ]
  },
  {
   "cell_type": "code",
   "execution_count": 7,
   "metadata": {},
   "outputs": [
    {
     "name": "stdout",
     "output_type": "stream",
     "text": [
      "Newborn       34.697509\n",
      "Infant        20.543513\n",
      "Pre-school    18.570042\n",
      "School        15.787771\n",
      "Adolescens    10.401165\n",
      "Name: age_group, dtype: float64\n"
     ]
    }
   ],
   "source": [
    "print(df['age_group'].value_counts()/len(df['age_group'])*100)"
   ]
  },
  {
   "cell_type": "markdown",
   "metadata": {},
   "source": [
    "### Gedner Distribution"
   ]
  },
  {
   "cell_type": "code",
   "execution_count": 8,
   "metadata": {},
   "outputs": [
    {
     "data": {
      "text/plain": [
       "array(['Male', 'Female'], dtype=object)"
      ]
     },
     "execution_count": 8,
     "metadata": {},
     "output_type": "execute_result"
    }
   ],
   "source": [
    "df['gender'].unique()"
   ]
  },
  {
   "cell_type": "code",
   "execution_count": 9,
   "metadata": {},
   "outputs": [
    {
     "name": "stdout",
     "output_type": "stream",
     "text": [
      "2733\n",
      "0.4420899385312197\n"
     ]
    }
   ],
   "source": [
    "gender_F = df[df['gender'] == 'Female']\n",
    "print(len(gender_F))\n",
    "print(len(gender_F)/len(df))"
   ]
  },
  {
   "cell_type": "code",
   "execution_count": 10,
   "metadata": {},
   "outputs": [
    {
     "name": "stdout",
     "output_type": "stream",
     "text": [
      "3449\n",
      "0.5579100614687803\n"
     ]
    }
   ],
   "source": [
    "gender_M = df[df['gender'] == 'Male']\n",
    "print(len(gender_M))\n",
    "print(len(gender_M)/len(df))"
   ]
  },
  {
   "cell_type": "code",
   "execution_count": 11,
   "metadata": {},
   "outputs": [
    {
     "name": "stdout",
     "output_type": "stream",
     "text": [
      "0\n",
      "0.0\n"
     ]
    }
   ],
   "source": [
    "gender_A = df[df['gender'] == 'Ambiguous']\n",
    "print(len(gender_A))\n",
    "print(len(gender_A)/len(df))"
   ]
  },
  {
   "cell_type": "code",
   "execution_count": 12,
   "metadata": {},
   "outputs": [
    {
     "data": {
      "text/plain": [
       "True"
      ]
     },
     "execution_count": 12,
     "metadata": {},
     "output_type": "execute_result"
    }
   ],
   "source": [
    "len(df['gender']) == len(gender_F) + len(gender_M) + len(gender_A)"
   ]
  },
  {
   "cell_type": "markdown",
   "metadata": {},
   "source": [
    "### PIM Distribution"
   ]
  },
  {
   "cell_type": "code",
   "execution_count": 13,
   "metadata": {},
   "outputs": [
    {
     "name": "stdout",
     "output_type": "stream",
     "text": [
      "392\n",
      "0.0634098997088321\n"
     ]
    }
   ],
   "source": [
    "pim_1 = df[df['pim3'] <= 0.01]\n",
    "print(len(pim_1))\n",
    "print(len(pim_1)/len(df))"
   ]
  },
  {
   "cell_type": "code",
   "execution_count": 14,
   "metadata": {},
   "outputs": [
    {
     "name": "stdout",
     "output_type": "stream",
     "text": [
      "2282\n",
      "0.3691362018764154\n"
     ]
    }
   ],
   "source": [
    "pim_1_3 = df[(df['pim3'] > 0.01)&(df['pim3'] <= 0.03)]\n",
    "print(len(pim_1_3))\n",
    "print(len(pim_1_3)/len(df))"
   ]
  },
  {
   "cell_type": "code",
   "execution_count": 15,
   "metadata": {},
   "outputs": [
    {
     "name": "stdout",
     "output_type": "stream",
     "text": [
      "2022\n",
      "0.3270786153348431\n"
     ]
    }
   ],
   "source": [
    "pim_3_5 = df[(df['pim3'] > 0.03)&(df['pim3'] <= 0.05)]\n",
    "print(len(pim_3_5))\n",
    "print(len(pim_3_5)/len(df))"
   ]
  },
  {
   "cell_type": "code",
   "execution_count": 16,
   "metadata": {},
   "outputs": [
    {
     "name": "stdout",
     "output_type": "stream",
     "text": [
      "1016\n",
      "0.16434810740860564\n"
     ]
    }
   ],
   "source": [
    "pim_5_10 = df[(df['pim3'] > 0.05)&(df['pim3'] <= 0.1)]\n",
    "print(len(pim_5_10))\n",
    "print(len(pim_5_10)/len(df))"
   ]
  },
  {
   "cell_type": "code",
   "execution_count": 17,
   "metadata": {},
   "outputs": [
    {
     "name": "stdout",
     "output_type": "stream",
     "text": [
      "194\n",
      "0.031381429957942415\n"
     ]
    }
   ],
   "source": [
    "pim_10_15 = df[(df['pim3'] > 0.1)&(df['pim3'] <= 0.15)]\n",
    "print(len(pim_10_15))\n",
    "print(len(pim_10_15)/len(df))"
   ]
  },
  {
   "cell_type": "code",
   "execution_count": 18,
   "metadata": {},
   "outputs": [
    {
     "name": "stdout",
     "output_type": "stream",
     "text": [
      "171\n",
      "0.027660951148495632\n"
     ]
    }
   ],
   "source": [
    "pim_15_30 = df[(df['pim3'] > 0.15)&(df['pim3'] <= 0.3)]\n",
    "print(len(pim_15_30))\n",
    "print(len(pim_15_30)/len(df))"
   ]
  },
  {
   "cell_type": "code",
   "execution_count": 19,
   "metadata": {},
   "outputs": [
    {
     "name": "stdout",
     "output_type": "stream",
     "text": [
      "105\n",
      "0.01698479456486574\n"
     ]
    }
   ],
   "source": [
    "pim_30_100 = df[(df['pim3'] > 0.3)&(df['pim3'] <= 1)]\n",
    "print(len(pim_30_100))\n",
    "print(len(pim_30_100)/len(df))"
   ]
  },
  {
   "cell_type": "code",
   "execution_count": 20,
   "metadata": {},
   "outputs": [
    {
     "data": {
      "text/plain": [
       "True"
      ]
     },
     "execution_count": 20,
     "metadata": {},
     "output_type": "execute_result"
    }
   ],
   "source": [
    "len(df['pim3']) == len(pim_1) + len(pim_1_3) + len(pim_3_5) + len(pim_5_10)+len(pim_10_15)+len(pim_15_30)+len(pim_30_100)"
   ]
  },
  {
   "cell_type": "markdown",
   "metadata": {},
   "source": [
    "### Weekday transport hours\n",
    "- between 8:00 am to 16:00 pm on weekdays"
   ]
  },
  {
   "cell_type": "code",
   "execution_count": null,
   "metadata": {},
   "outputs": [],
   "source": [
    "df_weekday = df[df['arrive_collunit'].apply(lambda x: time.strptime(x,'%d/%m/%Y %H:%M').tm_wday <5)]\n",
    "df_weekday.head(2)"
   ]
  },
  {
   "cell_type": "code",
   "execution_count": null,
   "metadata": {},
   "outputs": [],
   "source": [
    "df_weekday_8_16 = df_weekday[df_weekday['arrive_collunit'].apply(lambda x: datetime.strptime(x,'%d/%m/%Y %H:%M').hour>=8 and datetime.strptime(x,'%d/%m/%Y %H:%M').hour<=16)]"
   ]
  },
  {
   "cell_type": "code",
   "execution_count": null,
   "metadata": {},
   "outputs": [],
   "source": [
    "df_weekday_8_16.head(2)"
   ]
  },
  {
   "cell_type": "code",
   "execution_count": 24,
   "metadata": {},
   "outputs": [
    {
     "name": "stdout",
     "output_type": "stream",
     "text": [
      "1939\n",
      "0.31365253963118733\n"
     ]
    }
   ],
   "source": [
    "print(len(df_weekday_8_16))\n",
    "print(len(df_weekday_8_16)/len(df))"
   ]
  },
  {
   "cell_type": "markdown",
   "metadata": {},
   "source": [
    "## The following summarizes medication and intervention"
   ]
  },
  {
   "cell_type": "markdown",
   "metadata": {},
   "source": [
    "#### VASO distribution"
   ]
  },
  {
   "cell_type": "code",
   "execution_count": 25,
   "metadata": {},
   "outputs": [
    {
     "name": "stdout",
     "output_type": "stream",
     "text": [
      "1792\n",
      "0.2898738272403753\n"
     ]
    }
   ],
   "source": [
    "vaso_YES = df[df['vasoactive_agent_used'] == 'Yes']\n",
    "print(len(vaso_YES))\n",
    "print(len(vaso_YES)/len(df))"
   ]
  },
  {
   "cell_type": "markdown",
   "metadata": {},
   "source": [
    "#### Inhale distribution"
   ]
  },
  {
   "cell_type": "code",
   "execution_count": 26,
   "metadata": {},
   "outputs": [
    {
     "name": "stdout",
     "output_type": "stream",
     "text": [
      "198\n",
      "0.03202846975088968\n"
     ]
    }
   ],
   "source": [
    "inhale_NO_YES = df[df['inhaled_no'] == 'Yes']\n",
    "print(len(inhale_NO_YES))\n",
    "print(len(inhale_NO_YES)/len(df))"
   ]
  },
  {
   "cell_type": "code",
   "execution_count": 27,
   "metadata": {},
   "outputs": [
    {
     "data": {
      "text/plain": [
       "array(['Self ventilating (RA)', 'Invasive ventilation (ETT)',\n",
       "       'Self ventilating (supplemental oxygen)',\n",
       "       'Self ventilating (high flow nasal cannula)',\n",
       "       'Self ventilating (CPAP)', 'Invasive ventilation (trachy)',\n",
       "       'Self ventilating (BIPAP)', 'No',\n",
       "       'Invasive ventilation (other airway)'], dtype=object)"
      ]
     },
     "execution_count": 27,
     "metadata": {},
     "output_type": "execute_result"
    }
   ],
   "source": [
    "venti_types = df['ventilation_status'].unique()\n",
    "venti_types"
   ]
  },
  {
   "cell_type": "code",
   "execution_count": 28,
   "metadata": {},
   "outputs": [
    {
     "name": "stdout",
     "output_type": "stream",
     "text": [
      "4208\n",
      "0.6806858621805241\n"
     ]
    }
   ],
   "source": [
    "venti_invasive = df[df['ventilation_status'].apply(lambda x: 'Invasive' in x)]\n",
    "print(len(venti_invasive))\n",
    "print(len(venti_invasive)/len(df))"
   ]
  },
  {
   "cell_type": "code",
   "execution_count": 29,
   "metadata": {
    "scrolled": true
   },
   "outputs": [
    {
     "data": {
      "text/plain": [
       "array(['Invasive ventilation (ETT)', 'Invasive ventilation (trachy)',\n",
       "       'Invasive ventilation (other airway)'], dtype=object)"
      ]
     },
     "execution_count": 29,
     "metadata": {},
     "output_type": "execute_result"
    }
   ],
   "source": [
    "venti_invasive['ventilation_status'].unique()"
   ]
  },
  {
   "cell_type": "markdown",
   "metadata": {},
   "source": [
    "## Critical Incident Distribution\n",
    " - There are four types: patient, equipment, ambulance, and communication-related critical incident"
   ]
  },
  {
   "cell_type": "code",
   "execution_count": 34,
   "metadata": {},
   "outputs": [
    {
     "name": "stdout",
     "output_type": "stream",
     "text": [
      "490\n",
      "0.07926237463604012\n"
     ]
    }
   ],
   "source": [
    "# if the value is 0, it means the patient has no CI event.\n",
    "# If the value is 2, it means there are 2 CIs during the patient transport\n",
    "CI_patient = df[df['CI_Patient_Related'] != 0]\n",
    "print(len(CI_patient))\n",
    "print(len(CI_patient)/len(df))"
   ]
  },
  {
   "cell_type": "code",
   "execution_count": 35,
   "metadata": {},
   "outputs": [
    {
     "name": "stdout",
     "output_type": "stream",
     "text": [
      "377\n",
      "0.06098350048527985\n"
     ]
    }
   ],
   "source": [
    "# if the value is 0, it means the patient has no CI event.\n",
    "# If the value is 2, it means there are 2 CIs during the patient transport\n",
    "CI_equipment = df[df['CI_Equipment_Related'] != 0]\n",
    "print(len(CI_equipment))\n",
    "print(len(CI_equipment)/len(df))"
   ]
  },
  {
   "cell_type": "code",
   "execution_count": 36,
   "metadata": {},
   "outputs": [
    {
     "name": "stdout",
     "output_type": "stream",
     "text": [
      "129\n",
      "0.020867033322549338\n"
     ]
    }
   ],
   "source": [
    "# if the value is 0, it means the patient has no CI event.\n",
    "# If the value is 2, it means there are 2 CIs during the patient transport\n",
    "CI_ambulance = df[df['CI_Ambulance_Related'] != 0]\n",
    "print(len(CI_ambulance))\n",
    "print(len(CI_ambulance)/len(df))"
   ]
  },
  {
   "cell_type": "code",
   "execution_count": 37,
   "metadata": {},
   "outputs": [
    {
     "name": "stdout",
     "output_type": "stream",
     "text": [
      "140\n",
      "0.022646392753154318\n"
     ]
    }
   ],
   "source": [
    "# if the value is 0, it means the patient has no CI event.\n",
    "# If the value is 2, it means there are 2 CIs during the patient transport\n",
    "CI_communication = df[df['CI_Communication_Related'] != 0]\n",
    "print(len(CI_communication))\n",
    "print(len(CI_communication)/len(df))"
   ]
  },
  {
   "cell_type": "code",
   "execution_count": 38,
   "metadata": {},
   "outputs": [
    {
     "name": "stdout",
     "output_type": "stream",
     "text": [
      "824\n",
      "0.13329019734713685\n"
     ]
    }
   ],
   "source": [
    "# if the value is 0, it means the patient has no CI event.\n",
    "# If the value is 2, it means there are 2 CIs during the patient transport\n",
    "CI_Patient_Equipment_Related = df[df['CI_Patient_Equipment_Related'] != 0]\n",
    "print(len(CI_Patient_Equipment_Related))\n",
    "print(len(CI_Patient_Equipment_Related)/len(df))"
   ]
  },
  {
   "cell_type": "code",
   "execution_count": 39,
   "metadata": {},
   "outputs": [
    {
     "data": {
      "text/plain": [
       "Respiratory         2220\n",
       "Cardiovascular      1409\n",
       "Neurological        1069\n",
       "Others               625\n",
       "Infection            461\n",
       "Gastrointestinal     321\n",
       "Trauma                76\n",
       "Name: Diagnosis_Group, dtype: int64"
      ]
     },
     "execution_count": 39,
     "metadata": {},
     "output_type": "execute_result"
    }
   ],
   "source": [
    "df['Diagnosis_Group'].value_counts()"
   ]
  },
  {
   "cell_type": "code",
   "execution_count": 40,
   "metadata": {},
   "outputs": [
    {
     "data": {
      "text/plain": [
       "Respiratory         35.910709\n",
       "Cardiovascular      22.791977\n",
       "Neurological        17.292138\n",
       "Others              10.109997\n",
       "Infection            7.457134\n",
       "Gastrointestinal     5.192494\n",
       "Trauma               1.229376\n",
       "Name: Diagnosis_Group, dtype: float64"
      ]
     },
     "execution_count": 40,
     "metadata": {},
     "output_type": "execute_result"
    }
   ],
   "source": [
    "df['Diagnosis_Group'].value_counts()/6182*100"
   ]
  },
  {
   "cell_type": "markdown",
   "metadata": {},
   "source": [
    "# Transport time"
   ]
  },
  {
   "cell_type": "markdown",
   "metadata": {},
   "source": [
    "## Stablisation time"
   ]
  },
  {
   "cell_type": "code",
   "execution_count": 41,
   "metadata": {},
   "outputs": [
    {
     "name": "stdout",
     "output_type": "stream",
     "text": [
      "1175\n",
      "0.19006793917825945\n"
     ]
    }
   ],
   "source": [
    "trans_times_60 = df[df['stablization'] <= 60]\n",
    "print(len(trans_times_60))\n",
    "print(len(trans_times_60)/len(df))"
   ]
  },
  {
   "cell_type": "code",
   "execution_count": 42,
   "metadata": {},
   "outputs": [
    {
     "name": "stdout",
     "output_type": "stream",
     "text": [
      "2893\n",
      "0.4679715302491103\n"
     ]
    }
   ],
   "source": [
    "trans_times_60_120 = df[(df['stablization'] > 60)&(df['stablization'] <=120)]\n",
    "print(len(trans_times_60_120))\n",
    "print(len(trans_times_60_120)/len(df))"
   ]
  },
  {
   "cell_type": "code",
   "execution_count": 43,
   "metadata": {},
   "outputs": [
    {
     "name": "stdout",
     "output_type": "stream",
     "text": [
      "1541\n",
      "0.24927208023293432\n"
     ]
    }
   ],
   "source": [
    "trans_times_120_180 = df[(df['stablization'] > 120)&(df['stablization'] <=180)]\n",
    "print(len(trans_times_120_180))\n",
    "print(len(trans_times_120_180)/len(df))"
   ]
  },
  {
   "cell_type": "code",
   "execution_count": 44,
   "metadata": {},
   "outputs": [
    {
     "name": "stdout",
     "output_type": "stream",
     "text": [
      "573\n",
      "0.09268845033969589\n"
     ]
    }
   ],
   "source": [
    "trans_times_180 = df[df['stablization'] > 180]\n",
    "print(len(trans_times_180))\n",
    "print(len(trans_times_180)/len(df))"
   ]
  },
  {
   "cell_type": "code",
   "execution_count": 45,
   "metadata": {},
   "outputs": [
    {
     "data": {
      "text/plain": [
       "True"
      ]
     },
     "execution_count": 45,
     "metadata": {},
     "output_type": "execute_result"
    }
   ],
   "source": [
    "len(df['stablization']) == len(trans_times_60) + len(trans_times_60_120) + len(trans_times_120_180) + len(trans_times_180)"
   ]
  },
  {
   "cell_type": "markdown",
   "metadata": {},
   "source": [
    "## Overall transport time"
   ]
  },
  {
   "cell_type": "code",
   "execution_count": 46,
   "metadata": {},
   "outputs": [
    {
     "name": "stdout",
     "output_type": "stream",
     "text": [
      "2203\n",
      "0.3563571659657069\n"
     ]
    }
   ],
   "source": [
    "trans_times_180 = df[df['total_transport_time'] <= 180]\n",
    "print(len(trans_times_180))\n",
    "print(len(trans_times_180)/len(df))"
   ]
  },
  {
   "cell_type": "code",
   "execution_count": 47,
   "metadata": {},
   "outputs": [
    {
     "name": "stdout",
     "output_type": "stream",
     "text": [
      "3744\n",
      "0.6056292461986412\n"
     ]
    }
   ],
   "source": [
    "trans_times_180_360 = df[(df['total_transport_time'] > 180)&(df['total_transport_time'] <=360)]\n",
    "print(len(trans_times_180_360))\n",
    "print(len(trans_times_180_360)/len(df))"
   ]
  },
  {
   "cell_type": "code",
   "execution_count": 48,
   "metadata": {},
   "outputs": [
    {
     "name": "stdout",
     "output_type": "stream",
     "text": [
      "235\n",
      "0.03801358783565189\n"
     ]
    }
   ],
   "source": [
    "trans_times_360 = df[df['total_transport_time'] > 360]\n",
    "print(len(trans_times_360))\n",
    "print(len(trans_times_360)/len(df))"
   ]
  },
  {
   "cell_type": "code",
   "execution_count": 49,
   "metadata": {},
   "outputs": [
    {
     "data": {
      "text/plain": [
       "True"
      ]
     },
     "execution_count": 49,
     "metadata": {},
     "output_type": "execute_result"
    }
   ],
   "source": [
    "len(df['total_transport_time']) == len(trans_times_180) + len(trans_times_180_360) + len(trans_times_360)"
   ]
  },
  {
   "cell_type": "code",
   "execution_count": null,
   "metadata": {},
   "outputs": [],
   "source": []
  }
 ],
 "metadata": {
  "kernelspec": {
   "display_name": "Python 3",
   "language": "python",
   "name": "python3"
  },
  "language_info": {
   "codemirror_mode": {
    "name": "ipython",
    "version": 3
   },
   "file_extension": ".py",
   "mimetype": "text/x-python",
   "name": "python",
   "nbconvert_exporter": "python",
   "pygments_lexer": "ipython3",
   "version": "3.7.6"
  }
 },
 "nbformat": 4,
 "nbformat_minor": 4
}
